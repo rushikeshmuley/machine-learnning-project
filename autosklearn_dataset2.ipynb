{
  "nbformat": 4,
  "nbformat_minor": 0,
  "metadata": {
    "colab": {
      "name": "autosklearn_dataset2.ipynb",
      "provenance": [],
      "collapsed_sections": []
    },
    "kernelspec": {
      "name": "python3",
      "display_name": "Python 3"
    },
    "language_info": {
      "name": "python"
    }
  },
  "cells": [
    {
      "cell_type": "code",
      "execution_count": 1,
      "metadata": {
        "colab": {
          "base_uri": "https://localhost:8080/"
        },
        "id": "U8nXAokdmj3S",
        "outputId": "5ca0a21c-a7fe-4437-c44a-8df43de5e7f5"
      },
      "outputs": [
        {
          "output_type": "stream",
          "name": "stdout",
          "text": [
            "Looking in indexes: https://pypi.org/simple, https://us-python.pkg.dev/colab-wheels/public/simple/\n",
            "Requirement already satisfied: auto-sklearn in /usr/local/lib/python3.7/dist-packages (0.14.7)\n",
            "Requirement already satisfied: pyyaml in /usr/local/lib/python3.7/dist-packages (from auto-sklearn) (6.0)\n",
            "Requirement already satisfied: pynisher<0.7,>=0.6.3 in /usr/local/lib/python3.7/dist-packages (from auto-sklearn) (0.6.4)\n",
            "Requirement already satisfied: smac<1.3,>=1.2 in /usr/local/lib/python3.7/dist-packages (from auto-sklearn) (1.2)\n",
            "Requirement already satisfied: dask>=2021.12 in /usr/local/lib/python3.7/dist-packages (from auto-sklearn) (2022.2.0)\n",
            "Requirement already satisfied: numpy>=1.9.0 in /usr/local/lib/python3.7/dist-packages (from auto-sklearn) (1.21.6)\n",
            "Requirement already satisfied: distro in /usr/local/lib/python3.7/dist-packages (from auto-sklearn) (1.7.0)\n",
            "Requirement already satisfied: joblib in /usr/local/lib/python3.7/dist-packages (from auto-sklearn) (1.1.0)\n",
            "Requirement already satisfied: scikit-learn<0.25.0,>=0.24.0 in /usr/local/lib/python3.7/dist-packages (from auto-sklearn) (0.24.2)\n",
            "Requirement already satisfied: scipy>=1.7.0 in /usr/local/lib/python3.7/dist-packages (from auto-sklearn) (1.7.3)\n",
            "Requirement already satisfied: liac-arff in /usr/local/lib/python3.7/dist-packages (from auto-sklearn) (2.5.0)\n",
            "Requirement already satisfied: typing-extensions in /usr/local/lib/python3.7/dist-packages (from auto-sklearn) (4.1.1)\n",
            "Requirement already satisfied: distributed>=2012.12 in /usr/local/lib/python3.7/dist-packages (from auto-sklearn) (2022.2.0)\n",
            "Requirement already satisfied: pandas>=1.0 in /usr/local/lib/python3.7/dist-packages (from auto-sklearn) (1.3.5)\n",
            "Requirement already satisfied: setuptools in /usr/local/lib/python3.7/dist-packages (from auto-sklearn) (57.4.0)\n",
            "Requirement already satisfied: ConfigSpace<0.5,>=0.4.21 in /usr/local/lib/python3.7/dist-packages (from auto-sklearn) (0.4.21)\n",
            "Requirement already satisfied: pyrfr<0.9,>=0.8.1 in /usr/local/lib/python3.7/dist-packages (from auto-sklearn) (0.8.3)\n",
            "Requirement already satisfied: threadpoolctl in /usr/local/lib/python3.7/dist-packages (from auto-sklearn) (3.1.0)\n",
            "Requirement already satisfied: cython in /usr/local/lib/python3.7/dist-packages (from ConfigSpace<0.5,>=0.4.21->auto-sklearn) (0.29.30)\n",
            "Requirement already satisfied: pyparsing in /usr/local/lib/python3.7/dist-packages (from ConfigSpace<0.5,>=0.4.21->auto-sklearn) (3.0.9)\n",
            "Requirement already satisfied: packaging>=20.0 in /usr/local/lib/python3.7/dist-packages (from dask>=2021.12->auto-sklearn) (21.3)\n",
            "Requirement already satisfied: toolz>=0.8.2 in /usr/local/lib/python3.7/dist-packages (from dask>=2021.12->auto-sklearn) (0.11.2)\n",
            "Requirement already satisfied: fsspec>=0.6.0 in /usr/local/lib/python3.7/dist-packages (from dask>=2021.12->auto-sklearn) (2022.5.0)\n",
            "Requirement already satisfied: partd>=0.3.10 in /usr/local/lib/python3.7/dist-packages (from dask>=2021.12->auto-sklearn) (1.2.0)\n",
            "Requirement already satisfied: cloudpickle>=1.1.1 in /usr/local/lib/python3.7/dist-packages (from dask>=2021.12->auto-sklearn) (2.1.0)\n",
            "Requirement already satisfied: msgpack>=0.6.0 in /usr/local/lib/python3.7/dist-packages (from distributed>=2012.12->auto-sklearn) (1.0.4)\n",
            "Requirement already satisfied: sortedcontainers!=2.0.0,!=2.0.1 in /usr/local/lib/python3.7/dist-packages (from distributed>=2012.12->auto-sklearn) (2.4.0)\n",
            "Requirement already satisfied: tblib>=1.6.0 in /usr/local/lib/python3.7/dist-packages (from distributed>=2012.12->auto-sklearn) (1.7.0)\n",
            "Requirement already satisfied: click>=6.6 in /usr/local/lib/python3.7/dist-packages (from distributed>=2012.12->auto-sklearn) (7.1.2)\n",
            "Requirement already satisfied: psutil>=5.0 in /usr/local/lib/python3.7/dist-packages (from distributed>=2012.12->auto-sklearn) (5.4.8)\n",
            "Requirement already satisfied: zict>=0.1.3 in /usr/local/lib/python3.7/dist-packages (from distributed>=2012.12->auto-sklearn) (2.2.0)\n",
            "Requirement already satisfied: tornado>=5 in /usr/local/lib/python3.7/dist-packages (from distributed>=2012.12->auto-sklearn) (5.1.1)\n",
            "Requirement already satisfied: jinja2 in /usr/local/lib/python3.7/dist-packages (from distributed>=2012.12->auto-sklearn) (2.11.3)\n",
            "Requirement already satisfied: pytz>=2017.3 in /usr/local/lib/python3.7/dist-packages (from pandas>=1.0->auto-sklearn) (2022.1)\n",
            "Requirement already satisfied: python-dateutil>=2.7.3 in /usr/local/lib/python3.7/dist-packages (from pandas>=1.0->auto-sklearn) (2.8.2)\n",
            "Requirement already satisfied: locket in /usr/local/lib/python3.7/dist-packages (from partd>=0.3.10->dask>=2021.12->auto-sklearn) (1.0.0)\n",
            "Requirement already satisfied: six>=1.5 in /usr/local/lib/python3.7/dist-packages (from python-dateutil>=2.7.3->pandas>=1.0->auto-sklearn) (1.15.0)\n",
            "Requirement already satisfied: emcee>=3.0.0 in /usr/local/lib/python3.7/dist-packages (from smac<1.3,>=1.2->auto-sklearn) (3.1.2)\n",
            "Requirement already satisfied: heapdict in /usr/local/lib/python3.7/dist-packages (from zict>=0.1.3->distributed>=2012.12->auto-sklearn) (1.0.1)\n",
            "Requirement already satisfied: MarkupSafe>=0.23 in /usr/local/lib/python3.7/dist-packages (from jinja2->distributed>=2012.12->auto-sklearn) (2.0.1)\n"
          ]
        }
      ],
      "source": [
        "pip install auto-sklearn"
      ]
    },
    {
      "cell_type": "code",
      "source": [
        "pip install --upgrade scipy"
      ],
      "metadata": {
        "colab": {
          "base_uri": "https://localhost:8080/"
        },
        "id": "fmA9_mLAmtls",
        "outputId": "19fb432d-d7ed-4132-e17b-e6b1b2d7a7a1"
      },
      "execution_count": 2,
      "outputs": [
        {
          "output_type": "stream",
          "name": "stdout",
          "text": [
            "Looking in indexes: https://pypi.org/simple, https://us-python.pkg.dev/colab-wheels/public/simple/\n",
            "Requirement already satisfied: scipy in /usr/local/lib/python3.7/dist-packages (1.7.3)\n",
            "Requirement already satisfied: numpy<1.23.0,>=1.16.5 in /usr/local/lib/python3.7/dist-packages (from scipy) (1.21.6)\n"
          ]
        }
      ]
    },
    {
      "cell_type": "code",
      "source": [
        "import pandas as pd\n",
        "import numpy as np\n",
        "import matplotlib.pyplot as plt\n",
        "import seaborn as sns\n",
        "from sklearn.model_selection import train_test_split"
      ],
      "metadata": {
        "id": "xz-8RJ3Ym4jO"
      },
      "execution_count": 3,
      "outputs": []
    },
    {
      "cell_type": "code",
      "source": [
        "#loading the dataset\n",
        "df = pd.read_csv(\"Dataset 2.csv\")\n",
        "df.head()\n"
      ],
      "metadata": {
        "colab": {
          "base_uri": "https://localhost:8080/",
          "height": 317
        },
        "id": "JDGiQOSGnA13",
        "outputId": "4953b8ef-f153-49fe-d7e0-874b5c4298ff"
      },
      "execution_count": 4,
      "outputs": [
        {
          "output_type": "execute_result",
          "data": {
            "text/plain": [
              "    COIL_ID       GRADE    COIL_GEN_TIME  FURN_EXIT_TEMP  FM_DOUT_TEMP  \\\n",
              "0  20081459  JVHGLD4AS0   8/10/2020 2:25            1081           869   \n",
              "1  20097626  JVHGLD4AS0   9/14/2020 2:30            1070           838   \n",
              "2  20097722  JVHCM30A00   9/14/2020 6:47            1075           882   \n",
              "3  20098318  JVHST01C00  9/15/2020 11:55            1088           864   \n",
              "4  20098589  JVHWT02A00   9/16/2020 1:14            1061           848   \n",
              "\n",
              "   COILING_TEMP  SLAB_WID  SLAB_LEN  STRIP_EXIT_LEN  STRIP_EXIT_THIK  ...  \\\n",
              "0           680      1125   10750.0           69.81               34  ...   \n",
              "1           662      1245   10640.0           68.63               34  ...   \n",
              "2           611      1040   10750.0           66.08               36  ...   \n",
              "3           603      1260    9000.0           51.94               38  ...   \n",
              "4           650      1265    9811.0           61.23               35  ...   \n",
              "\n",
              "        N     NI      P       S     SI     TI      V  UTS   YS  P_ELONGATION  \n",
              "0  0.0025  0.007  0.018  0.0100  0.004  0.001  0.001  346  294            42  \n",
              "1  0.0022  0.007  0.014  0.0100  0.007  0.001  0.001  365  299            42  \n",
              "2  0.0070  0.008  0.015  0.0030  0.164  0.002  0.001  730  575            21  \n",
              "3  0.0035  0.008  0.021  0.0131  0.099  0.002  0.001  495  397            30  \n",
              "4  0.0032  0.007  0.015  0.0101  0.006  0.001  0.001  379  326            41  \n",
              "\n",
              "[5 rows x 30 columns]"
            ],
            "text/html": [
              "\n",
              "  <div id=\"df-93d56c7f-8a2c-4c4e-8072-c78369551f1b\">\n",
              "    <div class=\"colab-df-container\">\n",
              "      <div>\n",
              "<style scoped>\n",
              "    .dataframe tbody tr th:only-of-type {\n",
              "        vertical-align: middle;\n",
              "    }\n",
              "\n",
              "    .dataframe tbody tr th {\n",
              "        vertical-align: top;\n",
              "    }\n",
              "\n",
              "    .dataframe thead th {\n",
              "        text-align: right;\n",
              "    }\n",
              "</style>\n",
              "<table border=\"1\" class=\"dataframe\">\n",
              "  <thead>\n",
              "    <tr style=\"text-align: right;\">\n",
              "      <th></th>\n",
              "      <th>COIL_ID</th>\n",
              "      <th>GRADE</th>\n",
              "      <th>COIL_GEN_TIME</th>\n",
              "      <th>FURN_EXIT_TEMP</th>\n",
              "      <th>FM_DOUT_TEMP</th>\n",
              "      <th>COILING_TEMP</th>\n",
              "      <th>SLAB_WID</th>\n",
              "      <th>SLAB_LEN</th>\n",
              "      <th>STRIP_EXIT_LEN</th>\n",
              "      <th>STRIP_EXIT_THIK</th>\n",
              "      <th>...</th>\n",
              "      <th>N</th>\n",
              "      <th>NI</th>\n",
              "      <th>P</th>\n",
              "      <th>S</th>\n",
              "      <th>SI</th>\n",
              "      <th>TI</th>\n",
              "      <th>V</th>\n",
              "      <th>UTS</th>\n",
              "      <th>YS</th>\n",
              "      <th>P_ELONGATION</th>\n",
              "    </tr>\n",
              "  </thead>\n",
              "  <tbody>\n",
              "    <tr>\n",
              "      <th>0</th>\n",
              "      <td>20081459</td>\n",
              "      <td>JVHGLD4AS0</td>\n",
              "      <td>8/10/2020 2:25</td>\n",
              "      <td>1081</td>\n",
              "      <td>869</td>\n",
              "      <td>680</td>\n",
              "      <td>1125</td>\n",
              "      <td>10750.0</td>\n",
              "      <td>69.81</td>\n",
              "      <td>34</td>\n",
              "      <td>...</td>\n",
              "      <td>0.0025</td>\n",
              "      <td>0.007</td>\n",
              "      <td>0.018</td>\n",
              "      <td>0.0100</td>\n",
              "      <td>0.004</td>\n",
              "      <td>0.001</td>\n",
              "      <td>0.001</td>\n",
              "      <td>346</td>\n",
              "      <td>294</td>\n",
              "      <td>42</td>\n",
              "    </tr>\n",
              "    <tr>\n",
              "      <th>1</th>\n",
              "      <td>20097626</td>\n",
              "      <td>JVHGLD4AS0</td>\n",
              "      <td>9/14/2020 2:30</td>\n",
              "      <td>1070</td>\n",
              "      <td>838</td>\n",
              "      <td>662</td>\n",
              "      <td>1245</td>\n",
              "      <td>10640.0</td>\n",
              "      <td>68.63</td>\n",
              "      <td>34</td>\n",
              "      <td>...</td>\n",
              "      <td>0.0022</td>\n",
              "      <td>0.007</td>\n",
              "      <td>0.014</td>\n",
              "      <td>0.0100</td>\n",
              "      <td>0.007</td>\n",
              "      <td>0.001</td>\n",
              "      <td>0.001</td>\n",
              "      <td>365</td>\n",
              "      <td>299</td>\n",
              "      <td>42</td>\n",
              "    </tr>\n",
              "    <tr>\n",
              "      <th>2</th>\n",
              "      <td>20097722</td>\n",
              "      <td>JVHCM30A00</td>\n",
              "      <td>9/14/2020 6:47</td>\n",
              "      <td>1075</td>\n",
              "      <td>882</td>\n",
              "      <td>611</td>\n",
              "      <td>1040</td>\n",
              "      <td>10750.0</td>\n",
              "      <td>66.08</td>\n",
              "      <td>36</td>\n",
              "      <td>...</td>\n",
              "      <td>0.0070</td>\n",
              "      <td>0.008</td>\n",
              "      <td>0.015</td>\n",
              "      <td>0.0030</td>\n",
              "      <td>0.164</td>\n",
              "      <td>0.002</td>\n",
              "      <td>0.001</td>\n",
              "      <td>730</td>\n",
              "      <td>575</td>\n",
              "      <td>21</td>\n",
              "    </tr>\n",
              "    <tr>\n",
              "      <th>3</th>\n",
              "      <td>20098318</td>\n",
              "      <td>JVHST01C00</td>\n",
              "      <td>9/15/2020 11:55</td>\n",
              "      <td>1088</td>\n",
              "      <td>864</td>\n",
              "      <td>603</td>\n",
              "      <td>1260</td>\n",
              "      <td>9000.0</td>\n",
              "      <td>51.94</td>\n",
              "      <td>38</td>\n",
              "      <td>...</td>\n",
              "      <td>0.0035</td>\n",
              "      <td>0.008</td>\n",
              "      <td>0.021</td>\n",
              "      <td>0.0131</td>\n",
              "      <td>0.099</td>\n",
              "      <td>0.002</td>\n",
              "      <td>0.001</td>\n",
              "      <td>495</td>\n",
              "      <td>397</td>\n",
              "      <td>30</td>\n",
              "    </tr>\n",
              "    <tr>\n",
              "      <th>4</th>\n",
              "      <td>20098589</td>\n",
              "      <td>JVHWT02A00</td>\n",
              "      <td>9/16/2020 1:14</td>\n",
              "      <td>1061</td>\n",
              "      <td>848</td>\n",
              "      <td>650</td>\n",
              "      <td>1265</td>\n",
              "      <td>9811.0</td>\n",
              "      <td>61.23</td>\n",
              "      <td>35</td>\n",
              "      <td>...</td>\n",
              "      <td>0.0032</td>\n",
              "      <td>0.007</td>\n",
              "      <td>0.015</td>\n",
              "      <td>0.0101</td>\n",
              "      <td>0.006</td>\n",
              "      <td>0.001</td>\n",
              "      <td>0.001</td>\n",
              "      <td>379</td>\n",
              "      <td>326</td>\n",
              "      <td>41</td>\n",
              "    </tr>\n",
              "  </tbody>\n",
              "</table>\n",
              "<p>5 rows × 30 columns</p>\n",
              "</div>\n",
              "      <button class=\"colab-df-convert\" onclick=\"convertToInteractive('df-93d56c7f-8a2c-4c4e-8072-c78369551f1b')\"\n",
              "              title=\"Convert this dataframe to an interactive table.\"\n",
              "              style=\"display:none;\">\n",
              "        \n",
              "  <svg xmlns=\"http://www.w3.org/2000/svg\" height=\"24px\"viewBox=\"0 0 24 24\"\n",
              "       width=\"24px\">\n",
              "    <path d=\"M0 0h24v24H0V0z\" fill=\"none\"/>\n",
              "    <path d=\"M18.56 5.44l.94 2.06.94-2.06 2.06-.94-2.06-.94-.94-2.06-.94 2.06-2.06.94zm-11 1L8.5 8.5l.94-2.06 2.06-.94-2.06-.94L8.5 2.5l-.94 2.06-2.06.94zm10 10l.94 2.06.94-2.06 2.06-.94-2.06-.94-.94-2.06-.94 2.06-2.06.94z\"/><path d=\"M17.41 7.96l-1.37-1.37c-.4-.4-.92-.59-1.43-.59-.52 0-1.04.2-1.43.59L10.3 9.45l-7.72 7.72c-.78.78-.78 2.05 0 2.83L4 21.41c.39.39.9.59 1.41.59.51 0 1.02-.2 1.41-.59l7.78-7.78 2.81-2.81c.8-.78.8-2.07 0-2.86zM5.41 20L4 18.59l7.72-7.72 1.47 1.35L5.41 20z\"/>\n",
              "  </svg>\n",
              "      </button>\n",
              "      \n",
              "  <style>\n",
              "    .colab-df-container {\n",
              "      display:flex;\n",
              "      flex-wrap:wrap;\n",
              "      gap: 12px;\n",
              "    }\n",
              "\n",
              "    .colab-df-convert {\n",
              "      background-color: #E8F0FE;\n",
              "      border: none;\n",
              "      border-radius: 50%;\n",
              "      cursor: pointer;\n",
              "      display: none;\n",
              "      fill: #1967D2;\n",
              "      height: 32px;\n",
              "      padding: 0 0 0 0;\n",
              "      width: 32px;\n",
              "    }\n",
              "\n",
              "    .colab-df-convert:hover {\n",
              "      background-color: #E2EBFA;\n",
              "      box-shadow: 0px 1px 2px rgba(60, 64, 67, 0.3), 0px 1px 3px 1px rgba(60, 64, 67, 0.15);\n",
              "      fill: #174EA6;\n",
              "    }\n",
              "\n",
              "    [theme=dark] .colab-df-convert {\n",
              "      background-color: #3B4455;\n",
              "      fill: #D2E3FC;\n",
              "    }\n",
              "\n",
              "    [theme=dark] .colab-df-convert:hover {\n",
              "      background-color: #434B5C;\n",
              "      box-shadow: 0px 1px 3px 1px rgba(0, 0, 0, 0.15);\n",
              "      filter: drop-shadow(0px 1px 2px rgba(0, 0, 0, 0.3));\n",
              "      fill: #FFFFFF;\n",
              "    }\n",
              "  </style>\n",
              "\n",
              "      <script>\n",
              "        const buttonEl =\n",
              "          document.querySelector('#df-93d56c7f-8a2c-4c4e-8072-c78369551f1b button.colab-df-convert');\n",
              "        buttonEl.style.display =\n",
              "          google.colab.kernel.accessAllowed ? 'block' : 'none';\n",
              "\n",
              "        async function convertToInteractive(key) {\n",
              "          const element = document.querySelector('#df-93d56c7f-8a2c-4c4e-8072-c78369551f1b');\n",
              "          const dataTable =\n",
              "            await google.colab.kernel.invokeFunction('convertToInteractive',\n",
              "                                                     [key], {});\n",
              "          if (!dataTable) return;\n",
              "\n",
              "          const docLinkHtml = 'Like what you see? Visit the ' +\n",
              "            '<a target=\"_blank\" href=https://colab.research.google.com/notebooks/data_table.ipynb>data table notebook</a>'\n",
              "            + ' to learn more about interactive tables.';\n",
              "          element.innerHTML = '';\n",
              "          dataTable['output_type'] = 'display_data';\n",
              "          await google.colab.output.renderOutput(dataTable, element);\n",
              "          const docLink = document.createElement('div');\n",
              "          docLink.innerHTML = docLinkHtml;\n",
              "          element.appendChild(docLink);\n",
              "        }\n",
              "      </script>\n",
              "    </div>\n",
              "  </div>\n",
              "  "
            ]
          },
          "metadata": {},
          "execution_count": 4
        }
      ]
    },
    {
      "cell_type": "code",
      "source": [
        "X=df.drop(['UTS','YS','P_ELONGATION','COIL_ID','GRADE','COIL_GEN_TIME'],axis=1)\n",
        "X.head()"
      ],
      "metadata": {
        "colab": {
          "base_uri": "https://localhost:8080/",
          "height": 300
        },
        "id": "2-XuAkLmnL7Z",
        "outputId": "76f2abee-c11b-4199-87ac-9bd68fd9208e"
      },
      "execution_count": 5,
      "outputs": [
        {
          "output_type": "execute_result",
          "data": {
            "text/plain": [
              "   FURN_EXIT_TEMP  FM_DOUT_TEMP  COILING_TEMP  SLAB_WID  SLAB_LEN  \\\n",
              "0            1081           869           680      1125   10750.0   \n",
              "1            1070           838           662      1245   10640.0   \n",
              "2            1075           882           611      1040   10750.0   \n",
              "3            1088           864           603      1260    9000.0   \n",
              "4            1061           848           650      1265    9811.0   \n",
              "\n",
              "   STRIP_EXIT_LEN  STRIP_EXIT_THIK  FM_EXIT_THIK     AL       B  ...     CU  \\\n",
              "0           69.81               34          1.99  0.048  0.0001  ...  0.007   \n",
              "1           68.63               34          2.05  0.051  0.0001  ...  0.006   \n",
              "2           66.08               36          2.49  0.032  0.0001  ...  0.006   \n",
              "3           51.94               38          4.99  0.053  0.0003  ...  0.010   \n",
              "4           61.23               35          2.31  0.051  0.0001  ...  0.005   \n",
              "\n",
              "     MN     MO       N     NI      P       S     SI     TI      V  \n",
              "0  0.20  0.001  0.0025  0.007  0.018  0.0100  0.004  0.001  0.001  \n",
              "1  0.23  0.001  0.0022  0.007  0.014  0.0100  0.007  0.001  0.001  \n",
              "2  1.35  0.001  0.0070  0.008  0.015  0.0030  0.164  0.002  0.001  \n",
              "3  0.75  0.001  0.0035  0.008  0.021  0.0131  0.099  0.002  0.001  \n",
              "4  0.32  0.001  0.0032  0.007  0.015  0.0101  0.006  0.001  0.001  \n",
              "\n",
              "[5 rows x 24 columns]"
            ],
            "text/html": [
              "\n",
              "  <div id=\"df-23bb900a-296c-4169-8637-d6726cfc887b\">\n",
              "    <div class=\"colab-df-container\">\n",
              "      <div>\n",
              "<style scoped>\n",
              "    .dataframe tbody tr th:only-of-type {\n",
              "        vertical-align: middle;\n",
              "    }\n",
              "\n",
              "    .dataframe tbody tr th {\n",
              "        vertical-align: top;\n",
              "    }\n",
              "\n",
              "    .dataframe thead th {\n",
              "        text-align: right;\n",
              "    }\n",
              "</style>\n",
              "<table border=\"1\" class=\"dataframe\">\n",
              "  <thead>\n",
              "    <tr style=\"text-align: right;\">\n",
              "      <th></th>\n",
              "      <th>FURN_EXIT_TEMP</th>\n",
              "      <th>FM_DOUT_TEMP</th>\n",
              "      <th>COILING_TEMP</th>\n",
              "      <th>SLAB_WID</th>\n",
              "      <th>SLAB_LEN</th>\n",
              "      <th>STRIP_EXIT_LEN</th>\n",
              "      <th>STRIP_EXIT_THIK</th>\n",
              "      <th>FM_EXIT_THIK</th>\n",
              "      <th>AL</th>\n",
              "      <th>B</th>\n",
              "      <th>...</th>\n",
              "      <th>CU</th>\n",
              "      <th>MN</th>\n",
              "      <th>MO</th>\n",
              "      <th>N</th>\n",
              "      <th>NI</th>\n",
              "      <th>P</th>\n",
              "      <th>S</th>\n",
              "      <th>SI</th>\n",
              "      <th>TI</th>\n",
              "      <th>V</th>\n",
              "    </tr>\n",
              "  </thead>\n",
              "  <tbody>\n",
              "    <tr>\n",
              "      <th>0</th>\n",
              "      <td>1081</td>\n",
              "      <td>869</td>\n",
              "      <td>680</td>\n",
              "      <td>1125</td>\n",
              "      <td>10750.0</td>\n",
              "      <td>69.81</td>\n",
              "      <td>34</td>\n",
              "      <td>1.99</td>\n",
              "      <td>0.048</td>\n",
              "      <td>0.0001</td>\n",
              "      <td>...</td>\n",
              "      <td>0.007</td>\n",
              "      <td>0.20</td>\n",
              "      <td>0.001</td>\n",
              "      <td>0.0025</td>\n",
              "      <td>0.007</td>\n",
              "      <td>0.018</td>\n",
              "      <td>0.0100</td>\n",
              "      <td>0.004</td>\n",
              "      <td>0.001</td>\n",
              "      <td>0.001</td>\n",
              "    </tr>\n",
              "    <tr>\n",
              "      <th>1</th>\n",
              "      <td>1070</td>\n",
              "      <td>838</td>\n",
              "      <td>662</td>\n",
              "      <td>1245</td>\n",
              "      <td>10640.0</td>\n",
              "      <td>68.63</td>\n",
              "      <td>34</td>\n",
              "      <td>2.05</td>\n",
              "      <td>0.051</td>\n",
              "      <td>0.0001</td>\n",
              "      <td>...</td>\n",
              "      <td>0.006</td>\n",
              "      <td>0.23</td>\n",
              "      <td>0.001</td>\n",
              "      <td>0.0022</td>\n",
              "      <td>0.007</td>\n",
              "      <td>0.014</td>\n",
              "      <td>0.0100</td>\n",
              "      <td>0.007</td>\n",
              "      <td>0.001</td>\n",
              "      <td>0.001</td>\n",
              "    </tr>\n",
              "    <tr>\n",
              "      <th>2</th>\n",
              "      <td>1075</td>\n",
              "      <td>882</td>\n",
              "      <td>611</td>\n",
              "      <td>1040</td>\n",
              "      <td>10750.0</td>\n",
              "      <td>66.08</td>\n",
              "      <td>36</td>\n",
              "      <td>2.49</td>\n",
              "      <td>0.032</td>\n",
              "      <td>0.0001</td>\n",
              "      <td>...</td>\n",
              "      <td>0.006</td>\n",
              "      <td>1.35</td>\n",
              "      <td>0.001</td>\n",
              "      <td>0.0070</td>\n",
              "      <td>0.008</td>\n",
              "      <td>0.015</td>\n",
              "      <td>0.0030</td>\n",
              "      <td>0.164</td>\n",
              "      <td>0.002</td>\n",
              "      <td>0.001</td>\n",
              "    </tr>\n",
              "    <tr>\n",
              "      <th>3</th>\n",
              "      <td>1088</td>\n",
              "      <td>864</td>\n",
              "      <td>603</td>\n",
              "      <td>1260</td>\n",
              "      <td>9000.0</td>\n",
              "      <td>51.94</td>\n",
              "      <td>38</td>\n",
              "      <td>4.99</td>\n",
              "      <td>0.053</td>\n",
              "      <td>0.0003</td>\n",
              "      <td>...</td>\n",
              "      <td>0.010</td>\n",
              "      <td>0.75</td>\n",
              "      <td>0.001</td>\n",
              "      <td>0.0035</td>\n",
              "      <td>0.008</td>\n",
              "      <td>0.021</td>\n",
              "      <td>0.0131</td>\n",
              "      <td>0.099</td>\n",
              "      <td>0.002</td>\n",
              "      <td>0.001</td>\n",
              "    </tr>\n",
              "    <tr>\n",
              "      <th>4</th>\n",
              "      <td>1061</td>\n",
              "      <td>848</td>\n",
              "      <td>650</td>\n",
              "      <td>1265</td>\n",
              "      <td>9811.0</td>\n",
              "      <td>61.23</td>\n",
              "      <td>35</td>\n",
              "      <td>2.31</td>\n",
              "      <td>0.051</td>\n",
              "      <td>0.0001</td>\n",
              "      <td>...</td>\n",
              "      <td>0.005</td>\n",
              "      <td>0.32</td>\n",
              "      <td>0.001</td>\n",
              "      <td>0.0032</td>\n",
              "      <td>0.007</td>\n",
              "      <td>0.015</td>\n",
              "      <td>0.0101</td>\n",
              "      <td>0.006</td>\n",
              "      <td>0.001</td>\n",
              "      <td>0.001</td>\n",
              "    </tr>\n",
              "  </tbody>\n",
              "</table>\n",
              "<p>5 rows × 24 columns</p>\n",
              "</div>\n",
              "      <button class=\"colab-df-convert\" onclick=\"convertToInteractive('df-23bb900a-296c-4169-8637-d6726cfc887b')\"\n",
              "              title=\"Convert this dataframe to an interactive table.\"\n",
              "              style=\"display:none;\">\n",
              "        \n",
              "  <svg xmlns=\"http://www.w3.org/2000/svg\" height=\"24px\"viewBox=\"0 0 24 24\"\n",
              "       width=\"24px\">\n",
              "    <path d=\"M0 0h24v24H0V0z\" fill=\"none\"/>\n",
              "    <path d=\"M18.56 5.44l.94 2.06.94-2.06 2.06-.94-2.06-.94-.94-2.06-.94 2.06-2.06.94zm-11 1L8.5 8.5l.94-2.06 2.06-.94-2.06-.94L8.5 2.5l-.94 2.06-2.06.94zm10 10l.94 2.06.94-2.06 2.06-.94-2.06-.94-.94-2.06-.94 2.06-2.06.94z\"/><path d=\"M17.41 7.96l-1.37-1.37c-.4-.4-.92-.59-1.43-.59-.52 0-1.04.2-1.43.59L10.3 9.45l-7.72 7.72c-.78.78-.78 2.05 0 2.83L4 21.41c.39.39.9.59 1.41.59.51 0 1.02-.2 1.41-.59l7.78-7.78 2.81-2.81c.8-.78.8-2.07 0-2.86zM5.41 20L4 18.59l7.72-7.72 1.47 1.35L5.41 20z\"/>\n",
              "  </svg>\n",
              "      </button>\n",
              "      \n",
              "  <style>\n",
              "    .colab-df-container {\n",
              "      display:flex;\n",
              "      flex-wrap:wrap;\n",
              "      gap: 12px;\n",
              "    }\n",
              "\n",
              "    .colab-df-convert {\n",
              "      background-color: #E8F0FE;\n",
              "      border: none;\n",
              "      border-radius: 50%;\n",
              "      cursor: pointer;\n",
              "      display: none;\n",
              "      fill: #1967D2;\n",
              "      height: 32px;\n",
              "      padding: 0 0 0 0;\n",
              "      width: 32px;\n",
              "    }\n",
              "\n",
              "    .colab-df-convert:hover {\n",
              "      background-color: #E2EBFA;\n",
              "      box-shadow: 0px 1px 2px rgba(60, 64, 67, 0.3), 0px 1px 3px 1px rgba(60, 64, 67, 0.15);\n",
              "      fill: #174EA6;\n",
              "    }\n",
              "\n",
              "    [theme=dark] .colab-df-convert {\n",
              "      background-color: #3B4455;\n",
              "      fill: #D2E3FC;\n",
              "    }\n",
              "\n",
              "    [theme=dark] .colab-df-convert:hover {\n",
              "      background-color: #434B5C;\n",
              "      box-shadow: 0px 1px 3px 1px rgba(0, 0, 0, 0.15);\n",
              "      filter: drop-shadow(0px 1px 2px rgba(0, 0, 0, 0.3));\n",
              "      fill: #FFFFFF;\n",
              "    }\n",
              "  </style>\n",
              "\n",
              "      <script>\n",
              "        const buttonEl =\n",
              "          document.querySelector('#df-23bb900a-296c-4169-8637-d6726cfc887b button.colab-df-convert');\n",
              "        buttonEl.style.display =\n",
              "          google.colab.kernel.accessAllowed ? 'block' : 'none';\n",
              "\n",
              "        async function convertToInteractive(key) {\n",
              "          const element = document.querySelector('#df-23bb900a-296c-4169-8637-d6726cfc887b');\n",
              "          const dataTable =\n",
              "            await google.colab.kernel.invokeFunction('convertToInteractive',\n",
              "                                                     [key], {});\n",
              "          if (!dataTable) return;\n",
              "\n",
              "          const docLinkHtml = 'Like what you see? Visit the ' +\n",
              "            '<a target=\"_blank\" href=https://colab.research.google.com/notebooks/data_table.ipynb>data table notebook</a>'\n",
              "            + ' to learn more about interactive tables.';\n",
              "          element.innerHTML = '';\n",
              "          dataTable['output_type'] = 'display_data';\n",
              "          await google.colab.output.renderOutput(dataTable, element);\n",
              "          const docLink = document.createElement('div');\n",
              "          docLink.innerHTML = docLinkHtml;\n",
              "          element.appendChild(docLink);\n",
              "        }\n",
              "      </script>\n",
              "    </div>\n",
              "  </div>\n",
              "  "
            ]
          },
          "metadata": {},
          "execution_count": 5
        }
      ]
    },
    {
      "cell_type": "code",
      "source": [
        "y=df[['UTS']].values"
      ],
      "metadata": {
        "id": "JXFIX1pYnqs9"
      },
      "execution_count": 6,
      "outputs": []
    },
    {
      "cell_type": "code",
      "source": [
        "X_train, X_test, y_train, y_test = train_test_split(X, y, test_size=0.2, random_state=42)\n",
        "X_train.shape, X_test.shape,y_train.shape, y_test.shape"
      ],
      "metadata": {
        "colab": {
          "base_uri": "https://localhost:8080/"
        },
        "id": "PXv3JLdVnxVG",
        "outputId": "a5a0a75d-b0a8-4510-e624-5ffd0d1a6ea7"
      },
      "execution_count": 7,
      "outputs": [
        {
          "output_type": "execute_result",
          "data": {
            "text/plain": [
              "((32771, 24), (8193, 24), (32771, 1), (8193, 1))"
            ]
          },
          "metadata": {},
          "execution_count": 7
        }
      ]
    },
    {
      "cell_type": "code",
      "source": [
        "pip install --upgrade scipy"
      ],
      "metadata": {
        "colab": {
          "base_uri": "https://localhost:8080/"
        },
        "id": "l8PWet25oLt6",
        "outputId": "7a8c3ac6-9908-47ec-e559-727a312530f6"
      },
      "execution_count": 8,
      "outputs": [
        {
          "output_type": "stream",
          "name": "stdout",
          "text": [
            "Looking in indexes: https://pypi.org/simple, https://us-python.pkg.dev/colab-wheels/public/simple/\n",
            "Requirement already satisfied: scipy in /usr/local/lib/python3.7/dist-packages (1.7.3)\n",
            "Requirement already satisfied: numpy<1.23.0,>=1.16.5 in /usr/local/lib/python3.7/dist-packages (from scipy) (1.21.6)\n"
          ]
        }
      ]
    },
    {
      "cell_type": "code",
      "source": [
        "\n",
        "import autosklearn.regression\n",
        "automl = autosklearn.regression.AutoSklearnRegressor(\n",
        "time_left_for_this_task=5*60,per_run_time_limit=30)"
      ],
      "metadata": {
        "id": "zuX8HwR0n8Iy"
      },
      "execution_count": 9,
      "outputs": []
    },
    {
      "cell_type": "code",
      "source": [
        "automl.fit(X_train, y_train)\n",
        "from sklearn.metrics import mean_absolute_error\n",
        "from autosklearn.metrics import mean_absolute_error as auto_mean_absolute_error"
      ],
      "metadata": {
        "id": "tJGRjZKMoBN5"
      },
      "execution_count": 10,
      "outputs": []
    },
    {
      "cell_type": "code",
      "source": [
        "# summarize\n",
        "print(automl.sprint_statistics())"
      ],
      "metadata": {
        "colab": {
          "base_uri": "https://localhost:8080/"
        },
        "id": "rDlRLzg1osUz",
        "outputId": "c626cdd1-d9c0-4375-b153-4402eebe9e4f"
      },
      "execution_count": 11,
      "outputs": [
        {
          "output_type": "stream",
          "name": "stdout",
          "text": [
            "auto-sklearn results:\n",
            "  Dataset name: 057efee8-00fe-11ed-8224-0242ac1c0002\n",
            "  Metric: r2\n",
            "  Best validation score: 0.940410\n",
            "  Number of target algorithm runs: 14\n",
            "  Number of successful target algorithm runs: 5\n",
            "  Number of crashed target algorithm runs: 0\n",
            "  Number of target algorithms that exceeded the time limit: 9\n",
            "  Number of target algorithms that exceeded the memory limit: 0\n",
            "\n"
          ]
        }
      ]
    },
    {
      "cell_type": "code",
      "source": [
        "# evaluate the best model\n",
        "y_pred = automl.predict(X_test)\n",
        "mae = mean_absolute_error(y_test, y_pred)\n",
        "print(\"MAE: %.3f\" % mae)"
      ],
      "metadata": {
        "colab": {
          "base_uri": "https://localhost:8080/"
        },
        "id": "u2yJOFEqqhc4",
        "outputId": "4a76f047-f67c-42ad-cfe5-df75dfcd7dba"
      },
      "execution_count": 12,
      "outputs": [
        {
          "output_type": "stream",
          "name": "stdout",
          "text": [
            "MAE: 7.615\n"
          ]
        }
      ]
    },
    {
      "cell_type": "code",
      "source": [
        "plt.figure(figsize=(8,6))\n",
        "plt.scatter(y_test, y_pred, c='blue')\n",
        "p1 = max(max(y_pred), max(y_test))\n",
        "p2 = min(min(y_pred), min(y_test))\n",
        "plt.plot([p1, p2], [p1, p2], 'r-')\n",
        "plt.xlabel('Actual', fontsize=10)\n",
        "plt.ylabel('Predicted', fontsize=10)\n",
        "plt.legend(['Actual', 'Predicted'])\n",
        "plt.axis('equal')\n",
        "plt.show()"
      ],
      "metadata": {
        "colab": {
          "base_uri": "https://localhost:8080/",
          "height": 388
        },
        "id": "u5nL9wulqqDu",
        "outputId": "e834eb36-4b88-4afa-f4d2-31c0df1f44e5"
      },
      "execution_count": 13,
      "outputs": [
        {
          "output_type": "display_data",
          "data": {
            "text/plain": [
              "<Figure size 576x432 with 1 Axes>"
            ],
            "image/png": "[encoded data removed]"
          },
          "metadata": {
            "needs_background": "light"
          }
        }
      ]
    },
    {
      "cell_type": "code",
      "source": [
        ""
      ],
      "metadata": {
        "id": "MuaIxl5Bqvbx"
      },
      "execution_count": null,
      "outputs": []
    }
  ]
}