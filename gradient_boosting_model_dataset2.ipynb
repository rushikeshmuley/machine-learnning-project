{
  "cells": [
    {
      "cell_type": "code",
      "execution_count": null,
      "metadata": {
        "id": "0Hct2rf9TL_6"
      },
      "outputs": [],
      "source": [
        "import pandas as pd\n",
        "import numpy as np\n",
        "import matplotlib.pyplot as plt\n",
        "%matplotlib inline\n",
        "import seaborn as sns"
      ]
    },
    {
      "cell_type": "code",
      "execution_count": null,
      "metadata": {
        "colab": {
          "base_uri": "https://localhost:8080/"
        },
        "id": "tux4Q9k9kHhL",
        "outputId": "8c50c683-2232-4971-aea4-c010ae194b44"
      },
      "outputs": [
        {
          "output_type": "stream",
          "name": "stdout",
          "text": [
            "(40964, 30)\n"
          ]
        }
      ],
      "source": [
        "dataset=pd.read_csv(\"Dataset 2.csv\")\n",
        "# print shape of dataset with rows and columns\n",
        "print(dataset.shape)"
      ]
    },
    {
      "cell_type": "code",
      "execution_count": null,
      "metadata": {
        "colab": {
          "base_uri": "https://localhost:8080/",
          "height": 317
        },
        "id": "AUYM6_-5kxhp",
        "outputId": "eb0f8be6-ffdb-4e7e-8f9a-a47a8ba1deac"
      },
      "outputs": [
        {
          "output_type": "execute_result",
          "data": {
            "text/plain": [
              "    COIL_ID       GRADE    COIL_GEN_TIME  FURN_EXIT_TEMP  FM_DOUT_TEMP  \\\n",
              "0  20081459  JVHGLD4AS0   8/10/2020 2:25            1081           869   \n",
              "1  20097626  JVHGLD4AS0   9/14/2020 2:30            1070           838   \n",
              "2  20097722  JVHCM30A00   9/14/2020 6:47            1075           882   \n",
              "3  20098318  JVHST01C00  9/15/2020 11:55            1088           864   \n",
              "4  20098589  JVHWT02A00   9/16/2020 1:14            1061           848   \n",
              "\n",
              "   COILING_TEMP  SLAB_WID  SLAB_LEN  STRIP_EXIT_LEN  STRIP_EXIT_THIK  ...  \\\n",
              "0           680      1125   10750.0           69.81               34  ...   \n",
              "1           662      1245   10640.0           68.63               34  ...   \n",
              "2           611      1040   10750.0           66.08               36  ...   \n",
              "3           603      1260    9000.0           51.94               38  ...   \n",
              "4           650      1265    9811.0           61.23               35  ...   \n",
              "\n",
              "        N     NI      P       S     SI     TI      V  UTS   YS  P_ELONGATION  \n",
              "0  0.0025  0.007  0.018  0.0100  0.004  0.001  0.001  346  294            42  \n",
              "1  0.0022  0.007  0.014  0.0100  0.007  0.001  0.001  365  299            42  \n",
              "2  0.0070  0.008  0.015  0.0030  0.164  0.002  0.001  730  575            21  \n",
              "3  0.0035  0.008  0.021  0.0131  0.099  0.002  0.001  495  397            30  \n",
              "4  0.0032  0.007  0.015  0.0101  0.006  0.001  0.001  379  326            41  \n",
              "\n",
              "[5 rows x 30 columns]"
            ],
            "text/html": [
              "\n",
              "  <div id=\"df-96bd298f-bb0f-49c5-ac00-803f39ec60a7\">\n",
              "    <div class=\"colab-df-container\">\n",
              "      <div>\n",
              "<style scoped>\n",
              "    .dataframe tbody tr th:only-of-type {\n",
              "        vertical-align: middle;\n",
              "    }\n",
              "\n",
              "    .dataframe tbody tr th {\n",
              "        vertical-align: top;\n",
              "    }\n",
              "\n",
              "    .dataframe thead th {\n",
              "        text-align: right;\n",
              "    }\n",
              "</style>\n",
              "<table border=\"1\" class=\"dataframe\">\n",
              "  <thead>\n",
              "    <tr style=\"text-align: right;\">\n",
              "      <th></th>\n",
              "      <th>COIL_ID</th>\n",
              "      <th>GRADE</th>\n",
              "      <th>COIL_GEN_TIME</th>\n",
              "      <th>FURN_EXIT_TEMP</th>\n",
              "      <th>FM_DOUT_TEMP</th>\n",
              "      <th>COILING_TEMP</th>\n",
              "      <th>SLAB_WID</th>\n",
              "      <th>SLAB_LEN</th>\n",
              "      <th>STRIP_EXIT_LEN</th>\n",
              "      <th>STRIP_EXIT_THIK</th>\n",
              "      <th>...</th>\n",
              "      <th>N</th>\n",
              "      <th>NI</th>\n",
              "      <th>P</th>\n",
              "      <th>S</th>\n",
              "      <th>SI</th>\n",
              "      <th>TI</th>\n",
              "      <th>V</th>\n",
              "      <th>UTS</th>\n",
              "      <th>YS</th>\n",
              "      <th>P_ELONGATION</th>\n",
              "    </tr>\n",
              "  </thead>\n",
              "  <tbody>\n",
              "    <tr>\n",
              "      <th>0</th>\n",
              "      <td>20081459</td>\n",
              "      <td>JVHGLD4AS0</td>\n",
              "      <td>8/10/2020 2:25</td>\n",
              "      <td>1081</td>\n",
              "      <td>869</td>\n",
              "      <td>680</td>\n",
              "      <td>1125</td>\n",
              "      <td>10750.0</td>\n",
              "      <td>69.81</td>\n",
              "      <td>34</td>\n",
              "      <td>...</td>\n",
              "      <td>0.0025</td>\n",
              "      <td>0.007</td>\n",
              "      <td>0.018</td>\n",
              "      <td>0.0100</td>\n",
              "      <td>0.004</td>\n",
              "      <td>0.001</td>\n",
              "      <td>0.001</td>\n",
              "      <td>346</td>\n",
              "      <td>294</td>\n",
              "      <td>42</td>\n",
              "    </tr>\n",
              "    <tr>\n",
              "      <th>1</th>\n",
              "      <td>20097626</td>\n",
              "      <td>JVHGLD4AS0</td>\n",
              "      <td>9/14/2020 2:30</td>\n",
              "      <td>1070</td>\n",
              "      <td>838</td>\n",
              "      <td>662</td>\n",
              "      <td>1245</td>\n",
              "      <td>10640.0</td>\n",
              "      <td>68.63</td>\n",
              "      <td>34</td>\n",
              "      <td>...</td>\n",
              "      <td>0.0022</td>\n",
              "      <td>0.007</td>\n",
              "      <td>0.014</td>\n",
              "      <td>0.0100</td>\n",
              "      <td>0.007</td>\n",
              "      <td>0.001</td>\n",
              "      <td>0.001</td>\n",
              "      <td>365</td>\n",
              "      <td>299</td>\n",
              "      <td>42</td>\n",
              "    </tr>\n",
              "    <tr>\n",
              "      <th>2</th>\n",
              "      <td>20097722</td>\n",
              "      <td>JVHCM30A00</td>\n",
              "      <td>9/14/2020 6:47</td>\n",
              "      <td>1075</td>\n",
              "      <td>882</td>\n",
              "      <td>611</td>\n",
              "      <td>1040</td>\n",
              "      <td>10750.0</td>\n",
              "      <td>66.08</td>\n",
              "      <td>36</td>\n",
              "      <td>...</td>\n",
              "      <td>0.0070</td>\n",
              "      <td>0.008</td>\n",
              "      <td>0.015</td>\n",
              "      <td>0.0030</td>\n",
              "      <td>0.164</td>\n",
              "      <td>0.002</td>\n",
              "      <td>0.001</td>\n",
              "      <td>730</td>\n",
              "      <td>575</td>\n",
              "      <td>21</td>\n",
              "    </tr>\n",
              "    <tr>\n",
              "      <th>3</th>\n",
              "      <td>20098318</td>\n",
              "      <td>JVHST01C00</td>\n",
              "      <td>9/15/2020 11:55</td>\n",
              "      <td>1088</td>\n",
              "      <td>864</td>\n",
              "      <td>603</td>\n",
              "      <td>1260</td>\n",
              "      <td>9000.0</td>\n",
              "      <td>51.94</td>\n",
              "      <td>38</td>\n",
              "      <td>...</td>\n",
              "      <td>0.0035</td>\n",
              "      <td>0.008</td>\n",
              "      <td>0.021</td>\n",
              "      <td>0.0131</td>\n",
              "      <td>0.099</td>\n",
              "      <td>0.002</td>\n",
              "      <td>0.001</td>\n",
              "      <td>495</td>\n",
              "      <td>397</td>\n",
              "      <td>30</td>\n",
              "    </tr>\n",
              "    <tr>\n",
              "      <th>4</th>\n",
              "      <td>20098589</td>\n",
              "      <td>JVHWT02A00</td>\n",
              "      <td>9/16/2020 1:14</td>\n",
              "      <td>1061</td>\n",
              "      <td>848</td>\n",
              "      <td>650</td>\n",
              "      <td>1265</td>\n",
              "      <td>9811.0</td>\n",
              "      <td>61.23</td>\n",
              "      <td>35</td>\n",
              "      <td>...</td>\n",
              "      <td>0.0032</td>\n",
              "      <td>0.007</td>\n",
              "      <td>0.015</td>\n",
              "      <td>0.0101</td>\n",
              "      <td>0.006</td>\n",
              "      <td>0.001</td>\n",
              "      <td>0.001</td>\n",
              "      <td>379</td>\n",
              "      <td>326</td>\n",
              "      <td>41</td>\n",
              "    </tr>\n",
              "  </tbody>\n",
              "</table>\n",
              "<p>5 rows × 30 columns</p>\n",
              "</div>\n",
              "      <button class=\"colab-df-convert\" onclick=\"convertToInteractive('df-96bd298f-bb0f-49c5-ac00-803f39ec60a7')\"\n",
              "              title=\"Convert this dataframe to an interactive table.\"\n",
              "              style=\"display:none;\">\n",
              "        \n",
              "  <svg xmlns=\"http://www.w3.org/2000/svg\" height=\"24px\"viewBox=\"0 0 24 24\"\n",
              "       width=\"24px\">\n",
              "    <path d=\"M0 0h24v24H0V0z\" fill=\"none\"/>\n",
              "    <path d=\"M18.56 5.44l.94 2.06.94-2.06 2.06-.94-2.06-.94-.94-2.06-.94 2.06-2.06.94zm-11 1L8.5 8.5l.94-2.06 2.06-.94-2.06-.94L8.5 2.5l-.94 2.06-2.06.94zm10 10l.94 2.06.94-2.06 2.06-.94-2.06-.94-.94-2.06-.94 2.06-2.06.94z\"/><path d=\"M17.41 7.96l-1.37-1.37c-.4-.4-.92-.59-1.43-.59-.52 0-1.04.2-1.43.59L10.3 9.45l-7.72 7.72c-.78.78-.78 2.05 0 2.83L4 21.41c.39.39.9.59 1.41.59.51 0 1.02-.2 1.41-.59l7.78-7.78 2.81-2.81c.8-.78.8-2.07 0-2.86zM5.41 20L4 18.59l7.72-7.72 1.47 1.35L5.41 20z\"/>\n",
              "  </svg>\n",
              "      </button>\n",
              "      \n",
              "  <style>\n",
              "    .colab-df-container {\n",
              "      display:flex;\n",
              "      flex-wrap:wrap;\n",
              "      gap: 12px;\n",
              "    }\n",
              "\n",
              "    .colab-df-convert {\n",
              "      background-color: #E8F0FE;\n",
              "      border: none;\n",
              "      border-radius: 50%;\n",
              "      cursor: pointer;\n",
              "      display: none;\n",
              "      fill: #1967D2;\n",
              "      height: 32px;\n",
              "      padding: 0 0 0 0;\n",
              "      width: 32px;\n",
              "    }\n",
              "\n",
              "    .colab-df-convert:hover {\n",
              "      background-color: #E2EBFA;\n",
              "      box-shadow: 0px 1px 2px rgba(60, 64, 67, 0.3), 0px 1px 3px 1px rgba(60, 64, 67, 0.15);\n",
              "      fill: #174EA6;\n",
              "    }\n",
              "\n",
              "    [theme=dark] .colab-df-convert {\n",
              "      background-color: #3B4455;\n",
              "      fill: #D2E3FC;\n",
              "    }\n",
              "\n",
              "    [theme=dark] .colab-df-convert:hover {\n",
              "      background-color: #434B5C;\n",
              "      box-shadow: 0px 1px 3px 1px rgba(0, 0, 0, 0.15);\n",
              "      filter: drop-shadow(0px 1px 2px rgba(0, 0, 0, 0.3));\n",
              "      fill: #FFFFFF;\n",
              "    }\n",
              "  </style>\n",
              "\n",
              "      <script>\n",
              "        const buttonEl =\n",
              "          document.querySelector('#df-96bd298f-bb0f-49c5-ac00-803f39ec60a7 button.colab-df-convert');\n",
              "        buttonEl.style.display =\n",
              "          google.colab.kernel.accessAllowed ? 'block' : 'none';\n",
              "\n",
              "        async function convertToInteractive(key) {\n",
              "          const element = document.querySelector('#df-96bd298f-bb0f-49c5-ac00-803f39ec60a7');\n",
              "          const dataTable =\n",
              "            await google.colab.kernel.invokeFunction('convertToInteractive',\n",
              "                                                     [key], {});\n",
              "          if (!dataTable) return;\n",
              "\n",
              "          const docLinkHtml = 'Like what you see? Visit the ' +\n",
              "            '<a target=\"_blank\" href=https://colab.research.google.com/notebooks/data_table.ipynb>data table notebook</a>'\n",
              "            + ' to learn more about interactive tables.';\n",
              "          element.innerHTML = '';\n",
              "          dataTable['output_type'] = 'display_data';\n",
              "          await google.colab.output.renderOutput(dataTable, element);\n",
              "          const docLink = document.createElement('div');\n",
              "          docLink.innerHTML = docLinkHtml;\n",
              "          element.appendChild(docLink);\n",
              "        }\n",
              "      </script>\n",
              "    </div>\n",
              "  </div>\n",
              "  "
            ]
          },
          "metadata": {},
          "execution_count": 3
        }
      ],
      "source": [
        "# print the top5 records \n",
        "dataset.head()"
      ]
    },
    {
      "cell_type": "code",
      "execution_count": null,
      "metadata": {
        "colab": {
          "base_uri": "https://localhost:8080/",
          "height": 488
        },
        "id": "lOoGz1LNk1fR",
        "outputId": "03ad30fd-0814-4384-f1e8-bc167c270ba6"
      },
      "outputs": [
        {
          "output_type": "execute_result",
          "data": {
            "text/plain": [
              "       COIL_ID  GRADE  COIL_GEN_TIME  FURN_EXIT_TEMP  FM_DOUT_TEMP  \\\n",
              "0        False  False          False           False         False   \n",
              "1        False  False          False           False         False   \n",
              "2        False  False          False           False         False   \n",
              "3        False  False          False           False         False   \n",
              "4        False  False          False           False         False   \n",
              "...        ...    ...            ...             ...           ...   \n",
              "40959    False  False          False           False         False   \n",
              "40960    False  False          False           False         False   \n",
              "40961    False  False          False           False         False   \n",
              "40962    False  False          False           False         False   \n",
              "40963    False  False          False           False         False   \n",
              "\n",
              "       COILING_TEMP  SLAB_WID  SLAB_LEN  STRIP_EXIT_LEN  STRIP_EXIT_THIK  ...  \\\n",
              "0             False     False     False           False            False  ...   \n",
              "1             False     False     False           False            False  ...   \n",
              "2             False     False     False           False            False  ...   \n",
              "3             False     False     False           False            False  ...   \n",
              "4             False     False     False           False            False  ...   \n",
              "...             ...       ...       ...             ...              ...  ...   \n",
              "40959         False     False     False           False            False  ...   \n",
              "40960         False     False     False           False            False  ...   \n",
              "40961         False     False     False           False            False  ...   \n",
              "40962         False     False     False           False            False  ...   \n",
              "40963         False     False     False           False            False  ...   \n",
              "\n",
              "           N     NI      P      S     SI     TI      V    UTS     YS  \\\n",
              "0      False  False  False  False  False  False  False  False  False   \n",
              "1      False  False  False  False  False  False  False  False  False   \n",
              "2      False  False  False  False  False  False  False  False  False   \n",
              "3      False  False  False  False  False  False  False  False  False   \n",
              "4      False  False  False  False  False  False  False  False  False   \n",
              "...      ...    ...    ...    ...    ...    ...    ...    ...    ...   \n",
              "40959  False  False  False  False  False  False  False  False  False   \n",
              "40960  False  False  False  False  False  False  False  False  False   \n",
              "40961  False  False  False  False  False  False  False  False  False   \n",
              "40962  False  False  False  False  False  False  False  False  False   \n",
              "40963  False  False  False  False  False  False  False  False  False   \n",
              "\n",
              "       P_ELONGATION  \n",
              "0             False  \n",
              "1             False  \n",
              "2             False  \n",
              "3             False  \n",
              "4             False  \n",
              "...             ...  \n",
              "40959         False  \n",
              "40960         False  \n",
              "40961         False  \n",
              "40962         False  \n",
              "40963         False  \n",
              "\n",
              "[40964 rows x 30 columns]"
            ],
            "text/html": [
              "\n",
              "  <div id=\"df-f4dfcdbe-2d9e-474e-9cb1-d9e472c87fe9\">\n",
              "    <div class=\"colab-df-container\">\n",
              "      <div>\n",
              "<style scoped>\n",
              "    .dataframe tbody tr th:only-of-type {\n",
              "        vertical-align: middle;\n",
              "    }\n",
              "\n",
              "    .dataframe tbody tr th {\n",
              "        vertical-align: top;\n",
              "    }\n",
              "\n",
              "    .dataframe thead th {\n",
              "        text-align: right;\n",
              "    }\n",
              "</style>\n",
              "<table border=\"1\" class=\"dataframe\">\n",
              "  <thead>\n",
              "    <tr style=\"text-align: right;\">\n",
              "      <th></th>\n",
              "      <th>COIL_ID</th>\n",
              "      <th>GRADE</th>\n",
              "      <th>COIL_GEN_TIME</th>\n",
              "      <th>FURN_EXIT_TEMP</th>\n",
              "      <th>FM_DOUT_TEMP</th>\n",
              "      <th>COILING_TEMP</th>\n",
              "      <th>SLAB_WID</th>\n",
              "      <th>SLAB_LEN</th>\n",
              "      <th>STRIP_EXIT_LEN</th>\n",
              "      <th>STRIP_EXIT_THIK</th>\n",
              "      <th>...</th>\n",
              "      <th>N</th>\n",
              "      <th>NI</th>\n",
              "      <th>P</th>\n",
              "      <th>S</th>\n",
              "      <th>SI</th>\n",
              "      <th>TI</th>\n",
              "      <th>V</th>\n",
              "      <th>UTS</th>\n",
              "      <th>YS</th>\n",
              "      <th>P_ELONGATION</th>\n",
              "    </tr>\n",
              "  </thead>\n",
              "  <tbody>\n",
              "    <tr>\n",
              "      <th>0</th>\n",
              "      <td>False</td>\n",
              "      <td>False</td>\n",
              "      <td>False</td>\n",
              "      <td>False</td>\n",
              "      <td>False</td>\n",
              "      <td>False</td>\n",
              "      <td>False</td>\n",
              "      <td>False</td>\n",
              "      <td>False</td>\n",
              "      <td>False</td>\n",
              "      <td>...</td>\n",
              "      <td>False</td>\n",
              "      <td>False</td>\n",
              "      <td>False</td>\n",
              "      <td>False</td>\n",
              "      <td>False</td>\n",
              "      <td>False</td>\n",
              "      <td>False</td>\n",
              "      <td>False</td>\n",
              "      <td>False</td>\n",
              "      <td>False</td>\n",
              "    </tr>\n",
              "    <tr>\n",
              "      <th>1</th>\n",
              "      <td>False</td>\n",
              "      <td>False</td>\n",
              "      <td>False</td>\n",
              "      <td>False</td>\n",
              "      <td>False</td>\n",
              "      <td>False</td>\n",
              "      <td>False</td>\n",
              "      <td>False</td>\n",
              "      <td>False</td>\n",
              "      <td>False</td>\n",
              "      <td>...</td>\n",
              "      <td>False</td>\n",
              "      <td>False</td>\n",
              "      <td>False</td>\n",
              "      <td>False</td>\n",
              "      <td>False</td>\n",
              "      <td>False</td>\n",
              "      <td>False</td>\n",
              "      <td>False</td>\n",
              "      <td>False</td>\n",
              "      <td>False</td>\n",
              "    </tr>\n",
              "    <tr>\n",
              "      <th>2</th>\n",
              "      <td>False</td>\n",
              "      <td>False</td>\n",
              "      <td>False</td>\n",
              "      <td>False</td>\n",
              "      <td>False</td>\n",
              "      <td>False</td>\n",
              "      <td>False</td>\n",
              "      <td>False</td>\n",
              "      <td>False</td>\n",
              "      <td>False</td>\n",
              "      <td>...</td>\n",
              "      <td>False</td>\n",
              "      <td>False</td>\n",
              "      <td>False</td>\n",
              "      <td>False</td>\n",
              "      <td>False</td>\n",
              "      <td>False</td>\n",
              "      <td>False</td>\n",
              "      <td>False</td>\n",
              "      <td>False</td>\n",
              "      <td>False</td>\n",
              "    </tr>\n",
              "    <tr>\n",
              "      <th>3</th>\n",
              "      <td>False</td>\n",
              "      <td>False</td>\n",
              "      <td>False</td>\n",
              "      <td>False</td>\n",
              "      <td>False</td>\n",
              "      <td>False</td>\n",
              "      <td>False</td>\n",
              "      <td>False</td>\n",
              "      <td>False</td>\n",
              "      <td>False</td>\n",
              "      <td>...</td>\n",
              "      <td>False</td>\n",
              "      <td>False</td>\n",
              "      <td>False</td>\n",
              "      <td>False</td>\n",
              "      <td>False</td>\n",
              "      <td>False</td>\n",
              "      <td>False</td>\n",
              "      <td>False</td>\n",
              "      <td>False</td>\n",
              "      <td>False</td>\n",
              "    </tr>\n",
              "    <tr>\n",
              "      <th>4</th>\n",
              "      <td>False</td>\n",
              "      <td>False</td>\n",
              "      <td>False</td>\n",
              "      <td>False</td>\n",
              "      <td>False</td>\n",
              "      <td>False</td>\n",
              "      <td>False</td>\n",
              "      <td>False</td>\n",
              "      <td>False</td>\n",
              "      <td>False</td>\n",
              "      <td>...</td>\n",
              "      <td>False</td>\n",
              "      <td>False</td>\n",
              "      <td>False</td>\n",
              "      <td>False</td>\n",
              "      <td>False</td>\n",
              "      <td>False</td>\n",
              "      <td>False</td>\n",
              "      <td>False</td>\n",
              "      <td>False</td>\n",
              "      <td>False</td>\n",
              "    </tr>\n",
              "    <tr>\n",
              "      <th>...</th>\n",
              "      <td>...</td>\n",
              "      <td>...</td>\n",
              "      <td>...</td>\n",
              "      <td>...</td>\n",
              "      <td>...</td>\n",
              "      <td>...</td>\n",
              "      <td>...</td>\n",
              "      <td>...</td>\n",
              "      <td>...</td>\n",
              "      <td>...</td>\n",
              "      <td>...</td>\n",
              "      <td>...</td>\n",
              "      <td>...</td>\n",
              "      <td>...</td>\n",
              "      <td>...</td>\n",
              "      <td>...</td>\n",
              "      <td>...</td>\n",
              "      <td>...</td>\n",
              "      <td>...</td>\n",
              "      <td>...</td>\n",
              "      <td>...</td>\n",
              "    </tr>\n",
              "    <tr>\n",
              "      <th>40959</th>\n",
              "      <td>False</td>\n",
              "      <td>False</td>\n",
              "      <td>False</td>\n",
              "      <td>False</td>\n",
              "      <td>False</td>\n",
              "      <td>False</td>\n",
              "      <td>False</td>\n",
              "      <td>False</td>\n",
              "      <td>False</td>\n",
              "      <td>False</td>\n",
              "      <td>...</td>\n",
              "      <td>False</td>\n",
              "      <td>False</td>\n",
              "      <td>False</td>\n",
              "      <td>False</td>\n",
              "      <td>False</td>\n",
              "      <td>False</td>\n",
              "      <td>False</td>\n",
              "      <td>False</td>\n",
              "      <td>False</td>\n",
              "      <td>False</td>\n",
              "    </tr>\n",
              "    <tr>\n",
              "      <th>40960</th>\n",
              "      <td>False</td>\n",
              "      <td>False</td>\n",
              "      <td>False</td>\n",
              "      <td>False</td>\n",
              "      <td>False</td>\n",
              "      <td>False</td>\n",
              "      <td>False</td>\n",
              "      <td>False</td>\n",
              "      <td>False</td>\n",
              "      <td>False</td>\n",
              "      <td>...</td>\n",
              "      <td>False</td>\n",
              "      <td>False</td>\n",
              "      <td>False</td>\n",
              "      <td>False</td>\n",
              "      <td>False</td>\n",
              "      <td>False</td>\n",
              "      <td>False</td>\n",
              "      <td>False</td>\n",
              "      <td>False</td>\n",
              "      <td>False</td>\n",
              "    </tr>\n",
              "    <tr>\n",
              "      <th>40961</th>\n",
              "      <td>False</td>\n",
              "      <td>False</td>\n",
              "      <td>False</td>\n",
              "      <td>False</td>\n",
              "      <td>False</td>\n",
              "      <td>False</td>\n",
              "      <td>False</td>\n",
              "      <td>False</td>\n",
              "      <td>False</td>\n",
              "      <td>False</td>\n",
              "      <td>...</td>\n",
              "      <td>False</td>\n",
              "      <td>False</td>\n",
              "      <td>False</td>\n",
              "      <td>False</td>\n",
              "      <td>False</td>\n",
              "      <td>False</td>\n",
              "      <td>False</td>\n",
              "      <td>False</td>\n",
              "      <td>False</td>\n",
              "      <td>False</td>\n",
              "    </tr>\n",
              "    <tr>\n",
              "      <th>40962</th>\n",
              "      <td>False</td>\n",
              "      <td>False</td>\n",
              "      <td>False</td>\n",
              "      <td>False</td>\n",
              "      <td>False</td>\n",
              "      <td>False</td>\n",
              "      <td>False</td>\n",
              "      <td>False</td>\n",
              "      <td>False</td>\n",
              "      <td>False</td>\n",
              "      <td>...</td>\n",
              "      <td>False</td>\n",
              "      <td>False</td>\n",
              "      <td>False</td>\n",
              "      <td>False</td>\n",
              "      <td>False</td>\n",
              "      <td>False</td>\n",
              "      <td>False</td>\n",
              "      <td>False</td>\n",
              "      <td>False</td>\n",
              "      <td>False</td>\n",
              "    </tr>\n",
              "    <tr>\n",
              "      <th>40963</th>\n",
              "      <td>False</td>\n",
              "      <td>False</td>\n",
              "      <td>False</td>\n",
              "      <td>False</td>\n",
              "      <td>False</td>\n",
              "      <td>False</td>\n",
              "      <td>False</td>\n",
              "      <td>False</td>\n",
              "      <td>False</td>\n",
              "      <td>False</td>\n",
              "      <td>...</td>\n",
              "      <td>False</td>\n",
              "      <td>False</td>\n",
              "      <td>False</td>\n",
              "      <td>False</td>\n",
              "      <td>False</td>\n",
              "      <td>False</td>\n",
              "      <td>False</td>\n",
              "      <td>False</td>\n",
              "      <td>False</td>\n",
              "      <td>False</td>\n",
              "    </tr>\n",
              "  </tbody>\n",
              "</table>\n",
              "<p>40964 rows × 30 columns</p>\n",
              "</div>\n",
              "      <button class=\"colab-df-convert\" onclick=\"convertToInteractive('df-f4dfcdbe-2d9e-474e-9cb1-d9e472c87fe9')\"\n",
              "              title=\"Convert this dataframe to an interactive table.\"\n",
              "              style=\"display:none;\">\n",
              "        \n",
              "  <svg xmlns=\"http://www.w3.org/2000/svg\" height=\"24px\"viewBox=\"0 0 24 24\"\n",
              "       width=\"24px\">\n",
              "    <path d=\"M0 0h24v24H0V0z\" fill=\"none\"/>\n",
              "    <path d=\"M18.56 5.44l.94 2.06.94-2.06 2.06-.94-2.06-.94-.94-2.06-.94 2.06-2.06.94zm-11 1L8.5 8.5l.94-2.06 2.06-.94-2.06-.94L8.5 2.5l-.94 2.06-2.06.94zm10 10l.94 2.06.94-2.06 2.06-.94-2.06-.94-.94-2.06-.94 2.06-2.06.94z\"/><path d=\"M17.41 7.96l-1.37-1.37c-.4-.4-.92-.59-1.43-.59-.52 0-1.04.2-1.43.59L10.3 9.45l-7.72 7.72c-.78.78-.78 2.05 0 2.83L4 21.41c.39.39.9.59 1.41.59.51 0 1.02-.2 1.41-.59l7.78-7.78 2.81-2.81c.8-.78.8-2.07 0-2.86zM5.41 20L4 18.59l7.72-7.72 1.47 1.35L5.41 20z\"/>\n",
              "  </svg>\n",
              "      </button>\n",
              "      \n",
              "  <style>\n",
              "    .colab-df-container {\n",
              "      display:flex;\n",
              "      flex-wrap:wrap;\n",
              "      gap: 12px;\n",
              "    }\n",
              "\n",
              "    .colab-df-convert {\n",
              "      background-color: #E8F0FE;\n",
              "      border: none;\n",
              "      border-radius: 50%;\n",
              "      cursor: pointer;\n",
              "      display: none;\n",
              "      fill: #1967D2;\n",
              "      height: 32px;\n",
              "      padding: 0 0 0 0;\n",
              "      width: 32px;\n",
              "    }\n",
              "\n",
              "    .colab-df-convert:hover {\n",
              "      background-color: #E2EBFA;\n",
              "      box-shadow: 0px 1px 2px rgba(60, 64, 67, 0.3), 0px 1px 3px 1px rgba(60, 64, 67, 0.15);\n",
              "      fill: #174EA6;\n",
              "    }\n",
              "\n",
              "    [theme=dark] .colab-df-convert {\n",
              "      background-color: #3B4455;\n",
              "      fill: #D2E3FC;\n",
              "    }\n",
              "\n",
              "    [theme=dark] .colab-df-convert:hover {\n",
              "      background-color: #434B5C;\n",
              "      box-shadow: 0px 1px 3px 1px rgba(0, 0, 0, 0.15);\n",
              "      filter: drop-shadow(0px 1px 2px rgba(0, 0, 0, 0.3));\n",
              "      fill: #FFFFFF;\n",
              "    }\n",
              "  </style>\n",
              "\n",
              "      <script>\n",
              "        const buttonEl =\n",
              "          document.querySelector('#df-f4dfcdbe-2d9e-474e-9cb1-d9e472c87fe9 button.colab-df-convert');\n",
              "        buttonEl.style.display =\n",
              "          google.colab.kernel.accessAllowed ? 'block' : 'none';\n",
              "\n",
              "        async function convertToInteractive(key) {\n",
              "          const element = document.querySelector('#df-f4dfcdbe-2d9e-474e-9cb1-d9e472c87fe9');\n",
              "          const dataTable =\n",
              "            await google.colab.kernel.invokeFunction('convertToInteractive',\n",
              "                                                     [key], {});\n",
              "          if (!dataTable) return;\n",
              "\n",
              "          const docLinkHtml = 'Like what you see? Visit the ' +\n",
              "            '<a target=\"_blank\" href=https://colab.research.google.com/notebooks/data_table.ipynb>data table notebook</a>'\n",
              "            + ' to learn more about interactive tables.';\n",
              "          element.innerHTML = '';\n",
              "          dataTable['output_type'] = 'display_data';\n",
              "          await google.colab.output.renderOutput(dataTable, element);\n",
              "          const docLink = document.createElement('div');\n",
              "          docLink.innerHTML = docLinkHtml;\n",
              "          element.appendChild(docLink);\n",
              "        }\n",
              "      </script>\n",
              "    </div>\n",
              "  </div>\n",
              "  "
            ]
          },
          "metadata": {},
          "execution_count": 4
        }
      ],
      "source": [
        "dataset.isna()"
      ]
    },
    {
      "cell_type": "code",
      "execution_count": null,
      "metadata": {
        "colab": {
          "base_uri": "https://localhost:8080/",
          "height": 990
        },
        "id": "ZTJfXvZYk59B",
        "outputId": "85730bad-8ac9-4bd3-f892-8308f9b0dd9f"
      },
      "outputs": [
        {
          "output_type": "execute_result",
          "data": {
            "text/plain": [
              "                   0\n",
              "COIL_ID          0.0\n",
              "GRADE            0.0\n",
              "YS               0.0\n",
              "UTS              0.0\n",
              "V                0.0\n",
              "TI               0.0\n",
              "SI               0.0\n",
              "S                0.0\n",
              "P                0.0\n",
              "NI               0.0\n",
              "N                0.0\n",
              "MO               0.0\n",
              "MN               0.0\n",
              "CU               0.0\n",
              "CR               0.0\n",
              "NB               0.0\n",
              "CA               0.0\n",
              "C                0.0\n",
              "B                0.0\n",
              "AL               0.0\n",
              "FM_EXIT_THIK     0.0\n",
              "STRIP_EXIT_THIK  0.0\n",
              "STRIP_EXIT_LEN   0.0\n",
              "SLAB_LEN         0.0\n",
              "SLAB_WID         0.0\n",
              "COILING_TEMP     0.0\n",
              "FM_DOUT_TEMP     0.0\n",
              "FURN_EXIT_TEMP   0.0\n",
              "COIL_GEN_TIME    0.0\n",
              "P_ELONGATION     0.0"
            ],
            "text/html": [
              "\n",
              "  <div id=\"df-f20e9b69-b84f-464b-af61-594f0a181a3c\">\n",
              "    <div class=\"colab-df-container\">\n",
              "      <div>\n",
              "<style scoped>\n",
              "    .dataframe tbody tr th:only-of-type {\n",
              "        vertical-align: middle;\n",
              "    }\n",
              "\n",
              "    .dataframe tbody tr th {\n",
              "        vertical-align: top;\n",
              "    }\n",
              "\n",
              "    .dataframe thead th {\n",
              "        text-align: right;\n",
              "    }\n",
              "</style>\n",
              "<table border=\"1\" class=\"dataframe\">\n",
              "  <thead>\n",
              "    <tr style=\"text-align: right;\">\n",
              "      <th></th>\n",
              "      <th>0</th>\n",
              "    </tr>\n",
              "  </thead>\n",
              "  <tbody>\n",
              "    <tr>\n",
              "      <th>COIL_ID</th>\n",
              "      <td>0.0</td>\n",
              "    </tr>\n",
              "    <tr>\n",
              "      <th>GRADE</th>\n",
              "      <td>0.0</td>\n",
              "    </tr>\n",
              "    <tr>\n",
              "      <th>YS</th>\n",
              "      <td>0.0</td>\n",
              "    </tr>\n",
              "    <tr>\n",
              "      <th>UTS</th>\n",
              "      <td>0.0</td>\n",
              "    </tr>\n",
              "    <tr>\n",
              "      <th>V</th>\n",
              "      <td>0.0</td>\n",
              "    </tr>\n",
              "    <tr>\n",
              "      <th>TI</th>\n",
              "      <td>0.0</td>\n",
              "    </tr>\n",
              "    <tr>\n",
              "      <th>SI</th>\n",
              "      <td>0.0</td>\n",
              "    </tr>\n",
              "    <tr>\n",
              "      <th>S</th>\n",
              "      <td>0.0</td>\n",
              "    </tr>\n",
              "    <tr>\n",
              "      <th>P</th>\n",
              "      <td>0.0</td>\n",
              "    </tr>\n",
              "    <tr>\n",
              "      <th>NI</th>\n",
              "      <td>0.0</td>\n",
              "    </tr>\n",
              "    <tr>\n",
              "      <th>N</th>\n",
              "      <td>0.0</td>\n",
              "    </tr>\n",
              "    <tr>\n",
              "      <th>MO</th>\n",
              "      <td>0.0</td>\n",
              "    </tr>\n",
              "    <tr>\n",
              "      <th>MN</th>\n",
              "      <td>0.0</td>\n",
              "    </tr>\n",
              "    <tr>\n",
              "      <th>CU</th>\n",
              "      <td>0.0</td>\n",
              "    </tr>\n",
              "    <tr>\n",
              "      <th>CR</th>\n",
              "      <td>0.0</td>\n",
              "    </tr>\n",
              "    <tr>\n",
              "      <th>NB</th>\n",
              "      <td>0.0</td>\n",
              "    </tr>\n",
              "    <tr>\n",
              "      <th>CA</th>\n",
              "      <td>0.0</td>\n",
              "    </tr>\n",
              "    <tr>\n",
              "      <th>C</th>\n",
              "      <td>0.0</td>\n",
              "    </tr>\n",
              "    <tr>\n",
              "      <th>B</th>\n",
              "      <td>0.0</td>\n",
              "    </tr>\n",
              "    <tr>\n",
              "      <th>AL</th>\n",
              "      <td>0.0</td>\n",
              "    </tr>\n",
              "    <tr>\n",
              "      <th>FM_EXIT_THIK</th>\n",
              "      <td>0.0</td>\n",
              "    </tr>\n",
              "    <tr>\n",
              "      <th>STRIP_EXIT_THIK</th>\n",
              "      <td>0.0</td>\n",
              "    </tr>\n",
              "    <tr>\n",
              "      <th>STRIP_EXIT_LEN</th>\n",
              "      <td>0.0</td>\n",
              "    </tr>\n",
              "    <tr>\n",
              "      <th>SLAB_LEN</th>\n",
              "      <td>0.0</td>\n",
              "    </tr>\n",
              "    <tr>\n",
              "      <th>SLAB_WID</th>\n",
              "      <td>0.0</td>\n",
              "    </tr>\n",
              "    <tr>\n",
              "      <th>COILING_TEMP</th>\n",
              "      <td>0.0</td>\n",
              "    </tr>\n",
              "    <tr>\n",
              "      <th>FM_DOUT_TEMP</th>\n",
              "      <td>0.0</td>\n",
              "    </tr>\n",
              "    <tr>\n",
              "      <th>FURN_EXIT_TEMP</th>\n",
              "      <td>0.0</td>\n",
              "    </tr>\n",
              "    <tr>\n",
              "      <th>COIL_GEN_TIME</th>\n",
              "      <td>0.0</td>\n",
              "    </tr>\n",
              "    <tr>\n",
              "      <th>P_ELONGATION</th>\n",
              "      <td>0.0</td>\n",
              "    </tr>\n",
              "  </tbody>\n",
              "</table>\n",
              "</div>\n",
              "      <button class=\"colab-df-convert\" onclick=\"convertToInteractive('df-f20e9b69-b84f-464b-af61-594f0a181a3c')\"\n",
              "              title=\"Convert this dataframe to an interactive table.\"\n",
              "              style=\"display:none;\">\n",
              "        \n",
              "  <svg xmlns=\"http://www.w3.org/2000/svg\" height=\"24px\"viewBox=\"0 0 24 24\"\n",
              "       width=\"24px\">\n",
              "    <path d=\"M0 0h24v24H0V0z\" fill=\"none\"/>\n",
              "    <path d=\"M18.56 5.44l.94 2.06.94-2.06 2.06-.94-2.06-.94-.94-2.06-.94 2.06-2.06.94zm-11 1L8.5 8.5l.94-2.06 2.06-.94-2.06-.94L8.5 2.5l-.94 2.06-2.06.94zm10 10l.94 2.06.94-2.06 2.06-.94-2.06-.94-.94-2.06-.94 2.06-2.06.94z\"/><path d=\"M17.41 7.96l-1.37-1.37c-.4-.4-.92-.59-1.43-.59-.52 0-1.04.2-1.43.59L10.3 9.45l-7.72 7.72c-.78.78-.78 2.05 0 2.83L4 21.41c.39.39.9.59 1.41.59.51 0 1.02-.2 1.41-.59l7.78-7.78 2.81-2.81c.8-.78.8-2.07 0-2.86zM5.41 20L4 18.59l7.72-7.72 1.47 1.35L5.41 20z\"/>\n",
              "  </svg>\n",
              "      </button>\n",
              "      \n",
              "  <style>\n",
              "    .colab-df-container {\n",
              "      display:flex;\n",
              "      flex-wrap:wrap;\n",
              "      gap: 12px;\n",
              "    }\n",
              "\n",
              "    .colab-df-convert {\n",
              "      background-color: #E8F0FE;\n",
              "      border: none;\n",
              "      border-radius: 50%;\n",
              "      cursor: pointer;\n",
              "      display: none;\n",
              "      fill: #1967D2;\n",
              "      height: 32px;\n",
              "      padding: 0 0 0 0;\n",
              "      width: 32px;\n",
              "    }\n",
              "\n",
              "    .colab-df-convert:hover {\n",
              "      background-color: #E2EBFA;\n",
              "      box-shadow: 0px 1px 2px rgba(60, 64, 67, 0.3), 0px 1px 3px 1px rgba(60, 64, 67, 0.15);\n",
              "      fill: #174EA6;\n",
              "    }\n",
              "\n",
              "    [theme=dark] .colab-df-convert {\n",
              "      background-color: #3B4455;\n",
              "      fill: #D2E3FC;\n",
              "    }\n",
              "\n",
              "    [theme=dark] .colab-df-convert:hover {\n",
              "      background-color: #434B5C;\n",
              "      box-shadow: 0px 1px 3px 1px rgba(0, 0, 0, 0.15);\n",
              "      filter: drop-shadow(0px 1px 2px rgba(0, 0, 0, 0.3));\n",
              "      fill: #FFFFFF;\n",
              "    }\n",
              "  </style>\n",
              "\n",
              "      <script>\n",
              "        const buttonEl =\n",
              "          document.querySelector('#df-f20e9b69-b84f-464b-af61-594f0a181a3c button.colab-df-convert');\n",
              "        buttonEl.style.display =\n",
              "          google.colab.kernel.accessAllowed ? 'block' : 'none';\n",
              "\n",
              "        async function convertToInteractive(key) {\n",
              "          const element = document.querySelector('#df-f20e9b69-b84f-464b-af61-594f0a181a3c');\n",
              "          const dataTable =\n",
              "            await google.colab.kernel.invokeFunction('convertToInteractive',\n",
              "                                                     [key], {});\n",
              "          if (!dataTable) return;\n",
              "\n",
              "          const docLinkHtml = 'Like what you see? Visit the ' +\n",
              "            '<a target=\"_blank\" href=https://colab.research.google.com/notebooks/data_table.ipynb>data table notebook</a>'\n",
              "            + ' to learn more about interactive tables.';\n",
              "          element.innerHTML = '';\n",
              "          dataTable['output_type'] = 'display_data';\n",
              "          await google.colab.output.renderOutput(dataTable, element);\n",
              "          const docLink = document.createElement('div');\n",
              "          docLink.innerHTML = docLinkHtml;\n",
              "          element.appendChild(docLink);\n",
              "        }\n",
              "      </script>\n",
              "    </div>\n",
              "  </div>\n",
              "  "
            ]
          },
          "metadata": {},
          "execution_count": 5
        }
      ],
      "source": [
        "pd.DataFrame((dataset.isna().sum()/dataset.isna().count()).sort_values(ascending=False)).head(100)"
      ]
    },
    {
      "cell_type": "code",
      "execution_count": null,
      "metadata": {
        "colab": {
          "base_uri": "https://localhost:8080/",
          "height": 317
        },
        "id": "0rYTcPxSlAcn",
        "outputId": "ccb036ca-c744-4cf3-e949-1df97eafe504"
      },
      "outputs": [
        {
          "output_type": "stream",
          "name": "stdout",
          "text": [
            "Number of numerical variables:  28\n"
          ]
        },
        {
          "output_type": "execute_result",
          "data": {
            "text/plain": [
              "    COIL_ID  FURN_EXIT_TEMP  FM_DOUT_TEMP  COILING_TEMP  SLAB_WID  SLAB_LEN  \\\n",
              "0  20081459            1081           869           680      1125   10750.0   \n",
              "1  20097626            1070           838           662      1245   10640.0   \n",
              "2  20097722            1075           882           611      1040   10750.0   \n",
              "3  20098318            1088           864           603      1260    9000.0   \n",
              "4  20098589            1061           848           650      1265    9811.0   \n",
              "\n",
              "   STRIP_EXIT_LEN  STRIP_EXIT_THIK  FM_EXIT_THIK     AL  ...       N     NI  \\\n",
              "0           69.81               34          1.99  0.048  ...  0.0025  0.007   \n",
              "1           68.63               34          2.05  0.051  ...  0.0022  0.007   \n",
              "2           66.08               36          2.49  0.032  ...  0.0070  0.008   \n",
              "3           51.94               38          4.99  0.053  ...  0.0035  0.008   \n",
              "4           61.23               35          2.31  0.051  ...  0.0032  0.007   \n",
              "\n",
              "       P       S     SI     TI      V  UTS   YS  P_ELONGATION  \n",
              "0  0.018  0.0100  0.004  0.001  0.001  346  294            42  \n",
              "1  0.014  0.0100  0.007  0.001  0.001  365  299            42  \n",
              "2  0.015  0.0030  0.164  0.002  0.001  730  575            21  \n",
              "3  0.021  0.0131  0.099  0.002  0.001  495  397            30  \n",
              "4  0.015  0.0101  0.006  0.001  0.001  379  326            41  \n",
              "\n",
              "[5 rows x 28 columns]"
            ],
            "text/html": [
              "\n",
              "  <div id=\"df-20f6f09b-1689-4032-9499-8d905a8c5d3f\">\n",
              "    <div class=\"colab-df-container\">\n",
              "      <div>\n",
              "<style scoped>\n",
              "    .dataframe tbody tr th:only-of-type {\n",
              "        vertical-align: middle;\n",
              "    }\n",
              "\n",
              "    .dataframe tbody tr th {\n",
              "        vertical-align: top;\n",
              "    }\n",
              "\n",
              "    .dataframe thead th {\n",
              "        text-align: right;\n",
              "    }\n",
              "</style>\n",
              "<table border=\"1\" class=\"dataframe\">\n",
              "  <thead>\n",
              "    <tr style=\"text-align: right;\">\n",
              "      <th></th>\n",
              "      <th>COIL_ID</th>\n",
              "      <th>FURN_EXIT_TEMP</th>\n",
              "      <th>FM_DOUT_TEMP</th>\n",
              "      <th>COILING_TEMP</th>\n",
              "      <th>SLAB_WID</th>\n",
              "      <th>SLAB_LEN</th>\n",
              "      <th>STRIP_EXIT_LEN</th>\n",
              "      <th>STRIP_EXIT_THIK</th>\n",
              "      <th>FM_EXIT_THIK</th>\n",
              "      <th>AL</th>\n",
              "      <th>...</th>\n",
              "      <th>N</th>\n",
              "      <th>NI</th>\n",
              "      <th>P</th>\n",
              "      <th>S</th>\n",
              "      <th>SI</th>\n",
              "      <th>TI</th>\n",
              "      <th>V</th>\n",
              "      <th>UTS</th>\n",
              "      <th>YS</th>\n",
              "      <th>P_ELONGATION</th>\n",
              "    </tr>\n",
              "  </thead>\n",
              "  <tbody>\n",
              "    <tr>\n",
              "      <th>0</th>\n",
              "      <td>20081459</td>\n",
              "      <td>1081</td>\n",
              "      <td>869</td>\n",
              "      <td>680</td>\n",
              "      <td>1125</td>\n",
              "      <td>10750.0</td>\n",
              "      <td>69.81</td>\n",
              "      <td>34</td>\n",
              "      <td>1.99</td>\n",
              "      <td>0.048</td>\n",
              "      <td>...</td>\n",
              "      <td>0.0025</td>\n",
              "      <td>0.007</td>\n",
              "      <td>0.018</td>\n",
              "      <td>0.0100</td>\n",
              "      <td>0.004</td>\n",
              "      <td>0.001</td>\n",
              "      <td>0.001</td>\n",
              "      <td>346</td>\n",
              "      <td>294</td>\n",
              "      <td>42</td>\n",
              "    </tr>\n",
              "    <tr>\n",
              "      <th>1</th>\n",
              "      <td>20097626</td>\n",
              "      <td>1070</td>\n",
              "      <td>838</td>\n",
              "      <td>662</td>\n",
              "      <td>1245</td>\n",
              "      <td>10640.0</td>\n",
              "      <td>68.63</td>\n",
              "      <td>34</td>\n",
              "      <td>2.05</td>\n",
              "      <td>0.051</td>\n",
              "      <td>...</td>\n",
              "      <td>0.0022</td>\n",
              "      <td>0.007</td>\n",
              "      <td>0.014</td>\n",
              "      <td>0.0100</td>\n",
              "      <td>0.007</td>\n",
              "      <td>0.001</td>\n",
              "      <td>0.001</td>\n",
              "      <td>365</td>\n",
              "      <td>299</td>\n",
              "      <td>42</td>\n",
              "    </tr>\n",
              "    <tr>\n",
              "      <th>2</th>\n",
              "      <td>20097722</td>\n",
              "      <td>1075</td>\n",
              "      <td>882</td>\n",
              "      <td>611</td>\n",
              "      <td>1040</td>\n",
              "      <td>10750.0</td>\n",
              "      <td>66.08</td>\n",
              "      <td>36</td>\n",
              "      <td>2.49</td>\n",
              "      <td>0.032</td>\n",
              "      <td>...</td>\n",
              "      <td>0.0070</td>\n",
              "      <td>0.008</td>\n",
              "      <td>0.015</td>\n",
              "      <td>0.0030</td>\n",
              "      <td>0.164</td>\n",
              "      <td>0.002</td>\n",
              "      <td>0.001</td>\n",
              "      <td>730</td>\n",
              "      <td>575</td>\n",
              "      <td>21</td>\n",
              "    </tr>\n",
              "    <tr>\n",
              "      <th>3</th>\n",
              "      <td>20098318</td>\n",
              "      <td>1088</td>\n",
              "      <td>864</td>\n",
              "      <td>603</td>\n",
              "      <td>1260</td>\n",
              "      <td>9000.0</td>\n",
              "      <td>51.94</td>\n",
              "      <td>38</td>\n",
              "      <td>4.99</td>\n",
              "      <td>0.053</td>\n",
              "      <td>...</td>\n",
              "      <td>0.0035</td>\n",
              "      <td>0.008</td>\n",
              "      <td>0.021</td>\n",
              "      <td>0.0131</td>\n",
              "      <td>0.099</td>\n",
              "      <td>0.002</td>\n",
              "      <td>0.001</td>\n",
              "      <td>495</td>\n",
              "      <td>397</td>\n",
              "      <td>30</td>\n",
              "    </tr>\n",
              "    <tr>\n",
              "      <th>4</th>\n",
              "      <td>20098589</td>\n",
              "      <td>1061</td>\n",
              "      <td>848</td>\n",
              "      <td>650</td>\n",
              "      <td>1265</td>\n",
              "      <td>9811.0</td>\n",
              "      <td>61.23</td>\n",
              "      <td>35</td>\n",
              "      <td>2.31</td>\n",
              "      <td>0.051</td>\n",
              "      <td>...</td>\n",
              "      <td>0.0032</td>\n",
              "      <td>0.007</td>\n",
              "      <td>0.015</td>\n",
              "      <td>0.0101</td>\n",
              "      <td>0.006</td>\n",
              "      <td>0.001</td>\n",
              "      <td>0.001</td>\n",
              "      <td>379</td>\n",
              "      <td>326</td>\n",
              "      <td>41</td>\n",
              "    </tr>\n",
              "  </tbody>\n",
              "</table>\n",
              "<p>5 rows × 28 columns</p>\n",
              "</div>\n",
              "      <button class=\"colab-df-convert\" onclick=\"convertToInteractive('df-20f6f09b-1689-4032-9499-8d905a8c5d3f')\"\n",
              "              title=\"Convert this dataframe to an interactive table.\"\n",
              "              style=\"display:none;\">\n",
              "        \n",
              "  <svg xmlns=\"http://www.w3.org/2000/svg\" height=\"24px\"viewBox=\"0 0 24 24\"\n",
              "       width=\"24px\">\n",
              "    <path d=\"M0 0h24v24H0V0z\" fill=\"none\"/>\n",
              "    <path d=\"M18.56 5.44l.94 2.06.94-2.06 2.06-.94-2.06-.94-.94-2.06-.94 2.06-2.06.94zm-11 1L8.5 8.5l.94-2.06 2.06-.94-2.06-.94L8.5 2.5l-.94 2.06-2.06.94zm10 10l.94 2.06.94-2.06 2.06-.94-2.06-.94-.94-2.06-.94 2.06-2.06.94z\"/><path d=\"M17.41 7.96l-1.37-1.37c-.4-.4-.92-.59-1.43-.59-.52 0-1.04.2-1.43.59L10.3 9.45l-7.72 7.72c-.78.78-.78 2.05 0 2.83L4 21.41c.39.39.9.59 1.41.59.51 0 1.02-.2 1.41-.59l7.78-7.78 2.81-2.81c.8-.78.8-2.07 0-2.86zM5.41 20L4 18.59l7.72-7.72 1.47 1.35L5.41 20z\"/>\n",
              "  </svg>\n",
              "      </button>\n",
              "      \n",
              "  <style>\n",
              "    .colab-df-container {\n",
              "      display:flex;\n",
              "      flex-wrap:wrap;\n",
              "      gap: 12px;\n",
              "    }\n",
              "\n",
              "    .colab-df-convert {\n",
              "      background-color: #E8F0FE;\n",
              "      border: none;\n",
              "      border-radius: 50%;\n",
              "      cursor: pointer;\n",
              "      display: none;\n",
              "      fill: #1967D2;\n",
              "      height: 32px;\n",
              "      padding: 0 0 0 0;\n",
              "      width: 32px;\n",
              "    }\n",
              "\n",
              "    .colab-df-convert:hover {\n",
              "      background-color: #E2EBFA;\n",
              "      box-shadow: 0px 1px 2px rgba(60, 64, 67, 0.3), 0px 1px 3px 1px rgba(60, 64, 67, 0.15);\n",
              "      fill: #174EA6;\n",
              "    }\n",
              "\n",
              "    [theme=dark] .colab-df-convert {\n",
              "      background-color: #3B4455;\n",
              "      fill: #D2E3FC;\n",
              "    }\n",
              "\n",
              "    [theme=dark] .colab-df-convert:hover {\n",
              "      background-color: #434B5C;\n",
              "      box-shadow: 0px 1px 3px 1px rgba(0, 0, 0, 0.15);\n",
              "      filter: drop-shadow(0px 1px 2px rgba(0, 0, 0, 0.3));\n",
              "      fill: #FFFFFF;\n",
              "    }\n",
              "  </style>\n",
              "\n",
              "      <script>\n",
              "        const buttonEl =\n",
              "          document.querySelector('#df-20f6f09b-1689-4032-9499-8d905a8c5d3f button.colab-df-convert');\n",
              "        buttonEl.style.display =\n",
              "          google.colab.kernel.accessAllowed ? 'block' : 'none';\n",
              "\n",
              "        async function convertToInteractive(key) {\n",
              "          const element = document.querySelector('#df-20f6f09b-1689-4032-9499-8d905a8c5d3f');\n",
              "          const dataTable =\n",
              "            await google.colab.kernel.invokeFunction('convertToInteractive',\n",
              "                                                     [key], {});\n",
              "          if (!dataTable) return;\n",
              "\n",
              "          const docLinkHtml = 'Like what you see? Visit the ' +\n",
              "            '<a target=\"_blank\" href=https://colab.research.google.com/notebooks/data_table.ipynb>data table notebook</a>'\n",
              "            + ' to learn more about interactive tables.';\n",
              "          element.innerHTML = '';\n",
              "          dataTable['output_type'] = 'display_data';\n",
              "          await google.colab.output.renderOutput(dataTable, element);\n",
              "          const docLink = document.createElement('div');\n",
              "          docLink.innerHTML = docLinkHtml;\n",
              "          element.appendChild(docLink);\n",
              "        }\n",
              "      </script>\n",
              "    </div>\n",
              "  </div>\n",
              "  "
            ]
          },
          "metadata": {},
          "execution_count": 6
        }
      ],
      "source": [
        "# list of numerical variables\n",
        "numerical_features = [feature for feature in dataset.columns if dataset[feature].dtypes != 'O']\n",
        "\n",
        "print('Number of numerical variables: ', len(numerical_features))\n",
        "\n",
        "# visualise the numerical variables\n",
        "dataset[numerical_features].head()"
      ]
    },
    {
      "cell_type": "code",
      "execution_count": null,
      "metadata": {
        "colab": {
          "base_uri": "https://localhost:8080/"
        },
        "id": "2WB4SNHJlF8r",
        "outputId": "42f82406-13ed-48f7-eebb-8a17865923e5"
      },
      "outputs": [
        {
          "output_type": "stream",
          "name": "stdout",
          "text": [
            "Discrete Variables Count: 0\n"
          ]
        }
      ],
      "source": [
        "## Numerical variables are usually of 2 type\n",
        "## 1. Continous variable and Discrete Variables\n",
        "\n",
        "discrete_feature=[feature for feature in numerical_features if len(dataset[feature].unique())<10 ]\n",
        "print(\"Discrete Variables Count: {}\".format(len(discrete_feature)))"
      ]
    },
    {
      "cell_type": "code",
      "execution_count": null,
      "metadata": {
        "colab": {
          "base_uri": "https://localhost:8080/"
        },
        "id": "mjnhmu6KlLfN",
        "outputId": "6c04a178-3c12-486e-fbfa-f07c15e50805"
      },
      "outputs": [
        {
          "output_type": "stream",
          "name": "stdout",
          "text": [
            "Continuous feature Count 28\n"
          ]
        }
      ],
      "source": [
        "continuous_feature=[feature for feature in numerical_features if feature not in discrete_feature]\n",
        "print(\"Continuous feature Count {}\".format(len(continuous_feature)))"
      ]
    },
    {
      "cell_type": "code",
      "execution_count": null,
      "metadata": {
        "colab": {
          "base_uri": "https://localhost:8080/",
          "height": 1000
        },
        "id": "dGfrk9QslPTb",
        "outputId": "59abcd21-f8ae-4aee-d31d-b95367763368"
      },
      "outputs": [
        {
          "output_type": "display_data",
          "data": {
            "text/plain": [
              "<Figure size 432x288 with 1 Axes>"
            ],
            "image/png": "[encoded data removed]"
          },
          "metadata": {
            "needs_background": "light"
          }
        },
        {
          "output_type": "display_data",
          "data": {
            "text/plain": [
              "<Figure size 432x288 with 1 Axes>"
            ],
            "image/png": "[encoded data removed]"
          },
          "metadata": {
            "needs_background": "light"
          }
        },
        {
          "output_type": "display_data",
          "data": {
            "text/plain": [
              "<Figure size 432x288 with 1 Axes>"
            ],
            "image/png": "[encoded data removed]"
          },
          "metadata": {
            "needs_background": "light"
          }
        },
        {
          "output_type": "display_data",
          "data": {
            "text/plain": [
              "<Figure size 432x288 with 1 Axes>"
            ],
            "image/png": "[encoded data removed]"
          },
          "metadata": {
            "needs_background": "light"
          }
        },
        {
          "output_type": "display_data",
          "data": {
            "text/plain": [
              "<Figure size 432x288 with 1 Axes>"
            ],
            "image/png": "[encoded data removed]"
          },
          "metadata": {
            "needs_background": "light"
          }
        },
        {
          "output_type": "display_data",
          "data": {
            "text/plain": [
              "<Figure size 432x288 with 1 Axes>"
            ],
            "image/png": "[encoded data removed]"
          },
          "metadata": {
            "needs_background": "light"
          }
        },
        {
          "output_type": "display_data",
          "data": {
            "text/plain": [
              "<Figure size 432x288 with 1 Axes>"
            ],
            "image/png": "[encoded data removed]"
          },
          "metadata": {
            "needs_background": "light"
          }
        },
        {
          "output_type": "display_data",
          "data": {
            "text/plain": [
              "<Figure size 432x288 with 1 Axes>"
            ],
            "image/png": "[encoded data removed]"
          },
          "metadata": {
            "needs_background": "light"
          }
        },
        {
          "output_type": "display_data",
          "data": {
            "text/plain": [
              "<Figure size 432x288 with 1 Axes>"
            ],
            "image/png": "[encoded data removed]"
          },
          "metadata": {
            "needs_background": "light"
          }
        },
        {
          "output_type": "display_data",
          "data": {
            "text/plain": [
              "<Figure size 432x288 with 1 Axes>"
            ],
            "image/png": "[encoded data removed]"
          },
          "metadata": {
            "needs_background": "light"
          }
        },
        {
          "output_type": "display_data",
          "data": {
            "text/plain": [
              "<Figure size 432x288 with 1 Axes>"
            ],
            "image/png": "[encoded data removed]"
          },
          "metadata": {
            "needs_background": "light"
          }
        },
        {
          "output_type": "display_data",
          "data": {
            "text/plain": [
              "<Figure size 432x288 with 1 Axes>"
            ],
            "image/png": "[encoded data removed]"
          },
          "metadata": {
            "needs_background": "light"
          }
        },
        {
          "output_type": "display_data",
          "data": {
            "text/plain": [
              "<Figure size 432x288 with 1 Axes>"
            ],
            "image/png": "[encoded data removed]"
          },
          "metadata": {
            "needs_background": "light"
          }
        },
        {
          "output_type": "display_data",
          "data": {
            "text/plain": [
              "<Figure size 432x288 with 1 Axes>"
            ],
            "image/png": "[encoded data removed]"
          },
          "metadata": {
            "needs_background": "light"
          }
        },
        {
          "output_type": "display_data",
          "data": {
            "text/plain": [
              "<Figure size 432x288 with 1 Axes>"
            ],
            "image/png": "[encoded data removed]"
          },
          "metadata": {
            "needs_background": "light"
          }
        },
        {
          "output_type": "display_data",
          "data": {
            "text/plain": [
              "<Figure size 432x288 with 1 Axes>"
            ],
            "image/png": "[encoded data removed]"
          },
          "metadata": {
            "needs_background": "light"
          }
        },
        {
          "output_type": "display_data",
          "data": {
            "text/plain": [
              "<Figure size 432x288 with 1 Axes>"
            ],
            "image/png": "[encoded data removed]"
          },
          "metadata": {
            "needs_background": "light"
          }
        },
        {
          "output_type": "display_data",
          "data": {
            "text/plain": [
              "<Figure size 432x288 with 1 Axes>"
            ],
            "image/png": "[encoded data removed]"
          },
          "metadata": {
            "needs_background": "light"
          }
        },
        {
          "output_type": "display_data",
          "data": {
            "text/plain": [
              "<Figure size 432x288 with 1 Axes>"
            ],
            "image/png": "[encoded data removed]"
          },
          "metadata": {
            "needs_background": "light"
          }
        },
        {
          "output_type": "display_data",
          "data": {
            "text/plain": [
              "<Figure size 432x288 with 1 Axes>"
            ],
            "image/png": "[encoded data removed]"
          },
          "metadata": {
            "needs_background": "light"
          }
        },
        {
          "output_type": "display_data",
          "data": {
            "text/plain": [
              "<Figure size 432x288 with 1 Axes>"
            ],
            "image/png": "[encoded data removed]"
          },
          "metadata": {
            "needs_background": "light"
          }
        },
        {
          "output_type": "display_data",
          "data": {
            "text/plain": [
              "<Figure size 432x288 with 1 Axes>"
            ],
            "image/png": "[encoded data removed]"
          },
          "metadata": {
            "needs_background": "light"
          }
        },
        {
          "output_type": "display_data",
          "data": {
            "text/plain": [
              "<Figure size 432x288 with 1 Axes>"
            ],
            "image/png": "[encoded data removed]"
          },
          "metadata": {
            "needs_background": "light"
          }
        },
        {
          "output_type": "display_data",
          "data": {
            "text/plain": [
              "<Figure size 432x288 with 1 Axes>"
            ],
            "image/png": "[encoded data removed]"
          },
          "metadata": {
            "needs_background": "light"
          }
        },
        {
          "output_type": "display_data",
          "data": {
            "text/plain": [
              "<Figure size 432x288 with 1 Axes>"
            ],
            "image/png": "[encoded data removed]"
          },
          "metadata": {
            "needs_background": "light"
          }
        },
        {
          "output_type": "display_data",
          "data": {
            "text/plain": [
              "<Figure size 432x288 with 1 Axes>"
            ],
            "image/png": "[encoded data removed]"
          },
          "metadata": {
            "needs_background": "light"
          }
        },
        {
          "output_type": "display_data",
          "data": {
            "text/plain": [
              "<Figure size 432x288 with 1 Axes>"
            ],
            "image/png": "[encoded data removed]"
          },
          "metadata": {
            "needs_background": "light"
          }
        },
        {
          "output_type": "display_data",
          "data": {
            "text/plain": [
              "<Figure size 432x288 with 1 Axes>"
            ],
            "image/png": "[encoded data removed]"
          },
          "metadata": {
            "needs_background": "light"
          }
        }
      ],
      "source": [
        "#  Lets analyse the continuous values by creating histograms to understand the distribution\n",
        "\n",
        "for feature in continuous_feature:\n",
        "    data=dataset.copy()\n",
        "    data[feature].hist(bins=25)\n",
        "    plt.xlabel(feature)\n",
        "    plt.ylabel(\"Count\")\n",
        "    plt.title(feature)\n",
        "    plt.show()"
      ]
    },
    {
      "cell_type": "code",
      "execution_count": null,
      "metadata": {
        "colab": {
          "base_uri": "https://localhost:8080/",
          "height": 1000
        },
        "id": "_sGhpOo0lVBI",
        "outputId": "bd925f2a-93f6-4f6c-827b-4f29def830e0"
      },
      "outputs": [
        {
          "output_type": "display_data",
          "data": {
            "text/plain": [
              "<Figure size 432x288 with 1 Axes>"
            ],
            "image/png": "[encoded data removed]"
          },
          "metadata": {
            "needs_background": "light"
          }
        },
        {
          "output_type": "display_data",
          "data": {
            "text/plain": [
              "<Figure size 432x288 with 1 Axes>"
            ],
            "image/png": "[encoded data removed]"
          },
          "metadata": {
            "needs_background": "light"
          }
        },
        {
          "output_type": "display_data",
          "data": {
            "text/plain": [
              "<Figure size 432x288 with 1 Axes>"
            ],
            "image/png": "[encoded data removed]"
          },
          "metadata": {
            "needs_background": "light"
          }
        },
        {
          "output_type": "display_data",
          "data": {
            "text/plain": [
              "<Figure size 432x288 with 1 Axes>"
            ],
            "image/png": "[encoded data removed]"
          },
          "metadata": {
            "needs_background": "light"
          }
        },
        {
          "output_type": "display_data",
          "data": {
            "text/plain": [
              "<Figure size 432x288 with 1 Axes>"
            ],
            "image/png": "[encoded data removed]"
          },
          "metadata": {
            "needs_background": "light"
          }
        },
        {
          "output_type": "display_data",
          "data": {
            "text/plain": [
              "<Figure size 432x288 with 1 Axes>"
            ],
            "image/png": "[encoded data removed]"
          },
          "metadata": {
            "needs_background": "light"
          }
        },
        {
          "output_type": "display_data",
          "data": {
            "text/plain": [
              "<Figure size 432x288 with 1 Axes>"
            ],
            "image/png": "[encoded data removed]"
          },
          "metadata": {
            "needs_background": "light"
          }
        },
        {
          "output_type": "display_data",
          "data": {
            "text/plain": [
              "<Figure size 432x288 with 1 Axes>"
            ],
            "image/png": "[encoded data removed]"
          },
          "metadata": {
            "needs_background": "light"
          }
        },
        {
          "output_type": "display_data",
          "data": {
            "text/plain": [
              "<Figure size 432x288 with 1 Axes>"
            ],
            "image/png": "[encoded data removed]"
          },
          "metadata": {
            "needs_background": "light"
          }
        },
        {
          "output_type": "display_data",
          "data": {
            "text/plain": [
              "<Figure size 432x288 with 1 Axes>"
            ],
            "image/png": "[encoded data removed]"
          },
          "metadata": {
            "needs_background": "light"
          }
        },
        {
          "output_type": "display_data",
          "data": {
            "text/plain": [
              "<Figure size 432x288 with 1 Axes>"
            ],
            "image/png": "[encoded data removed]"
          },
          "metadata": {
            "needs_background": "light"
          }
        },
        {
          "output_type": "display_data",
          "data": {
            "text/plain": [
              "<Figure size 432x288 with 1 Axes>"
            ],
            "image/png": "[encoded data removed]"
          },
          "metadata": {
            "needs_background": "light"
          }
        },
        {
          "output_type": "display_data",
          "data": {
            "text/plain": [
              "<Figure size 432x288 with 1 Axes>"
            ],
            "image/png": "[encoded data removed]"
          },
          "metadata": {
            "needs_background": "light"
          }
        },
        {
          "output_type": "display_data",
          "data": {
            "text/plain": [
              "<Figure size 432x288 with 1 Axes>"
            ],
            "image/png": "[encoded data removed]"
          },
          "metadata": {
            "needs_background": "light"
          }
        },
        {
          "output_type": "display_data",
          "data": {
            "text/plain": [
              "<Figure size 432x288 with 1 Axes>"
            ],
            "image/png": "[encoded data removed]"
          },
          "metadata": {
            "needs_background": "light"
          }
        },
        {
          "output_type": "display_data",
          "data": {
            "text/plain": [
              "<Figure size 432x288 with 1 Axes>"
            ],
            "image/png": "[encoded data removed]"
          },
          "metadata": {
            "needs_background": "light"
          }
        },
        {
          "output_type": "display_data",
          "data": {
            "text/plain": [
              "<Figure size 432x288 with 1 Axes>"
            ],
            "image/png": "[encoded data removed]"
          },
          "metadata": {
            "needs_background": "light"
          }
        },
        {
          "output_type": "display_data",
          "data": {
            "text/plain": [
              "<Figure size 432x288 with 1 Axes>"
            ],
            "image/png": "[encoded data removed]"
          },
          "metadata": {
            "needs_background": "light"
          }
        },
        {
          "output_type": "display_data",
          "data": {
            "text/plain": [
              "<Figure size 432x288 with 1 Axes>"
            ],
            "image/png": "[encoded data removed]"
          },
          "metadata": {
            "needs_background": "light"
          }
        },
        {
          "output_type": "display_data",
          "data": {
            "text/plain": [
              "<Figure size 432x288 with 1 Axes>"
            ],
            "image/png": "[encoded data removed]"
          },
          "metadata": {
            "needs_background": "light"
          }
        },
        {
          "output_type": "display_data",
          "data": {
            "text/plain": [
              "<Figure size 432x288 with 1 Axes>"
            ],
            "image/png": "[encoded data removed]"
          },
          "metadata": {
            "needs_background": "light"
          }
        }
      ],
      "source": [
        "# We will be using logarithmic transformation\n",
        "\n",
        "\n",
        "for feature in continuous_feature:\n",
        "    data=dataset.copy()\n",
        "    if 0 in data[feature].unique():\n",
        "        pass\n",
        "    else:\n",
        "        data[feature]=np.log(data[feature])\n",
        "        data['UTS']=np.log(data['UTS'])\n",
        "        plt.scatter(data[feature],data['UTS'])\n",
        "        plt.xlabel(feature)\n",
        "        plt.ylabel('UTS')\n",
        "        plt.title(feature)\n",
        "        plt.show()"
      ]
    },
    {
      "cell_type": "code",
      "execution_count": null,
      "metadata": {
        "colab": {
          "base_uri": "https://localhost:8080/"
        },
        "id": "LAx091uWlazM",
        "outputId": "0bc177fa-59bc-4262-a036-24f4aa8a3d02"
      },
      "outputs": [
        {
          "output_type": "execute_result",
          "data": {
            "text/plain": [
              "['GRADE', 'COIL_GEN_TIME']"
            ]
          },
          "metadata": {},
          "execution_count": 11
        }
      ],
      "source": [
        "categorical_features=[feature for feature in dataset.columns if data[feature].dtypes=='O']\n",
        "categorical_features"
      ]
    },
    {
      "cell_type": "code",
      "execution_count": null,
      "metadata": {
        "colab": {
          "base_uri": "https://localhost:8080/",
          "height": 206
        },
        "id": "lfz2ARZulgwq",
        "outputId": "cf1dd4c9-788e-4952-fdc7-a744c06e5d27"
      },
      "outputs": [
        {
          "output_type": "execute_result",
          "data": {
            "text/plain": [
              "        GRADE    COIL_GEN_TIME\n",
              "0  JVHGLD4AS0   8/10/2020 2:25\n",
              "1  JVHGLD4AS0   9/14/2020 2:30\n",
              "2  JVHCM30A00   9/14/2020 6:47\n",
              "3  JVHST01C00  9/15/2020 11:55\n",
              "4  JVHWT02A00   9/16/2020 1:14"
            ],
            "text/html": [
              "\n",
              "  <div id=\"df-335e4d9d-17b3-448f-8991-267babbb9fec\">\n",
              "    <div class=\"colab-df-container\">\n",
              "      <div>\n",
              "<style scoped>\n",
              "    .dataframe tbody tr th:only-of-type {\n",
              "        vertical-align: middle;\n",
              "    }\n",
              "\n",
              "    .dataframe tbody tr th {\n",
              "        vertical-align: top;\n",
              "    }\n",
              "\n",
              "    .dataframe thead th {\n",
              "        text-align: right;\n",
              "    }\n",
              "</style>\n",
              "<table border=\"1\" class=\"dataframe\">\n",
              "  <thead>\n",
              "    <tr style=\"text-align: right;\">\n",
              "      <th></th>\n",
              "      <th>GRADE</th>\n",
              "      <th>COIL_GEN_TIME</th>\n",
              "    </tr>\n",
              "  </thead>\n",
              "  <tbody>\n",
              "    <tr>\n",
              "      <th>0</th>\n",
              "      <td>JVHGLD4AS0</td>\n",
              "      <td>8/10/2020 2:25</td>\n",
              "    </tr>\n",
              "    <tr>\n",
              "      <th>1</th>\n",
              "      <td>JVHGLD4AS0</td>\n",
              "      <td>9/14/2020 2:30</td>\n",
              "    </tr>\n",
              "    <tr>\n",
              "      <th>2</th>\n",
              "      <td>JVHCM30A00</td>\n",
              "      <td>9/14/2020 6:47</td>\n",
              "    </tr>\n",
              "    <tr>\n",
              "      <th>3</th>\n",
              "      <td>JVHST01C00</td>\n",
              "      <td>9/15/2020 11:55</td>\n",
              "    </tr>\n",
              "    <tr>\n",
              "      <th>4</th>\n",
              "      <td>JVHWT02A00</td>\n",
              "      <td>9/16/2020 1:14</td>\n",
              "    </tr>\n",
              "  </tbody>\n",
              "</table>\n",
              "</div>\n",
              "      <button class=\"colab-df-convert\" onclick=\"convertToInteractive('df-335e4d9d-17b3-448f-8991-267babbb9fec')\"\n",
              "              title=\"Convert this dataframe to an interactive table.\"\n",
              "              style=\"display:none;\">\n",
              "        \n",
              "  <svg xmlns=\"http://www.w3.org/2000/svg\" height=\"24px\"viewBox=\"0 0 24 24\"\n",
              "       width=\"24px\">\n",
              "    <path d=\"M0 0h24v24H0V0z\" fill=\"none\"/>\n",
              "    <path d=\"M18.56 5.44l.94 2.06.94-2.06 2.06-.94-2.06-.94-.94-2.06-.94 2.06-2.06.94zm-11 1L8.5 8.5l.94-2.06 2.06-.94-2.06-.94L8.5 2.5l-.94 2.06-2.06.94zm10 10l.94 2.06.94-2.06 2.06-.94-2.06-.94-.94-2.06-.94 2.06-2.06.94z\"/><path d=\"M17.41 7.96l-1.37-1.37c-.4-.4-.92-.59-1.43-.59-.52 0-1.04.2-1.43.59L10.3 9.45l-7.72 7.72c-.78.78-.78 2.05 0 2.83L4 21.41c.39.39.9.59 1.41.59.51 0 1.02-.2 1.41-.59l7.78-7.78 2.81-2.81c.8-.78.8-2.07 0-2.86zM5.41 20L4 18.59l7.72-7.72 1.47 1.35L5.41 20z\"/>\n",
              "  </svg>\n",
              "      </button>\n",
              "      \n",
              "  <style>\n",
              "    .colab-df-container {\n",
              "      display:flex;\n",
              "      flex-wrap:wrap;\n",
              "      gap: 12px;\n",
              "    }\n",
              "\n",
              "    .colab-df-convert {\n",
              "      background-color: #E8F0FE;\n",
              "      border: none;\n",
              "      border-radius: 50%;\n",
              "      cursor: pointer;\n",
              "      display: none;\n",
              "      fill: #1967D2;\n",
              "      height: 32px;\n",
              "      padding: 0 0 0 0;\n",
              "      width: 32px;\n",
              "    }\n",
              "\n",
              "    .colab-df-convert:hover {\n",
              "      background-color: #E2EBFA;\n",
              "      box-shadow: 0px 1px 2px rgba(60, 64, 67, 0.3), 0px 1px 3px 1px rgba(60, 64, 67, 0.15);\n",
              "      fill: #174EA6;\n",
              "    }\n",
              "\n",
              "    [theme=dark] .colab-df-convert {\n",
              "      background-color: #3B4455;\n",
              "      fill: #D2E3FC;\n",
              "    }\n",
              "\n",
              "    [theme=dark] .colab-df-convert:hover {\n",
              "      background-color: #434B5C;\n",
              "      box-shadow: 0px 1px 3px 1px rgba(0, 0, 0, 0.15);\n",
              "      filter: drop-shadow(0px 1px 2px rgba(0, 0, 0, 0.3));\n",
              "      fill: #FFFFFF;\n",
              "    }\n",
              "  </style>\n",
              "\n",
              "      <script>\n",
              "        const buttonEl =\n",
              "          document.querySelector('#df-335e4d9d-17b3-448f-8991-267babbb9fec button.colab-df-convert');\n",
              "        buttonEl.style.display =\n",
              "          google.colab.kernel.accessAllowed ? 'block' : 'none';\n",
              "\n",
              "        async function convertToInteractive(key) {\n",
              "          const element = document.querySelector('#df-335e4d9d-17b3-448f-8991-267babbb9fec');\n",
              "          const dataTable =\n",
              "            await google.colab.kernel.invokeFunction('convertToInteractive',\n",
              "                                                     [key], {});\n",
              "          if (!dataTable) return;\n",
              "\n",
              "          const docLinkHtml = 'Like what you see? Visit the ' +\n",
              "            '<a target=\"_blank\" href=https://colab.research.google.com/notebooks/data_table.ipynb>data table notebook</a>'\n",
              "            + ' to learn more about interactive tables.';\n",
              "          element.innerHTML = '';\n",
              "          dataTable['output_type'] = 'display_data';\n",
              "          await google.colab.output.renderOutput(dataTable, element);\n",
              "          const docLink = document.createElement('div');\n",
              "          docLink.innerHTML = docLinkHtml;\n",
              "          element.appendChild(docLink);\n",
              "        }\n",
              "      </script>\n",
              "    </div>\n",
              "  </div>\n",
              "  "
            ]
          },
          "metadata": {},
          "execution_count": 12
        }
      ],
      "source": [
        "dataset[categorical_features].head()"
      ]
    },
    {
      "cell_type": "code",
      "execution_count": null,
      "metadata": {
        "colab": {
          "base_uri": "https://localhost:8080/"
        },
        "id": "xauvXwHXlk2F",
        "outputId": "5d8e911d-0a2c-4b78-eaf1-66fa473640dc"
      },
      "outputs": [
        {
          "output_type": "stream",
          "name": "stdout",
          "text": [
            "The feature is GRADE and number of categories are 110\n",
            "The feature is COIL_GEN_TIME and number of categories are 40959\n"
          ]
        }
      ],
      "source": [
        "for feature in categorical_features:\n",
        "    print('The feature is {} and number of categories are {}'.format(feature,len(dataset[feature].unique())))"
      ]
    },
    {
      "cell_type": "code",
      "execution_count": null,
      "metadata": {
        "id": "NpUWvZvPlo9X"
      },
      "outputs": [],
      "source": [
        "for feature in categorical_features:\n",
        "    temp=dataset.groupby(feature)['UTS'].count()/len(dataset)\n",
        "    temp_df=temp[temp>0.01].index\n",
        "    dataset[feature]=np.where(dataset[feature].isin(temp_df),dataset[feature],'Rare_var')"
      ]
    },
    {
      "cell_type": "code",
      "execution_count": null,
      "metadata": {
        "colab": {
          "base_uri": "https://localhost:8080/",
          "height": 488
        },
        "id": "VwntJEZ4ls20",
        "outputId": "4a05f4c9-c680-4985-ee68-774612f15d2b"
      },
      "outputs": [
        {
          "output_type": "execute_result",
          "data": {
            "text/plain": [
              "     COIL_ID       GRADE COIL_GEN_TIME  FURN_EXIT_TEMP  FM_DOUT_TEMP  \\\n",
              "0   20081459  JVHGLD4AS0      Rare_var            1081           869   \n",
              "1   20097626  JVHGLD4AS0      Rare_var            1070           838   \n",
              "2   20097722    Rare_var      Rare_var            1075           882   \n",
              "3   20098318  JVHST01C00      Rare_var            1088           864   \n",
              "4   20098589  JVHWT02A00      Rare_var            1061           848   \n",
              "..       ...         ...           ...             ...           ...   \n",
              "95  20099556  JVHGLC4AS0      Rare_var            1017           839   \n",
              "96  20099558  JVHGLD4AS0      Rare_var            1025           858   \n",
              "97  20099565  JVHGLD4AS0      Rare_var            1061           872   \n",
              "98  20099570  JVHGLD4AS0      Rare_var            1054           871   \n",
              "99  20099573  JVHWT01A00      Rare_var            1058           859   \n",
              "\n",
              "    COILING_TEMP  SLAB_WID  SLAB_LEN  STRIP_EXIT_LEN  STRIP_EXIT_THIK  ...  \\\n",
              "0            680      1125   10750.0           69.81               34  ...   \n",
              "1            662      1245   10640.0           68.63               34  ...   \n",
              "2            611      1040   10750.0           66.08               36  ...   \n",
              "3            603      1260    9000.0           51.94               38  ...   \n",
              "4            650      1265    9811.0           61.23               35  ...   \n",
              "..           ...       ...       ...             ...              ...  ...   \n",
              "95           641      1203    8750.0           57.28               34  ...   \n",
              "96           678       940   10750.0           65.42               36  ...   \n",
              "97           689       940   10750.0           67.29               35  ...   \n",
              "98           686       940   10750.0           67.29               35  ...   \n",
              "99           613       920   10750.0           69.63               34  ...   \n",
              "\n",
              "         N     NI      P       S     SI     TI      V  UTS   YS  P_ELONGATION  \n",
              "0   0.0025  0.007  0.018  0.0100  0.004  0.001  0.001  346  294            42  \n",
              "1   0.0022  0.007  0.014  0.0100  0.007  0.001  0.001  365  299            42  \n",
              "2   0.0070  0.008  0.015  0.0030  0.164  0.002  0.001  730  575            21  \n",
              "3   0.0035  0.008  0.021  0.0131  0.099  0.002  0.001  495  397            30  \n",
              "4   0.0032  0.007  0.015  0.0101  0.006  0.001  0.001  379  326            41  \n",
              "..     ...    ...    ...     ...    ...    ...    ...  ...  ...           ...  \n",
              "95  0.0023  0.008  0.010  0.0064  0.008  0.001  0.001  366  327            41  \n",
              "96  0.0031  0.008  0.016  0.0100  0.006  0.001  0.001  355  308            43  \n",
              "97  0.0031  0.008  0.016  0.0100  0.006  0.001  0.001  352  303            44  \n",
              "98  0.0036  0.008  0.015  0.0100  0.009  0.001  0.001  350  302            44  \n",
              "99  0.0025  0.007  0.020  0.0090  0.012  0.001  0.001  384  336            36  \n",
              "\n",
              "[100 rows x 30 columns]"
            ],
            "text/html": [
              "\n",
              "  <div id=\"df-b30caba9-bcb5-4269-980f-493b1ca23f3a\">\n",
              "    <div class=\"colab-df-container\">\n",
              "      <div>\n",
              "<style scoped>\n",
              "    .dataframe tbody tr th:only-of-type {\n",
              "        vertical-align: middle;\n",
              "    }\n",
              "\n",
              "    .dataframe tbody tr th {\n",
              "        vertical-align: top;\n",
              "    }\n",
              "\n",
              "    .dataframe thead th {\n",
              "        text-align: right;\n",
              "    }\n",
              "</style>\n",
              "<table border=\"1\" class=\"dataframe\">\n",
              "  <thead>\n",
              "    <tr style=\"text-align: right;\">\n",
              "      <th></th>\n",
              "      <th>COIL_ID</th>\n",
              "      <th>GRADE</th>\n",
              "      <th>COIL_GEN_TIME</th>\n",
              "      <th>FURN_EXIT_TEMP</th>\n",
              "      <th>FM_DOUT_TEMP</th>\n",
              "      <th>COILING_TEMP</th>\n",
              "      <th>SLAB_WID</th>\n",
              "      <th>SLAB_LEN</th>\n",
              "      <th>STRIP_EXIT_LEN</th>\n",
              "      <th>STRIP_EXIT_THIK</th>\n",
              "      <th>...</th>\n",
              "      <th>N</th>\n",
              "      <th>NI</th>\n",
              "      <th>P</th>\n",
              "      <th>S</th>\n",
              "      <th>SI</th>\n",
              "      <th>TI</th>\n",
              "      <th>V</th>\n",
              "      <th>UTS</th>\n",
              "      <th>YS</th>\n",
              "      <th>P_ELONGATION</th>\n",
              "    </tr>\n",
              "  </thead>\n",
              "  <tbody>\n",
              "    <tr>\n",
              "      <th>0</th>\n",
              "      <td>20081459</td>\n",
              "      <td>JVHGLD4AS0</td>\n",
              "      <td>Rare_var</td>\n",
              "      <td>1081</td>\n",
              "      <td>869</td>\n",
              "      <td>680</td>\n",
              "      <td>1125</td>\n",
              "      <td>10750.0</td>\n",
              "      <td>69.81</td>\n",
              "      <td>34</td>\n",
              "      <td>...</td>\n",
              "      <td>0.0025</td>\n",
              "      <td>0.007</td>\n",
              "      <td>0.018</td>\n",
              "      <td>0.0100</td>\n",
              "      <td>0.004</td>\n",
              "      <td>0.001</td>\n",
              "      <td>0.001</td>\n",
              "      <td>346</td>\n",
              "      <td>294</td>\n",
              "      <td>42</td>\n",
              "    </tr>\n",
              "    <tr>\n",
              "      <th>1</th>\n",
              "      <td>20097626</td>\n",
              "      <td>JVHGLD4AS0</td>\n",
              "      <td>Rare_var</td>\n",
              "      <td>1070</td>\n",
              "      <td>838</td>\n",
              "      <td>662</td>\n",
              "      <td>1245</td>\n",
              "      <td>10640.0</td>\n",
              "      <td>68.63</td>\n",
              "      <td>34</td>\n",
              "      <td>...</td>\n",
              "      <td>0.0022</td>\n",
              "      <td>0.007</td>\n",
              "      <td>0.014</td>\n",
              "      <td>0.0100</td>\n",
              "      <td>0.007</td>\n",
              "      <td>0.001</td>\n",
              "      <td>0.001</td>\n",
              "      <td>365</td>\n",
              "      <td>299</td>\n",
              "      <td>42</td>\n",
              "    </tr>\n",
              "    <tr>\n",
              "      <th>2</th>\n",
              "      <td>20097722</td>\n",
              "      <td>Rare_var</td>\n",
              "      <td>Rare_var</td>\n",
              "      <td>1075</td>\n",
              "      <td>882</td>\n",
              "      <td>611</td>\n",
              "      <td>1040</td>\n",
              "      <td>10750.0</td>\n",
              "      <td>66.08</td>\n",
              "      <td>36</td>\n",
              "      <td>...</td>\n",
              "      <td>0.0070</td>\n",
              "      <td>0.008</td>\n",
              "      <td>0.015</td>\n",
              "      <td>0.0030</td>\n",
              "      <td>0.164</td>\n",
              "      <td>0.002</td>\n",
              "      <td>0.001</td>\n",
              "      <td>730</td>\n",
              "      <td>575</td>\n",
              "      <td>21</td>\n",
              "    </tr>\n",
              "    <tr>\n",
              "      <th>3</th>\n",
              "      <td>20098318</td>\n",
              "      <td>JVHST01C00</td>\n",
              "      <td>Rare_var</td>\n",
              "      <td>1088</td>\n",
              "      <td>864</td>\n",
              "      <td>603</td>\n",
              "      <td>1260</td>\n",
              "      <td>9000.0</td>\n",
              "      <td>51.94</td>\n",
              "      <td>38</td>\n",
              "      <td>...</td>\n",
              "      <td>0.0035</td>\n",
              "      <td>0.008</td>\n",
              "      <td>0.021</td>\n",
              "      <td>0.0131</td>\n",
              "      <td>0.099</td>\n",
              "      <td>0.002</td>\n",
              "      <td>0.001</td>\n",
              "      <td>495</td>\n",
              "      <td>397</td>\n",
              "      <td>30</td>\n",
              "    </tr>\n",
              "    <tr>\n",
              "      <th>4</th>\n",
              "      <td>20098589</td>\n",
              "      <td>JVHWT02A00</td>\n",
              "      <td>Rare_var</td>\n",
              "      <td>1061</td>\n",
              "      <td>848</td>\n",
              "      <td>650</td>\n",
              "      <td>1265</td>\n",
              "      <td>9811.0</td>\n",
              "      <td>61.23</td>\n",
              "      <td>35</td>\n",
              "      <td>...</td>\n",
              "      <td>0.0032</td>\n",
              "      <td>0.007</td>\n",
              "      <td>0.015</td>\n",
              "      <td>0.0101</td>\n",
              "      <td>0.006</td>\n",
              "      <td>0.001</td>\n",
              "      <td>0.001</td>\n",
              "      <td>379</td>\n",
              "      <td>326</td>\n",
              "      <td>41</td>\n",
              "    </tr>\n",
              "    <tr>\n",
              "      <th>...</th>\n",
              "      <td>...</td>\n",
              "      <td>...</td>\n",
              "      <td>...</td>\n",
              "      <td>...</td>\n",
              "      <td>...</td>\n",
              "      <td>...</td>\n",
              "      <td>...</td>\n",
              "      <td>...</td>\n",
              "      <td>...</td>\n",
              "      <td>...</td>\n",
              "      <td>...</td>\n",
              "      <td>...</td>\n",
              "      <td>...</td>\n",
              "      <td>...</td>\n",
              "      <td>...</td>\n",
              "      <td>...</td>\n",
              "      <td>...</td>\n",
              "      <td>...</td>\n",
              "      <td>...</td>\n",
              "      <td>...</td>\n",
              "      <td>...</td>\n",
              "    </tr>\n",
              "    <tr>\n",
              "      <th>95</th>\n",
              "      <td>20099556</td>\n",
              "      <td>JVHGLC4AS0</td>\n",
              "      <td>Rare_var</td>\n",
              "      <td>1017</td>\n",
              "      <td>839</td>\n",
              "      <td>641</td>\n",
              "      <td>1203</td>\n",
              "      <td>8750.0</td>\n",
              "      <td>57.28</td>\n",
              "      <td>34</td>\n",
              "      <td>...</td>\n",
              "      <td>0.0023</td>\n",
              "      <td>0.008</td>\n",
              "      <td>0.010</td>\n",
              "      <td>0.0064</td>\n",
              "      <td>0.008</td>\n",
              "      <td>0.001</td>\n",
              "      <td>0.001</td>\n",
              "      <td>366</td>\n",
              "      <td>327</td>\n",
              "      <td>41</td>\n",
              "    </tr>\n",
              "    <tr>\n",
              "      <th>96</th>\n",
              "      <td>20099558</td>\n",
              "      <td>JVHGLD4AS0</td>\n",
              "      <td>Rare_var</td>\n",
              "      <td>1025</td>\n",
              "      <td>858</td>\n",
              "      <td>678</td>\n",
              "      <td>940</td>\n",
              "      <td>10750.0</td>\n",
              "      <td>65.42</td>\n",
              "      <td>36</td>\n",
              "      <td>...</td>\n",
              "      <td>0.0031</td>\n",
              "      <td>0.008</td>\n",
              "      <td>0.016</td>\n",
              "      <td>0.0100</td>\n",
              "      <td>0.006</td>\n",
              "      <td>0.001</td>\n",
              "      <td>0.001</td>\n",
              "      <td>355</td>\n",
              "      <td>308</td>\n",
              "      <td>43</td>\n",
              "    </tr>\n",
              "    <tr>\n",
              "      <th>97</th>\n",
              "      <td>20099565</td>\n",
              "      <td>JVHGLD4AS0</td>\n",
              "      <td>Rare_var</td>\n",
              "      <td>1061</td>\n",
              "      <td>872</td>\n",
              "      <td>689</td>\n",
              "      <td>940</td>\n",
              "      <td>10750.0</td>\n",
              "      <td>67.29</td>\n",
              "      <td>35</td>\n",
              "      <td>...</td>\n",
              "      <td>0.0031</td>\n",
              "      <td>0.008</td>\n",
              "      <td>0.016</td>\n",
              "      <td>0.0100</td>\n",
              "      <td>0.006</td>\n",
              "      <td>0.001</td>\n",
              "      <td>0.001</td>\n",
              "      <td>352</td>\n",
              "      <td>303</td>\n",
              "      <td>44</td>\n",
              "    </tr>\n",
              "    <tr>\n",
              "      <th>98</th>\n",
              "      <td>20099570</td>\n",
              "      <td>JVHGLD4AS0</td>\n",
              "      <td>Rare_var</td>\n",
              "      <td>1054</td>\n",
              "      <td>871</td>\n",
              "      <td>686</td>\n",
              "      <td>940</td>\n",
              "      <td>10750.0</td>\n",
              "      <td>67.29</td>\n",
              "      <td>35</td>\n",
              "      <td>...</td>\n",
              "      <td>0.0036</td>\n",
              "      <td>0.008</td>\n",
              "      <td>0.015</td>\n",
              "      <td>0.0100</td>\n",
              "      <td>0.009</td>\n",
              "      <td>0.001</td>\n",
              "      <td>0.001</td>\n",
              "      <td>350</td>\n",
              "      <td>302</td>\n",
              "      <td>44</td>\n",
              "    </tr>\n",
              "    <tr>\n",
              "      <th>99</th>\n",
              "      <td>20099573</td>\n",
              "      <td>JVHWT01A00</td>\n",
              "      <td>Rare_var</td>\n",
              "      <td>1058</td>\n",
              "      <td>859</td>\n",
              "      <td>613</td>\n",
              "      <td>920</td>\n",
              "      <td>10750.0</td>\n",
              "      <td>69.63</td>\n",
              "      <td>34</td>\n",
              "      <td>...</td>\n",
              "      <td>0.0025</td>\n",
              "      <td>0.007</td>\n",
              "      <td>0.020</td>\n",
              "      <td>0.0090</td>\n",
              "      <td>0.012</td>\n",
              "      <td>0.001</td>\n",
              "      <td>0.001</td>\n",
              "      <td>384</td>\n",
              "      <td>336</td>\n",
              "      <td>36</td>\n",
              "    </tr>\n",
              "  </tbody>\n",
              "</table>\n",
              "<p>100 rows × 30 columns</p>\n",
              "</div>\n",
              "      <button class=\"colab-df-convert\" onclick=\"convertToInteractive('df-b30caba9-bcb5-4269-980f-493b1ca23f3a')\"\n",
              "              title=\"Convert this dataframe to an interactive table.\"\n",
              "              style=\"display:none;\">\n",
              "        \n",
              "  <svg xmlns=\"http://www.w3.org/2000/svg\" height=\"24px\"viewBox=\"0 0 24 24\"\n",
              "       width=\"24px\">\n",
              "    <path d=\"M0 0h24v24H0V0z\" fill=\"none\"/>\n",
              "    <path d=\"M18.56 5.44l.94 2.06.94-2.06 2.06-.94-2.06-.94-.94-2.06-.94 2.06-2.06.94zm-11 1L8.5 8.5l.94-2.06 2.06-.94-2.06-.94L8.5 2.5l-.94 2.06-2.06.94zm10 10l.94 2.06.94-2.06 2.06-.94-2.06-.94-.94-2.06-.94 2.06-2.06.94z\"/><path d=\"M17.41 7.96l-1.37-1.37c-.4-.4-.92-.59-1.43-.59-.52 0-1.04.2-1.43.59L10.3 9.45l-7.72 7.72c-.78.78-.78 2.05 0 2.83L4 21.41c.39.39.9.59 1.41.59.51 0 1.02-.2 1.41-.59l7.78-7.78 2.81-2.81c.8-.78.8-2.07 0-2.86zM5.41 20L4 18.59l7.72-7.72 1.47 1.35L5.41 20z\"/>\n",
              "  </svg>\n",
              "      </button>\n",
              "      \n",
              "  <style>\n",
              "    .colab-df-container {\n",
              "      display:flex;\n",
              "      flex-wrap:wrap;\n",
              "      gap: 12px;\n",
              "    }\n",
              "\n",
              "    .colab-df-convert {\n",
              "      background-color: #E8F0FE;\n",
              "      border: none;\n",
              "      border-radius: 50%;\n",
              "      cursor: pointer;\n",
              "      display: none;\n",
              "      fill: #1967D2;\n",
              "      height: 32px;\n",
              "      padding: 0 0 0 0;\n",
              "      width: 32px;\n",
              "    }\n",
              "\n",
              "    .colab-df-convert:hover {\n",
              "      background-color: #E2EBFA;\n",
              "      box-shadow: 0px 1px 2px rgba(60, 64, 67, 0.3), 0px 1px 3px 1px rgba(60, 64, 67, 0.15);\n",
              "      fill: #174EA6;\n",
              "    }\n",
              "\n",
              "    [theme=dark] .colab-df-convert {\n",
              "      background-color: #3B4455;\n",
              "      fill: #D2E3FC;\n",
              "    }\n",
              "\n",
              "    [theme=dark] .colab-df-convert:hover {\n",
              "      background-color: #434B5C;\n",
              "      box-shadow: 0px 1px 3px 1px rgba(0, 0, 0, 0.15);\n",
              "      filter: drop-shadow(0px 1px 2px rgba(0, 0, 0, 0.3));\n",
              "      fill: #FFFFFF;\n",
              "    }\n",
              "  </style>\n",
              "\n",
              "      <script>\n",
              "        const buttonEl =\n",
              "          document.querySelector('#df-b30caba9-bcb5-4269-980f-493b1ca23f3a button.colab-df-convert');\n",
              "        buttonEl.style.display =\n",
              "          google.colab.kernel.accessAllowed ? 'block' : 'none';\n",
              "\n",
              "        async function convertToInteractive(key) {\n",
              "          const element = document.querySelector('#df-b30caba9-bcb5-4269-980f-493b1ca23f3a');\n",
              "          const dataTable =\n",
              "            await google.colab.kernel.invokeFunction('convertToInteractive',\n",
              "                                                     [key], {});\n",
              "          if (!dataTable) return;\n",
              "\n",
              "          const docLinkHtml = 'Like what you see? Visit the ' +\n",
              "            '<a target=\"_blank\" href=https://colab.research.google.com/notebooks/data_table.ipynb>data table notebook</a>'\n",
              "            + ' to learn more about interactive tables.';\n",
              "          element.innerHTML = '';\n",
              "          dataTable['output_type'] = 'display_data';\n",
              "          await google.colab.output.renderOutput(dataTable, element);\n",
              "          const docLink = document.createElement('div');\n",
              "          docLink.innerHTML = docLinkHtml;\n",
              "          element.appendChild(docLink);\n",
              "        }\n",
              "      </script>\n",
              "    </div>\n",
              "  </div>\n",
              "  "
            ]
          },
          "metadata": {},
          "execution_count": 15
        }
      ],
      "source": [
        "dataset.head(100)"
      ]
    },
    {
      "cell_type": "code",
      "execution_count": null,
      "metadata": {
        "id": "4ylb1xlYlwk7"
      },
      "outputs": [],
      "source": [
        "for feature in categorical_features:\n",
        "    labels_ordered=dataset.groupby([feature])['UTS'].mean().sort_values().index\n",
        "    labels_ordered={k:i for i,k in enumerate(labels_ordered,0)}\n",
        "    dataset[feature]=dataset[feature].map(labels_ordered)"
      ]
    },
    {
      "cell_type": "code",
      "execution_count": null,
      "metadata": {
        "id": "x2G0bTTYl1HG"
      },
      "outputs": [],
      "source": [
        "scaling_feature=[feature for feature in dataset.columns if feature not in ['UTS','YS','P_ELONGATION']]"
      ]
    },
    {
      "cell_type": "code",
      "execution_count": null,
      "metadata": {
        "colab": {
          "base_uri": "https://localhost:8080/"
        },
        "id": "xdMaZFdvl4qs",
        "outputId": "ba3b6625-bbc8-4f1f-8601-ebda6eb4cb13"
      },
      "outputs": [
        {
          "output_type": "execute_result",
          "data": {
            "text/plain": [
              "['COIL_ID',\n",
              " 'GRADE',\n",
              " 'COIL_GEN_TIME',\n",
              " 'FURN_EXIT_TEMP',\n",
              " 'FM_DOUT_TEMP',\n",
              " 'COILING_TEMP',\n",
              " 'SLAB_WID',\n",
              " 'SLAB_LEN',\n",
              " 'STRIP_EXIT_LEN',\n",
              " 'STRIP_EXIT_THIK',\n",
              " 'FM_EXIT_THIK',\n",
              " 'AL',\n",
              " 'B',\n",
              " 'C',\n",
              " 'CA',\n",
              " 'NB',\n",
              " 'CR',\n",
              " 'CU',\n",
              " 'MN',\n",
              " 'MO',\n",
              " 'N',\n",
              " 'NI',\n",
              " 'P',\n",
              " 'S',\n",
              " 'SI',\n",
              " 'TI',\n",
              " 'V']"
            ]
          },
          "metadata": {},
          "execution_count": 18
        }
      ],
      "source": [
        "scaling_feature"
      ]
    },
    {
      "cell_type": "code",
      "execution_count": null,
      "metadata": {
        "colab": {
          "base_uri": "https://localhost:8080/",
          "height": 488
        },
        "id": "UuhEwAiil7sD",
        "outputId": "d2313b6c-e99b-4595-a376-08b012fe99d2"
      },
      "outputs": [
        {
          "output_type": "execute_result",
          "data": {
            "text/plain": [
              "       GRADE  COIL_GEN_TIME  FURN_EXIT_TEMP  FM_DOUT_TEMP  COILING_TEMP  \\\n",
              "0          0              0            1081           869           680   \n",
              "1          0              0            1070           838           662   \n",
              "2         12              0            1075           882           611   \n",
              "3         14              0            1088           864           603   \n",
              "4          7              0            1061           848           650   \n",
              "...      ...            ...             ...           ...           ...   \n",
              "40959      7              0            1075           870           635   \n",
              "40960      7              0            1066           878           645   \n",
              "40961      7              0            1081           873           635   \n",
              "40962     10              0            1075           894           652   \n",
              "40963     14              0            1070           870           627   \n",
              "\n",
              "       SLAB_WID  SLAB_LEN  STRIP_EXIT_LEN  STRIP_EXIT_THIK  FM_EXIT_THIK  ...  \\\n",
              "0          1125   10750.0           69.81               34          1.99  ...   \n",
              "1          1245   10640.0           68.63               34          2.05  ...   \n",
              "2          1040   10750.0           66.08               36          2.49  ...   \n",
              "3          1260    9000.0           51.94               38          4.99  ...   \n",
              "4          1265    9811.0           61.23               35          2.31  ...   \n",
              "...         ...       ...             ...              ...           ...  ...   \n",
              "40959      1270   10700.0           69.56               34          1.99  ...   \n",
              "40960      1270   10700.0           69.56               34          1.99  ...   \n",
              "40961      1270   10700.0           69.56               34          1.99  ...   \n",
              "40962      1270   10700.0           62.24               38          5.78  ...   \n",
              "40963      1265   10700.0           54.79               43          7.78  ...   \n",
              "\n",
              "          CU    MN     MO       N     NI      P       S     SI     TI      V  \n",
              "0      0.007  0.20  0.001  0.0025  0.007  0.018  0.0100  0.004  0.001  0.001  \n",
              "1      0.006  0.23  0.001  0.0022  0.007  0.014  0.0100  0.007  0.001  0.001  \n",
              "2      0.006  1.35  0.001  0.0070  0.008  0.015  0.0030  0.164  0.002  0.001  \n",
              "3      0.010  0.75  0.001  0.0035  0.008  0.021  0.0131  0.099  0.002  0.001  \n",
              "4      0.005  0.32  0.001  0.0032  0.007  0.015  0.0101  0.006  0.001  0.001  \n",
              "...      ...   ...    ...     ...    ...    ...     ...    ...    ...    ...  \n",
              "40959  0.006  0.33  0.001  0.0027  0.007  0.012  0.0086  0.007  0.001  0.001  \n",
              "40960  0.006  0.33  0.001  0.0034  0.008  0.011  0.0063  0.015  0.008  0.001  \n",
              "40961  0.006  0.34  0.001  0.0032  0.007  0.011  0.0045  0.017  0.001  0.001  \n",
              "40962  0.006  0.47  0.001  0.0034  0.007  0.015  0.0064  0.018  0.001  0.001  \n",
              "40963  0.006  0.74  0.001  0.0033  0.008  0.025  0.0041  0.139  0.003  0.001  \n",
              "\n",
              "[40964 rows x 26 columns]"
            ],
            "text/html": [
              "\n",
              "  <div id=\"df-db58a548-6bf1-45fd-89d9-d24df874e1a7\">\n",
              "    <div class=\"colab-df-container\">\n",
              "      <div>\n",
              "<style scoped>\n",
              "    .dataframe tbody tr th:only-of-type {\n",
              "        vertical-align: middle;\n",
              "    }\n",
              "\n",
              "    .dataframe tbody tr th {\n",
              "        vertical-align: top;\n",
              "    }\n",
              "\n",
              "    .dataframe thead th {\n",
              "        text-align: right;\n",
              "    }\n",
              "</style>\n",
              "<table border=\"1\" class=\"dataframe\">\n",
              "  <thead>\n",
              "    <tr style=\"text-align: right;\">\n",
              "      <th></th>\n",
              "      <th>GRADE</th>\n",
              "      <th>COIL_GEN_TIME</th>\n",
              "      <th>FURN_EXIT_TEMP</th>\n",
              "      <th>FM_DOUT_TEMP</th>\n",
              "      <th>COILING_TEMP</th>\n",
              "      <th>SLAB_WID</th>\n",
              "      <th>SLAB_LEN</th>\n",
              "      <th>STRIP_EXIT_LEN</th>\n",
              "      <th>STRIP_EXIT_THIK</th>\n",
              "      <th>FM_EXIT_THIK</th>\n",
              "      <th>...</th>\n",
              "      <th>CU</th>\n",
              "      <th>MN</th>\n",
              "      <th>MO</th>\n",
              "      <th>N</th>\n",
              "      <th>NI</th>\n",
              "      <th>P</th>\n",
              "      <th>S</th>\n",
              "      <th>SI</th>\n",
              "      <th>TI</th>\n",
              "      <th>V</th>\n",
              "    </tr>\n",
              "  </thead>\n",
              "  <tbody>\n",
              "    <tr>\n",
              "      <th>0</th>\n",
              "      <td>0</td>\n",
              "      <td>0</td>\n",
              "      <td>1081</td>\n",
              "      <td>869</td>\n",
              "      <td>680</td>\n",
              "      <td>1125</td>\n",
              "      <td>10750.0</td>\n",
              "      <td>69.81</td>\n",
              "      <td>34</td>\n",
              "      <td>1.99</td>\n",
              "      <td>...</td>\n",
              "      <td>0.007</td>\n",
              "      <td>0.20</td>\n",
              "      <td>0.001</td>\n",
              "      <td>0.0025</td>\n",
              "      <td>0.007</td>\n",
              "      <td>0.018</td>\n",
              "      <td>0.0100</td>\n",
              "      <td>0.004</td>\n",
              "      <td>0.001</td>\n",
              "      <td>0.001</td>\n",
              "    </tr>\n",
              "    <tr>\n",
              "      <th>1</th>\n",
              "      <td>0</td>\n",
              "      <td>0</td>\n",
              "      <td>1070</td>\n",
              "      <td>838</td>\n",
              "      <td>662</td>\n",
              "      <td>1245</td>\n",
              "      <td>10640.0</td>\n",
              "      <td>68.63</td>\n",
              "      <td>34</td>\n",
              "      <td>2.05</td>\n",
              "      <td>...</td>\n",
              "      <td>0.006</td>\n",
              "      <td>0.23</td>\n",
              "      <td>0.001</td>\n",
              "      <td>0.0022</td>\n",
              "      <td>0.007</td>\n",
              "      <td>0.014</td>\n",
              "      <td>0.0100</td>\n",
              "      <td>0.007</td>\n",
              "      <td>0.001</td>\n",
              "      <td>0.001</td>\n",
              "    </tr>\n",
              "    <tr>\n",
              "      <th>2</th>\n",
              "      <td>12</td>\n",
              "      <td>0</td>\n",
              "      <td>1075</td>\n",
              "      <td>882</td>\n",
              "      <td>611</td>\n",
              "      <td>1040</td>\n",
              "      <td>10750.0</td>\n",
              "      <td>66.08</td>\n",
              "      <td>36</td>\n",
              "      <td>2.49</td>\n",
              "      <td>...</td>\n",
              "      <td>0.006</td>\n",
              "      <td>1.35</td>\n",
              "      <td>0.001</td>\n",
              "      <td>0.0070</td>\n",
              "      <td>0.008</td>\n",
              "      <td>0.015</td>\n",
              "      <td>0.0030</td>\n",
              "      <td>0.164</td>\n",
              "      <td>0.002</td>\n",
              "      <td>0.001</td>\n",
              "    </tr>\n",
              "    <tr>\n",
              "      <th>3</th>\n",
              "      <td>14</td>\n",
              "      <td>0</td>\n",
              "      <td>1088</td>\n",
              "      <td>864</td>\n",
              "      <td>603</td>\n",
              "      <td>1260</td>\n",
              "      <td>9000.0</td>\n",
              "      <td>51.94</td>\n",
              "      <td>38</td>\n",
              "      <td>4.99</td>\n",
              "      <td>...</td>\n",
              "      <td>0.010</td>\n",
              "      <td>0.75</td>\n",
              "      <td>0.001</td>\n",
              "      <td>0.0035</td>\n",
              "      <td>0.008</td>\n",
              "      <td>0.021</td>\n",
              "      <td>0.0131</td>\n",
              "      <td>0.099</td>\n",
              "      <td>0.002</td>\n",
              "      <td>0.001</td>\n",
              "    </tr>\n",
              "    <tr>\n",
              "      <th>4</th>\n",
              "      <td>7</td>\n",
              "      <td>0</td>\n",
              "      <td>1061</td>\n",
              "      <td>848</td>\n",
              "      <td>650</td>\n",
              "      <td>1265</td>\n",
              "      <td>9811.0</td>\n",
              "      <td>61.23</td>\n",
              "      <td>35</td>\n",
              "      <td>2.31</td>\n",
              "      <td>...</td>\n",
              "      <td>0.005</td>\n",
              "      <td>0.32</td>\n",
              "      <td>0.001</td>\n",
              "      <td>0.0032</td>\n",
              "      <td>0.007</td>\n",
              "      <td>0.015</td>\n",
              "      <td>0.0101</td>\n",
              "      <td>0.006</td>\n",
              "      <td>0.001</td>\n",
              "      <td>0.001</td>\n",
              "    </tr>\n",
              "    <tr>\n",
              "      <th>...</th>\n",
              "      <td>...</td>\n",
              "      <td>...</td>\n",
              "      <td>...</td>\n",
              "      <td>...</td>\n",
              "      <td>...</td>\n",
              "      <td>...</td>\n",
              "      <td>...</td>\n",
              "      <td>...</td>\n",
              "      <td>...</td>\n",
              "      <td>...</td>\n",
              "      <td>...</td>\n",
              "      <td>...</td>\n",
              "      <td>...</td>\n",
              "      <td>...</td>\n",
              "      <td>...</td>\n",
              "      <td>...</td>\n",
              "      <td>...</td>\n",
              "      <td>...</td>\n",
              "      <td>...</td>\n",
              "      <td>...</td>\n",
              "      <td>...</td>\n",
              "    </tr>\n",
              "    <tr>\n",
              "      <th>40959</th>\n",
              "      <td>7</td>\n",
              "      <td>0</td>\n",
              "      <td>1075</td>\n",
              "      <td>870</td>\n",
              "      <td>635</td>\n",
              "      <td>1270</td>\n",
              "      <td>10700.0</td>\n",
              "      <td>69.56</td>\n",
              "      <td>34</td>\n",
              "      <td>1.99</td>\n",
              "      <td>...</td>\n",
              "      <td>0.006</td>\n",
              "      <td>0.33</td>\n",
              "      <td>0.001</td>\n",
              "      <td>0.0027</td>\n",
              "      <td>0.007</td>\n",
              "      <td>0.012</td>\n",
              "      <td>0.0086</td>\n",
              "      <td>0.007</td>\n",
              "      <td>0.001</td>\n",
              "      <td>0.001</td>\n",
              "    </tr>\n",
              "    <tr>\n",
              "      <th>40960</th>\n",
              "      <td>7</td>\n",
              "      <td>0</td>\n",
              "      <td>1066</td>\n",
              "      <td>878</td>\n",
              "      <td>645</td>\n",
              "      <td>1270</td>\n",
              "      <td>10700.0</td>\n",
              "      <td>69.56</td>\n",
              "      <td>34</td>\n",
              "      <td>1.99</td>\n",
              "      <td>...</td>\n",
              "      <td>0.006</td>\n",
              "      <td>0.33</td>\n",
              "      <td>0.001</td>\n",
              "      <td>0.0034</td>\n",
              "      <td>0.008</td>\n",
              "      <td>0.011</td>\n",
              "      <td>0.0063</td>\n",
              "      <td>0.015</td>\n",
              "      <td>0.008</td>\n",
              "      <td>0.001</td>\n",
              "    </tr>\n",
              "    <tr>\n",
              "      <th>40961</th>\n",
              "      <td>7</td>\n",
              "      <td>0</td>\n",
              "      <td>1081</td>\n",
              "      <td>873</td>\n",
              "      <td>635</td>\n",
              "      <td>1270</td>\n",
              "      <td>10700.0</td>\n",
              "      <td>69.56</td>\n",
              "      <td>34</td>\n",
              "      <td>1.99</td>\n",
              "      <td>...</td>\n",
              "      <td>0.006</td>\n",
              "      <td>0.34</td>\n",
              "      <td>0.001</td>\n",
              "      <td>0.0032</td>\n",
              "      <td>0.007</td>\n",
              "      <td>0.011</td>\n",
              "      <td>0.0045</td>\n",
              "      <td>0.017</td>\n",
              "      <td>0.001</td>\n",
              "      <td>0.001</td>\n",
              "    </tr>\n",
              "    <tr>\n",
              "      <th>40962</th>\n",
              "      <td>10</td>\n",
              "      <td>0</td>\n",
              "      <td>1075</td>\n",
              "      <td>894</td>\n",
              "      <td>652</td>\n",
              "      <td>1270</td>\n",
              "      <td>10700.0</td>\n",
              "      <td>62.24</td>\n",
              "      <td>38</td>\n",
              "      <td>5.78</td>\n",
              "      <td>...</td>\n",
              "      <td>0.006</td>\n",
              "      <td>0.47</td>\n",
              "      <td>0.001</td>\n",
              "      <td>0.0034</td>\n",
              "      <td>0.007</td>\n",
              "      <td>0.015</td>\n",
              "      <td>0.0064</td>\n",
              "      <td>0.018</td>\n",
              "      <td>0.001</td>\n",
              "      <td>0.001</td>\n",
              "    </tr>\n",
              "    <tr>\n",
              "      <th>40963</th>\n",
              "      <td>14</td>\n",
              "      <td>0</td>\n",
              "      <td>1070</td>\n",
              "      <td>870</td>\n",
              "      <td>627</td>\n",
              "      <td>1265</td>\n",
              "      <td>10700.0</td>\n",
              "      <td>54.79</td>\n",
              "      <td>43</td>\n",
              "      <td>7.78</td>\n",
              "      <td>...</td>\n",
              "      <td>0.006</td>\n",
              "      <td>0.74</td>\n",
              "      <td>0.001</td>\n",
              "      <td>0.0033</td>\n",
              "      <td>0.008</td>\n",
              "      <td>0.025</td>\n",
              "      <td>0.0041</td>\n",
              "      <td>0.139</td>\n",
              "      <td>0.003</td>\n",
              "      <td>0.001</td>\n",
              "    </tr>\n",
              "  </tbody>\n",
              "</table>\n",
              "<p>40964 rows × 26 columns</p>\n",
              "</div>\n",
              "      <button class=\"colab-df-convert\" onclick=\"convertToInteractive('df-db58a548-6bf1-45fd-89d9-d24df874e1a7')\"\n",
              "              title=\"Convert this dataframe to an interactive table.\"\n",
              "              style=\"display:none;\">\n",
              "        \n",
              "  <svg xmlns=\"http://www.w3.org/2000/svg\" height=\"24px\"viewBox=\"0 0 24 24\"\n",
              "       width=\"24px\">\n",
              "    <path d=\"M0 0h24v24H0V0z\" fill=\"none\"/>\n",
              "    <path d=\"M18.56 5.44l.94 2.06.94-2.06 2.06-.94-2.06-.94-.94-2.06-.94 2.06-2.06.94zm-11 1L8.5 8.5l.94-2.06 2.06-.94-2.06-.94L8.5 2.5l-.94 2.06-2.06.94zm10 10l.94 2.06.94-2.06 2.06-.94-2.06-.94-.94-2.06-.94 2.06-2.06.94z\"/><path d=\"M17.41 7.96l-1.37-1.37c-.4-.4-.92-.59-1.43-.59-.52 0-1.04.2-1.43.59L10.3 9.45l-7.72 7.72c-.78.78-.78 2.05 0 2.83L4 21.41c.39.39.9.59 1.41.59.51 0 1.02-.2 1.41-.59l7.78-7.78 2.81-2.81c.8-.78.8-2.07 0-2.86zM5.41 20L4 18.59l7.72-7.72 1.47 1.35L5.41 20z\"/>\n",
              "  </svg>\n",
              "      </button>\n",
              "      \n",
              "  <style>\n",
              "    .colab-df-container {\n",
              "      display:flex;\n",
              "      flex-wrap:wrap;\n",
              "      gap: 12px;\n",
              "    }\n",
              "\n",
              "    .colab-df-convert {\n",
              "      background-color: #E8F0FE;\n",
              "      border: none;\n",
              "      border-radius: 50%;\n",
              "      cursor: pointer;\n",
              "      display: none;\n",
              "      fill: #1967D2;\n",
              "      height: 32px;\n",
              "      padding: 0 0 0 0;\n",
              "      width: 32px;\n",
              "    }\n",
              "\n",
              "    .colab-df-convert:hover {\n",
              "      background-color: #E2EBFA;\n",
              "      box-shadow: 0px 1px 2px rgba(60, 64, 67, 0.3), 0px 1px 3px 1px rgba(60, 64, 67, 0.15);\n",
              "      fill: #174EA6;\n",
              "    }\n",
              "\n",
              "    [theme=dark] .colab-df-convert {\n",
              "      background-color: #3B4455;\n",
              "      fill: #D2E3FC;\n",
              "    }\n",
              "\n",
              "    [theme=dark] .colab-df-convert:hover {\n",
              "      background-color: #434B5C;\n",
              "      box-shadow: 0px 1px 3px 1px rgba(0, 0, 0, 0.15);\n",
              "      filter: drop-shadow(0px 1px 2px rgba(0, 0, 0, 0.3));\n",
              "      fill: #FFFFFF;\n",
              "    }\n",
              "  </style>\n",
              "\n",
              "      <script>\n",
              "        const buttonEl =\n",
              "          document.querySelector('#df-db58a548-6bf1-45fd-89d9-d24df874e1a7 button.colab-df-convert');\n",
              "        buttonEl.style.display =\n",
              "          google.colab.kernel.accessAllowed ? 'block' : 'none';\n",
              "\n",
              "        async function convertToInteractive(key) {\n",
              "          const element = document.querySelector('#df-db58a548-6bf1-45fd-89d9-d24df874e1a7');\n",
              "          const dataTable =\n",
              "            await google.colab.kernel.invokeFunction('convertToInteractive',\n",
              "                                                     [key], {});\n",
              "          if (!dataTable) return;\n",
              "\n",
              "          const docLinkHtml = 'Like what you see? Visit the ' +\n",
              "            '<a target=\"_blank\" href=https://colab.research.google.com/notebooks/data_table.ipynb>data table notebook</a>'\n",
              "            + ' to learn more about interactive tables.';\n",
              "          element.innerHTML = '';\n",
              "          dataTable['output_type'] = 'display_data';\n",
              "          await google.colab.output.renderOutput(dataTable, element);\n",
              "          const docLink = document.createElement('div');\n",
              "          docLink.innerHTML = docLinkHtml;\n",
              "          element.appendChild(docLink);\n",
              "        }\n",
              "      </script>\n",
              "    </div>\n",
              "  </div>\n",
              "  "
            ]
          },
          "metadata": {},
          "execution_count": 19
        }
      ],
      "source": [
        "X=dataset.drop(['COIL_ID','UTS','YS','P_ELONGATION'],axis=1)\n",
        "\n",
        "X"
      ]
    },
    {
      "cell_type": "code",
      "execution_count": null,
      "metadata": {
        "colab": {
          "base_uri": "https://localhost:8080/"
        },
        "id": "OFtY_pFUmBSr",
        "outputId": "e7fbc56d-4291-4faa-ddf8-6b556c428102"
      },
      "outputs": [
        {
          "output_type": "execute_result",
          "data": {
            "text/plain": [
              "array([[346],\n",
              "       [365],\n",
              "       [730],\n",
              "       ...,\n",
              "       [389],\n",
              "       [405],\n",
              "       [486]])"
            ]
          },
          "metadata": {},
          "execution_count": 20
        }
      ],
      "source": [
        "y=dataset[['UTS'\n",
        "       ]].values\n",
        "y"
      ]
    },
    {
      "cell_type": "code",
      "execution_count": null,
      "metadata": {
        "id": "2shRNcq9mFMx"
      },
      "outputs": [],
      "source": [
        "# prediction model building"
      ]
    },
    {
      "cell_type": "code",
      "execution_count": null,
      "metadata": {
        "id": "lgD10n0_mP1T"
      },
      "outputs": [],
      "source": [
        "import pandas as pd\n",
        "import numpy as np"
      ]
    },
    {
      "cell_type": "code",
      "execution_count": null,
      "metadata": {
        "id": "xC6W-BGEmT0M"
      },
      "outputs": [],
      "source": [
        "from sklearn.ensemble import GradientBoostingRegressor "
      ]
    },
    {
      "cell_type": "code",
      "execution_count": null,
      "metadata": {
        "id": "0gaRWmVBmX1U"
      },
      "outputs": [],
      "source": [
        "from sklearn.preprocessing import LabelEncoder"
      ]
    },
    {
      "cell_type": "code",
      "execution_count": null,
      "metadata": {
        "id": "Mk-p9KsPmaMu"
      },
      "outputs": [],
      "source": [
        "# we will now  see the effect of different number of estimators on mse"
      ]
    },
    {
      "cell_type": "code",
      "execution_count": null,
      "metadata": {
        "id": "vQGvYbc6mgqB"
      },
      "outputs": [],
      "source": [
        "# Splitting the data into a train set and a test set\n",
        "from sklearn.model_selection import train_test_split\n",
        "\n",
        "X_train,X_test,y_train,y_test=train_test_split(X,y,test_size=0.2,random_state=0)\n",
        "params = {\n",
        "    \"n_estimators\": 500,\n",
        "    \"max_depth\": 4,\n",
        "    \"min_samples_split\": 5,\n",
        "    \"learning_rate\": 0.01,\n",
        "    \"loss\": \"squared_error\",\n",
        "}"
      ]
    },
    {
      "cell_type": "markdown",
      "metadata": {
        "id": "l67RAeHpJm85"
      },
      "source": [
        "n_estimators : the number of boosting stages that will be performed. Later, we will plot deviance against boosting iterations.\n",
        "\n",
        "max_depth : limits the number of nodes in the tree. The best value depends on the interaction of the input variables.\n",
        "\n",
        "min_samples_split : the minimum number of samples required to split an internal node.\n",
        "\n",
        "learning_rate : how much the contribution of each tree will shrink.\n",
        "\n",
        "loss : loss function to optimize. The least squares function is used in this case however, there are many other options"
      ]
    },
    {
      "cell_type": "code",
      "execution_count": null,
      "metadata": {
        "id": "ylBkK_X3mkSm"
      },
      "outputs": [],
      "source": [
        "GB=GradientBoostingRegressor(**params)"
      ]
    },
    {
      "cell_type": "code",
      "execution_count": null,
      "metadata": {
        "colab": {
          "base_uri": "https://localhost:8080/"
        },
        "id": "HywgnObRmot3",
        "outputId": "1e7eed90-28de-41ad-a4d9-88456575143e"
      },
      "outputs": [
        {
          "output_type": "stream",
          "name": "stderr",
          "text": [
            "/usr/local/lib/python3.7/dist-packages/sklearn/ensemble/_gb.py:494: DataConversionWarning: A column-vector y was passed when a 1d array was expected. Please change the shape of y to (n_samples, ), for example using ravel().\n",
            "  y = column_or_1d(y, warn=True)\n"
          ]
        },
        {
          "output_type": "execute_result",
          "data": {
            "text/plain": [
              "GradientBoostingRegressor(learning_rate=0.01, max_depth=4, min_samples_split=5,\n",
              "                          n_estimators=500)"
            ]
          },
          "metadata": {},
          "execution_count": 28
        }
      ],
      "source": [
        "GB.fit(X_train,y_train)"
      ]
    },
    {
      "cell_type": "code",
      "execution_count": null,
      "metadata": {
        "id": "lq75qwrSmrUP"
      },
      "outputs": [],
      "source": [
        "y_pred=GB.predict(X_test)"
      ]
    },
    {
      "cell_type": "code",
      "execution_count": null,
      "metadata": {
        "colab": {
          "base_uri": "https://localhost:8080/"
        },
        "id": "_H9-OiHymwoy",
        "outputId": "f079ca2c-517d-4e8b-f5ac-658f125fc2da"
      },
      "outputs": [
        {
          "output_type": "execute_result",
          "data": {
            "text/plain": [
              "array([358.7867603 , 360.26356444, 476.14937264, ..., 393.32207969,\n",
              "       386.317832  , 361.99215045])"
            ]
          },
          "metadata": {},
          "execution_count": 30
        }
      ],
      "source": [
        "y_pred"
      ]
    },
    {
      "cell_type": "code",
      "execution_count": null,
      "metadata": {
        "colab": {
          "base_uri": "https://localhost:8080/"
        },
        "id": "6vJOwZURN88t",
        "outputId": "6e3f9d59-1428-4a56-b3a2-fa1691ed3121"
      },
      "outputs": [
        {
          "output_type": "execute_result",
          "data": {
            "text/plain": [
              "0.9327788769848911"
            ]
          },
          "metadata": {},
          "execution_count": 31
        }
      ],
      "source": [
        "GB.score(X_test, y_test)"
      ]
    },
    {
      "cell_type": "code",
      "execution_count": null,
      "metadata": {
        "id": "TfxpM5hDm0vr"
      },
      "outputs": [],
      "source": [
        "from sklearn.metrics import mean_squared_error # for calculating the cost function\n",
        "rmse=float(format(np.sqrt(mean_squared_error(y_pred,y_test)),'.3f'))\n"
      ]
    },
    {
      "cell_type": "code",
      "execution_count": null,
      "metadata": {
        "colab": {
          "base_uri": "https://localhost:8080/"
        },
        "id": "Wck9tU4im5cw",
        "outputId": "3aab3ed5-4b0e-456a-893e-694fc3b3968b"
      },
      "outputs": [
        {
          "output_type": "execute_result",
          "data": {
            "text/plain": [
              "12.144"
            ]
          },
          "metadata": {},
          "execution_count": 33
        }
      ],
      "source": [
        "rmse"
      ]
    },
    {
      "cell_type": "code",
      "execution_count": null,
      "metadata": {
        "colab": {
          "base_uri": "https://localhost:8080/"
        },
        "id": "iT0bUZo2RlzT",
        "outputId": "2ad33c8b-7526-448e-80c7-3d80e66f9f06"
      },
      "outputs": [
        {
          "output_type": "stream",
          "name": "stderr",
          "text": [
            "/usr/local/lib/python3.7/dist-packages/sklearn/ensemble/_gb.py:494: DataConversionWarning: A column-vector y was passed when a 1d array was expected. Please change the shape of y to (n_samples, ), for example using ravel().\n",
            "  y = column_or_1d(y, warn=True)\n",
            "/usr/local/lib/python3.7/dist-packages/sklearn/ensemble/_gb.py:494: DataConversionWarning: A column-vector y was passed when a 1d array was expected. Please change the shape of y to (n_samples, ), for example using ravel().\n",
            "  y = column_or_1d(y, warn=True)\n",
            "/usr/local/lib/python3.7/dist-packages/sklearn/ensemble/_gb.py:494: DataConversionWarning: A column-vector y was passed when a 1d array was expected. Please change the shape of y to (n_samples, ), for example using ravel().\n",
            "  y = column_or_1d(y, warn=True)\n",
            "/usr/local/lib/python3.7/dist-packages/sklearn/ensemble/_gb.py:494: DataConversionWarning: A column-vector y was passed when a 1d array was expected. Please change the shape of y to (n_samples, ), for example using ravel().\n",
            "  y = column_or_1d(y, warn=True)\n"
          ]
        },
        {
          "output_type": "stream",
          "name": "stdout",
          "text": [
            "Mean_GB_Acc :  0.9322458523107797\n"
          ]
        }
      ],
      "source": [
        "from sklearn.model_selection import cross_val_score\n",
        "GB_accuracies = cross_val_score(estimator = GB, X = X_train, y = y_train, cv = 4)\n",
        "print(\"Mean_GB_Acc : \", GB_accuracies.mean())"
      ]
    },
    {
      "cell_type": "code",
      "execution_count": null,
      "metadata": {
        "id": "YeQzyFOSm8bI"
      },
      "outputs": [],
      "source": [
        "# finding the best estimators with gridsearchcv"
      ]
    },
    {
      "cell_type": "code",
      "execution_count": null,
      "metadata": {
        "id": "h8ER7XvYnVMk"
      },
      "outputs": [],
      "source": [
        "from sklearn.model_selection import GridSearchCV"
      ]
    },
    {
      "cell_type": "code",
      "execution_count": null,
      "metadata": {
        "id": "06rrA3yknYHv"
      },
      "outputs": [],
      "source": [
        "model=GradientBoostingRegressor()"
      ]
    },
    {
      "cell_type": "code",
      "execution_count": null,
      "metadata": {
        "id": "hmXL1VaAnbFI"
      },
      "outputs": [],
      "source": [
        "Parameters = {'learning_rate': [0.01,0.02,0.03,0.04],\n",
        "                  'subsample'    : [0.9, 0.5, 0.2, 0.1],\n",
        "                  'n_estimators' : [100,500],\n",
        "                  'max_depth'    : [4,6,8,10]\n",
        "                 }"
      ]
    },
    {
      "cell_type": "code",
      "execution_count": null,
      "metadata": {
        "id": "djuYETsEndfr"
      },
      "outputs": [],
      "source": [
        "grid = GridSearchCV(estimator=model, param_grid = Parameters, cv = 2, n_jobs=-1)\n"
      ]
    },
    {
      "cell_type": "code",
      "execution_count": null,
      "metadata": {
        "colab": {
          "base_uri": "https://localhost:8080/"
        },
        "id": "pmW0bUgnnlYo",
        "outputId": "debaa30e-c7a1-4f39-94f6-1b35d31e58d0"
      },
      "outputs": [
        {
          "output_type": "stream",
          "name": "stderr",
          "text": [
            "/usr/local/lib/python3.7/dist-packages/sklearn/ensemble/_gb.py:494: DataConversionWarning: A column-vector y was passed when a 1d array was expected. Please change the shape of y to (n_samples, ), for example using ravel().\n",
            "  y = column_or_1d(y, warn=True)\n"
          ]
        },
        {
          "output_type": "execute_result",
          "data": {
            "text/plain": [
              "GridSearchCV(cv=2, estimator=GradientBoostingRegressor(), n_jobs=-1,\n",
              "             param_grid={'learning_rate': [0.01, 0.02, 0.03, 0.04],\n",
              "                         'max_depth': [4, 6, 8, 10], 'n_estimators': [100, 500],\n",
              "                         'subsample': [0.9, 0.5, 0.2, 0.1]})"
            ]
          },
          "metadata": {},
          "execution_count": 40
        }
      ],
      "source": [
        "grid.fit(X_train,y_train)"
      ]
    },
    {
      "cell_type": "code",
      "execution_count": null,
      "metadata": {
        "colab": {
          "base_uri": "https://localhost:8080/"
        },
        "id": "ZB2IKyVmM1s9",
        "outputId": "0ad317f8-f44e-4a7d-aee6-b7bdf2cf95bc"
      },
      "outputs": [
        {
          "output_type": "stream",
          "name": "stdout",
          "text": [
            " Results from Grid Search \n",
            "\n",
            " The best estimator across ALL searched params:\n",
            " GradientBoostingRegressor(learning_rate=0.02, max_depth=10, n_estimators=500,\n",
            "                          subsample=0.5)\n",
            "\n",
            " The best score across ALL searched params:\n",
            " 0.9422909132220267\n",
            "\n",
            " The best parameters across ALL searched params:\n",
            " {'learning_rate': 0.02, 'max_depth': 10, 'n_estimators': 500, 'subsample': 0.5}\n"
          ]
        }
      ],
      "source": [
        "print(\" Results from Grid Search \" )\n",
        "print(\"\\n The best estimator across ALL searched params:\\n\",grid.best_estimator_)\n",
        "print(\"\\n The best score across ALL searched params:\\n\",grid.best_score_)\n",
        "print(\"\\n The best parameters across ALL searched params:\\n\",grid.best_params_)\n"
      ]
    },
    {
      "cell_type": "code",
      "execution_count": null,
      "metadata": {
        "id": "VHbTEWZmrkpf"
      },
      "outputs": [],
      "source": [
        "from sklearn.metrics import mean_squared_error # for calculating the cost function\n",
        "rmse=float(format(np.sqrt(mean_squared_error(y_pred,y_test)),'.3f'))"
      ]
    },
    {
      "cell_type": "code",
      "execution_count": null,
      "metadata": {
        "colab": {
          "base_uri": "https://localhost:8080/"
        },
        "id": "U7ELYkReroX4",
        "outputId": "35255619-5c5d-41ad-c4ef-43eb5b4ad3af"
      },
      "outputs": [
        {
          "output_type": "execute_result",
          "data": {
            "text/plain": [
              "12.144"
            ]
          },
          "metadata": {},
          "execution_count": 43
        }
      ],
      "source": [
        "rmse"
      ]
    },
    {
      "cell_type": "code",
      "execution_count": null,
      "metadata": {
        "id": "y3ykNhalrs-r"
      },
      "outputs": [],
      "source": [
        "# above model provides RMSE :12.143 by using all the features"
      ]
    },
    {
      "cell_type": "code",
      "execution_count": null,
      "metadata": {
        "id": "YzotkHATtCwc"
      },
      "outputs": [],
      "source": [
        "X=dataset[['FM_DOUT_TEMP','STRIP_EXIT_LEN','C','NB','COILING_TEMP','MN','P','TI','CR','SI','FM_EXIT_THIK','GRADE','N']]"
      ]
    },
    {
      "cell_type": "code",
      "execution_count": null,
      "metadata": {
        "colab": {
          "base_uri": "https://localhost:8080/",
          "height": 250
        },
        "id": "QGcmgbRfubWd",
        "outputId": "1f381838-269f-4f2c-b4d6-6e22218588c3"
      },
      "outputs": [
        {
          "output_type": "execute_result",
          "data": {
            "text/plain": [
              "   FM_DOUT_TEMP  STRIP_EXIT_LEN       C     NB  COILING_TEMP    MN      P  \\\n",
              "0           869           69.81  0.0335  0.001           680  0.20  0.018   \n",
              "1           838           68.63  0.0385  0.001           662  0.23  0.014   \n",
              "2           882           66.08  0.2809  0.001           611  1.35  0.015   \n",
              "3           864           51.94  0.1554  0.001           603  0.75  0.021   \n",
              "4           848           61.23  0.0610  0.001           650  0.32  0.015   \n",
              "\n",
              "      TI     CR     SI  FM_EXIT_THIK  GRADE       N  \n",
              "0  0.001  0.018  0.004          1.99      0  0.0025  \n",
              "1  0.001  0.016  0.007          2.05      0  0.0022  \n",
              "2  0.002  0.020  0.164          2.49     12  0.0070  \n",
              "3  0.002  0.022  0.099          4.99     14  0.0035  \n",
              "4  0.001  0.015  0.006          2.31      7  0.0032  "
            ],
            "text/html": [
              "\n",
              "  <div id=\"df-88390035-a485-4bb6-ad09-6f2067302ea9\">\n",
              "    <div class=\"colab-df-container\">\n",
              "      <div>\n",
              "<style scoped>\n",
              "    .dataframe tbody tr th:only-of-type {\n",
              "        vertical-align: middle;\n",
              "    }\n",
              "\n",
              "    .dataframe tbody tr th {\n",
              "        vertical-align: top;\n",
              "    }\n",
              "\n",
              "    .dataframe thead th {\n",
              "        text-align: right;\n",
              "    }\n",
              "</style>\n",
              "<table border=\"1\" class=\"dataframe\">\n",
              "  <thead>\n",
              "    <tr style=\"text-align: right;\">\n",
              "      <th></th>\n",
              "      <th>FM_DOUT_TEMP</th>\n",
              "      <th>STRIP_EXIT_LEN</th>\n",
              "      <th>C</th>\n",
              "      <th>NB</th>\n",
              "      <th>COILING_TEMP</th>\n",
              "      <th>MN</th>\n",
              "      <th>P</th>\n",
              "      <th>TI</th>\n",
              "      <th>CR</th>\n",
              "      <th>SI</th>\n",
              "      <th>FM_EXIT_THIK</th>\n",
              "      <th>GRADE</th>\n",
              "      <th>N</th>\n",
              "    </tr>\n",
              "  </thead>\n",
              "  <tbody>\n",
              "    <tr>\n",
              "      <th>0</th>\n",
              "      <td>869</td>\n",
              "      <td>69.81</td>\n",
              "      <td>0.0335</td>\n",
              "      <td>0.001</td>\n",
              "      <td>680</td>\n",
              "      <td>0.20</td>\n",
              "      <td>0.018</td>\n",
              "      <td>0.001</td>\n",
              "      <td>0.018</td>\n",
              "      <td>0.004</td>\n",
              "      <td>1.99</td>\n",
              "      <td>0</td>\n",
              "      <td>0.0025</td>\n",
              "    </tr>\n",
              "    <tr>\n",
              "      <th>1</th>\n",
              "      <td>838</td>\n",
              "      <td>68.63</td>\n",
              "      <td>0.0385</td>\n",
              "      <td>0.001</td>\n",
              "      <td>662</td>\n",
              "      <td>0.23</td>\n",
              "      <td>0.014</td>\n",
              "      <td>0.001</td>\n",
              "      <td>0.016</td>\n",
              "      <td>0.007</td>\n",
              "      <td>2.05</td>\n",
              "      <td>0</td>\n",
              "      <td>0.0022</td>\n",
              "    </tr>\n",
              "    <tr>\n",
              "      <th>2</th>\n",
              "      <td>882</td>\n",
              "      <td>66.08</td>\n",
              "      <td>0.2809</td>\n",
              "      <td>0.001</td>\n",
              "      <td>611</td>\n",
              "      <td>1.35</td>\n",
              "      <td>0.015</td>\n",
              "      <td>0.002</td>\n",
              "      <td>0.020</td>\n",
              "      <td>0.164</td>\n",
              "      <td>2.49</td>\n",
              "      <td>12</td>\n",
              "      <td>0.0070</td>\n",
              "    </tr>\n",
              "    <tr>\n",
              "      <th>3</th>\n",
              "      <td>864</td>\n",
              "      <td>51.94</td>\n",
              "      <td>0.1554</td>\n",
              "      <td>0.001</td>\n",
              "      <td>603</td>\n",
              "      <td>0.75</td>\n",
              "      <td>0.021</td>\n",
              "      <td>0.002</td>\n",
              "      <td>0.022</td>\n",
              "      <td>0.099</td>\n",
              "      <td>4.99</td>\n",
              "      <td>14</td>\n",
              "      <td>0.0035</td>\n",
              "    </tr>\n",
              "    <tr>\n",
              "      <th>4</th>\n",
              "      <td>848</td>\n",
              "      <td>61.23</td>\n",
              "      <td>0.0610</td>\n",
              "      <td>0.001</td>\n",
              "      <td>650</td>\n",
              "      <td>0.32</td>\n",
              "      <td>0.015</td>\n",
              "      <td>0.001</td>\n",
              "      <td>0.015</td>\n",
              "      <td>0.006</td>\n",
              "      <td>2.31</td>\n",
              "      <td>7</td>\n",
              "      <td>0.0032</td>\n",
              "    </tr>\n",
              "  </tbody>\n",
              "</table>\n",
              "</div>\n",
              "      <button class=\"colab-df-convert\" onclick=\"convertToInteractive('df-88390035-a485-4bb6-ad09-6f2067302ea9')\"\n",
              "              title=\"Convert this dataframe to an interactive table.\"\n",
              "              style=\"display:none;\">\n",
              "        \n",
              "  <svg xmlns=\"http://www.w3.org/2000/svg\" height=\"24px\"viewBox=\"0 0 24 24\"\n",
              "       width=\"24px\">\n",
              "    <path d=\"M0 0h24v24H0V0z\" fill=\"none\"/>\n",
              "    <path d=\"M18.56 5.44l.94 2.06.94-2.06 2.06-.94-2.06-.94-.94-2.06-.94 2.06-2.06.94zm-11 1L8.5 8.5l.94-2.06 2.06-.94-2.06-.94L8.5 2.5l-.94 2.06-2.06.94zm10 10l.94 2.06.94-2.06 2.06-.94-2.06-.94-.94-2.06-.94 2.06-2.06.94z\"/><path d=\"M17.41 7.96l-1.37-1.37c-.4-.4-.92-.59-1.43-.59-.52 0-1.04.2-1.43.59L10.3 9.45l-7.72 7.72c-.78.78-.78 2.05 0 2.83L4 21.41c.39.39.9.59 1.41.59.51 0 1.02-.2 1.41-.59l7.78-7.78 2.81-2.81c.8-.78.8-2.07 0-2.86zM5.41 20L4 18.59l7.72-7.72 1.47 1.35L5.41 20z\"/>\n",
              "  </svg>\n",
              "      </button>\n",
              "      \n",
              "  <style>\n",
              "    .colab-df-container {\n",
              "      display:flex;\n",
              "      flex-wrap:wrap;\n",
              "      gap: 12px;\n",
              "    }\n",
              "\n",
              "    .colab-df-convert {\n",
              "      background-color: #E8F0FE;\n",
              "      border: none;\n",
              "      border-radius: 50%;\n",
              "      cursor: pointer;\n",
              "      display: none;\n",
              "      fill: #1967D2;\n",
              "      height: 32px;\n",
              "      padding: 0 0 0 0;\n",
              "      width: 32px;\n",
              "    }\n",
              "\n",
              "    .colab-df-convert:hover {\n",
              "      background-color: #E2EBFA;\n",
              "      box-shadow: 0px 1px 2px rgba(60, 64, 67, 0.3), 0px 1px 3px 1px rgba(60, 64, 67, 0.15);\n",
              "      fill: #174EA6;\n",
              "    }\n",
              "\n",
              "    [theme=dark] .colab-df-convert {\n",
              "      background-color: #3B4455;\n",
              "      fill: #D2E3FC;\n",
              "    }\n",
              "\n",
              "    [theme=dark] .colab-df-convert:hover {\n",
              "      background-color: #434B5C;\n",
              "      box-shadow: 0px 1px 3px 1px rgba(0, 0, 0, 0.15);\n",
              "      filter: drop-shadow(0px 1px 2px rgba(0, 0, 0, 0.3));\n",
              "      fill: #FFFFFF;\n",
              "    }\n",
              "  </style>\n",
              "\n",
              "      <script>\n",
              "        const buttonEl =\n",
              "          document.querySelector('#df-88390035-a485-4bb6-ad09-6f2067302ea9 button.colab-df-convert');\n",
              "        buttonEl.style.display =\n",
              "          google.colab.kernel.accessAllowed ? 'block' : 'none';\n",
              "\n",
              "        async function convertToInteractive(key) {\n",
              "          const element = document.querySelector('#df-88390035-a485-4bb6-ad09-6f2067302ea9');\n",
              "          const dataTable =\n",
              "            await google.colab.kernel.invokeFunction('convertToInteractive',\n",
              "                                                     [key], {});\n",
              "          if (!dataTable) return;\n",
              "\n",
              "          const docLinkHtml = 'Like what you see? Visit the ' +\n",
              "            '<a target=\"_blank\" href=https://colab.research.google.com/notebooks/data_table.ipynb>data table notebook</a>'\n",
              "            + ' to learn more about interactive tables.';\n",
              "          element.innerHTML = '';\n",
              "          dataTable['output_type'] = 'display_data';\n",
              "          await google.colab.output.renderOutput(dataTable, element);\n",
              "          const docLink = document.createElement('div');\n",
              "          docLink.innerHTML = docLinkHtml;\n",
              "          element.appendChild(docLink);\n",
              "        }\n",
              "      </script>\n",
              "    </div>\n",
              "  </div>\n",
              "  "
            ]
          },
          "metadata": {},
          "execution_count": 46
        }
      ],
      "source": [
        "X.head()"
      ]
    },
    {
      "cell_type": "code",
      "execution_count": null,
      "metadata": {
        "id": "pwLJg02GvylP"
      },
      "outputs": [],
      "source": [
        "y=dataset[['UTS']].values"
      ]
    },
    {
      "cell_type": "code",
      "execution_count": null,
      "metadata": {
        "colab": {
          "base_uri": "https://localhost:8080/"
        },
        "id": "-XSQ9uXKv_go",
        "outputId": "5c0722ce-2a3b-4bf0-d2df-2a7cc2038e01"
      },
      "outputs": [
        {
          "output_type": "execute_result",
          "data": {
            "text/plain": [
              "array([[346],\n",
              "       [365],\n",
              "       [730],\n",
              "       ...,\n",
              "       [389],\n",
              "       [405],\n",
              "       [486]])"
            ]
          },
          "metadata": {},
          "execution_count": 48
        }
      ],
      "source": [
        "y"
      ]
    },
    {
      "cell_type": "code",
      "execution_count": null,
      "metadata": {
        "id": "Bx0rjBrpwDlF"
      },
      "outputs": [],
      "source": [
        "# splitting the dataset into training and test data"
      ]
    },
    {
      "cell_type": "code",
      "execution_count": null,
      "metadata": {
        "id": "4sK28wizwNG7"
      },
      "outputs": [],
      "source": [
        "from sklearn.model_selection import train_test_split"
      ]
    },
    {
      "cell_type": "code",
      "execution_count": null,
      "metadata": {
        "id": "Kgq6x-GRwYNp"
      },
      "outputs": [],
      "source": [
        "X_train,X_test,y_train,y_test=train_test_split(X,y,test_size=0.2,random_state=0)\n",
        "params = {\n",
        "    \"n_estimators\": 500,\n",
        "    \"max_depth\": 4,\n",
        "    \"min_samples_split\": 5,\n",
        "    \"learning_rate\": 0.01,\n",
        "    \"loss\": \"squared_error\",\n",
        "}"
      ]
    },
    {
      "cell_type": "code",
      "execution_count": null,
      "metadata": {
        "colab": {
          "base_uri": "https://localhost:8080/"
        },
        "id": "TAD0b9VEwulm",
        "outputId": "562dfb51-3cc6-49a5-e805-ae4c91551a57"
      },
      "outputs": [
        {
          "output_type": "execute_result",
          "data": {
            "text/plain": [
              "(32771, 13)"
            ]
          },
          "metadata": {},
          "execution_count": 52
        }
      ],
      "source": [
        "X_train.shape"
      ]
    },
    {
      "cell_type": "code",
      "execution_count": null,
      "metadata": {
        "colab": {
          "base_uri": "https://localhost:8080/"
        },
        "id": "TLVfkJGHw2Xh",
        "outputId": "2b27825d-3978-4eb5-e341-510061c2bacb"
      },
      "outputs": [
        {
          "output_type": "execute_result",
          "data": {
            "text/plain": [
              "(8193, 13)"
            ]
          },
          "metadata": {},
          "execution_count": 53
        }
      ],
      "source": [
        "X_test.shape"
      ]
    },
    {
      "cell_type": "code",
      "execution_count": null,
      "metadata": {
        "colab": {
          "base_uri": "https://localhost:8080/"
        },
        "id": "bpRkwlEXw7JS",
        "outputId": "64f8c6c4-a88b-4af3-e092-6f2c8b1adffc"
      },
      "outputs": [
        {
          "output_type": "execute_result",
          "data": {
            "text/plain": [
              "(32771, 1)"
            ]
          },
          "metadata": {},
          "execution_count": 54
        }
      ],
      "source": [
        "y_train.shape"
      ]
    },
    {
      "cell_type": "code",
      "execution_count": null,
      "metadata": {
        "colab": {
          "base_uri": "https://localhost:8080/"
        },
        "id": "6i1tXYWqxC2z",
        "outputId": "3d33ea4a-bc65-4f3b-c8ba-60ff84a04b9a"
      },
      "outputs": [
        {
          "output_type": "execute_result",
          "data": {
            "text/plain": [
              "(8193, 1)"
            ]
          },
          "metadata": {},
          "execution_count": 55
        }
      ],
      "source": [
        "y_test.shape"
      ]
    },
    {
      "cell_type": "code",
      "execution_count": null,
      "metadata": {
        "id": "MoNz1DhfxGxY"
      },
      "outputs": [],
      "source": [
        "# prediction model building:gradient_boosting_model"
      ]
    },
    {
      "cell_type": "code",
      "execution_count": null,
      "metadata": {
        "id": "adA50RxwxkHP"
      },
      "outputs": [],
      "source": [
        "import pandas as pd"
      ]
    },
    {
      "cell_type": "code",
      "execution_count": null,
      "metadata": {
        "id": "u_f9ll7rxxzR"
      },
      "outputs": [],
      "source": [
        "import numpy as np"
      ]
    },
    {
      "cell_type": "code",
      "execution_count": null,
      "metadata": {
        "id": "TiKKmZ4ex1NA"
      },
      "outputs": [],
      "source": [
        "from sklearn.ensemble import GradientBoostingRegressor"
      ]
    },
    {
      "cell_type": "code",
      "execution_count": null,
      "metadata": {
        "id": "ctHSyv4Ux_dm"
      },
      "outputs": [],
      "source": [
        "from sklearn.preprocessing import LabelEncoder"
      ]
    },
    {
      "cell_type": "code",
      "execution_count": null,
      "metadata": {
        "id": "Z7cS1aQayJKP"
      },
      "outputs": [],
      "source": [
        "# we will now see the effect of different number of estimators on mse"
      ]
    },
    {
      "cell_type": "code",
      "execution_count": null,
      "metadata": {
        "id": "pzkIHRoXyeY7"
      },
      "outputs": [],
      "source": [
        "GB=GradientBoostingRegressor(**params)"
      ]
    },
    {
      "cell_type": "code",
      "execution_count": null,
      "metadata": {
        "colab": {
          "base_uri": "https://localhost:8080/"
        },
        "id": "6uXDe1E8ypWm",
        "outputId": "46428447-d76a-4a9c-b08e-dcd029a093e4"
      },
      "outputs": [
        {
          "output_type": "stream",
          "name": "stderr",
          "text": [
            "/usr/local/lib/python3.7/dist-packages/sklearn/ensemble/_gb.py:494: DataConversionWarning: A column-vector y was passed when a 1d array was expected. Please change the shape of y to (n_samples, ), for example using ravel().\n",
            "  y = column_or_1d(y, warn=True)\n"
          ]
        },
        {
          "output_type": "execute_result",
          "data": {
            "text/plain": [
              "GradientBoostingRegressor(learning_rate=0.01, max_depth=4, min_samples_split=5,\n",
              "                          n_estimators=500)"
            ]
          },
          "metadata": {},
          "execution_count": 63
        }
      ],
      "source": [
        "GB.fit(X_train,y_train)"
      ]
    },
    {
      "cell_type": "code",
      "execution_count": null,
      "metadata": {
        "id": "eErJ_b8Ty4Er"
      },
      "outputs": [],
      "source": [
        "y_pred=GB.predict(X_test)"
      ]
    },
    {
      "cell_type": "code",
      "execution_count": null,
      "metadata": {
        "colab": {
          "base_uri": "https://localhost:8080/"
        },
        "id": "p3iZg-fTzbLP",
        "outputId": "5eac600e-1771-4966-d88a-226e960819fe"
      },
      "outputs": [
        {
          "output_type": "execute_result",
          "data": {
            "text/plain": [
              "array([358.83472805, 360.16661077, 475.95476673, ..., 393.71790379,\n",
              "       386.12649494, 361.93217298])"
            ]
          },
          "metadata": {},
          "execution_count": 65
        }
      ],
      "source": [
        "y_pred"
      ]
    },
    {
      "cell_type": "code",
      "execution_count": null,
      "metadata": {
        "colab": {
          "base_uri": "https://localhost:8080/"
        },
        "id": "5Kb9lm2xOBYm",
        "outputId": "7db669f6-e333-46dc-e315-01facb65c6bd"
      },
      "outputs": [
        {
          "output_type": "execute_result",
          "data": {
            "text/plain": [
              "0.932386139119775"
            ]
          },
          "metadata": {},
          "execution_count": 66
        }
      ],
      "source": [
        "GB.score(X_test, y_test)"
      ]
    },
    {
      "cell_type": "code",
      "execution_count": null,
      "metadata": {
        "id": "G0GNAt_7zukL"
      },
      "outputs": [],
      "source": [
        "from sklearn.metrics import mean_squared_error"
      ]
    },
    {
      "cell_type": "code",
      "execution_count": null,
      "metadata": {
        "id": "0FGRPuhD018C"
      },
      "outputs": [],
      "source": [
        "rmse=float(format(np.sqrt(mean_squared_error(y_pred,y_test)),'3f'))"
      ]
    },
    {
      "cell_type": "code",
      "execution_count": null,
      "metadata": {
        "colab": {
          "base_uri": "https://localhost:8080/"
        },
        "id": "2Qc95JLw3dag",
        "outputId": "3b754d3b-ed39-446b-950e-8399a87c51a2"
      },
      "outputs": [
        {
          "output_type": "execute_result",
          "data": {
            "text/plain": [
              "12.179212"
            ]
          },
          "metadata": {},
          "execution_count": 69
        }
      ],
      "source": [
        "rmse"
      ]
    },
    {
      "cell_type": "code",
      "execution_count": null,
      "metadata": {
        "colab": {
          "base_uri": "https://localhost:8080/"
        },
        "id": "WwV3Nf_CRGeH",
        "outputId": "2529e855-1856-4cb6-907e-a71b55b8cb22"
      },
      "outputs": [
        {
          "output_type": "stream",
          "name": "stderr",
          "text": [
            "/usr/local/lib/python3.7/dist-packages/sklearn/ensemble/_gb.py:494: DataConversionWarning: A column-vector y was passed when a 1d array was expected. Please change the shape of y to (n_samples, ), for example using ravel().\n",
            "  y = column_or_1d(y, warn=True)\n",
            "/usr/local/lib/python3.7/dist-packages/sklearn/ensemble/_gb.py:494: DataConversionWarning: A column-vector y was passed when a 1d array was expected. Please change the shape of y to (n_samples, ), for example using ravel().\n",
            "  y = column_or_1d(y, warn=True)\n",
            "/usr/local/lib/python3.7/dist-packages/sklearn/ensemble/_gb.py:494: DataConversionWarning: A column-vector y was passed when a 1d array was expected. Please change the shape of y to (n_samples, ), for example using ravel().\n",
            "  y = column_or_1d(y, warn=True)\n",
            "/usr/local/lib/python3.7/dist-packages/sklearn/ensemble/_gb.py:494: DataConversionWarning: A column-vector y was passed when a 1d array was expected. Please change the shape of y to (n_samples, ), for example using ravel().\n",
            "  y = column_or_1d(y, warn=True)\n",
            "/usr/local/lib/python3.7/dist-packages/sklearn/ensemble/_gb.py:494: DataConversionWarning: A column-vector y was passed when a 1d array was expected. Please change the shape of y to (n_samples, ), for example using ravel().\n",
            "  y = column_or_1d(y, warn=True)\n",
            "/usr/local/lib/python3.7/dist-packages/sklearn/ensemble/_gb.py:494: DataConversionWarning: A column-vector y was passed when a 1d array was expected. Please change the shape of y to (n_samples, ), for example using ravel().\n",
            "  y = column_or_1d(y, warn=True)\n",
            "/usr/local/lib/python3.7/dist-packages/sklearn/ensemble/_gb.py:494: DataConversionWarning: A column-vector y was passed when a 1d array was expected. Please change the shape of y to (n_samples, ), for example using ravel().\n",
            "  y = column_or_1d(y, warn=True)\n",
            "/usr/local/lib/python3.7/dist-packages/sklearn/ensemble/_gb.py:494: DataConversionWarning: A column-vector y was passed when a 1d array was expected. Please change the shape of y to (n_samples, ), for example using ravel().\n",
            "  y = column_or_1d(y, warn=True)\n"
          ]
        },
        {
          "output_type": "stream",
          "name": "stdout",
          "text": [
            "Mean_GB_Acc :  0.9319964036886716\n"
          ]
        }
      ],
      "source": [
        "from sklearn.model_selection import cross_val_score\n",
        "GB_accuracies = cross_val_score(estimator = GB, X = X_train, y = y_train, cv = 8)\n",
        "print(\"Mean_GB_Acc : \", GB_accuracies.mean())"
      ]
    },
    {
      "cell_type": "code",
      "execution_count": null,
      "metadata": {
        "id": "GJ9eFiXO3ezb"
      },
      "outputs": [],
      "source": [
        "# finding the best estimators with grid searchcv"
      ]
    },
    {
      "cell_type": "code",
      "execution_count": null,
      "metadata": {
        "id": "ciRsEqTC4chV"
      },
      "outputs": [],
      "source": [
        "from sklearn.model_selection import GridSearchCV"
      ]
    },
    {
      "cell_type": "code",
      "execution_count": null,
      "metadata": {
        "id": "n0-7CsZt4nJu"
      },
      "outputs": [],
      "source": [
        "model=GradientBoostingRegressor()"
      ]
    },
    {
      "cell_type": "code",
      "execution_count": null,
      "metadata": {
        "id": "0wF-4TtOXirN"
      },
      "outputs": [],
      "source": [
        "Parameters = {'learning_rate': [0.01,0.02,0.03,0.04],\n",
        "                  'subsample'    : [0.9, 0.5, 0.2, 0.1],\n",
        "                  'n_estimators' : [100,500],\n",
        "                  'max_depth'    : [4,6,8,10]\n",
        "                 }"
      ]
    },
    {
      "cell_type": "code",
      "execution_count": null,
      "metadata": {
        "id": "5STFh5d9Xs1D"
      },
      "outputs": [],
      "source": [
        "grid = GridSearchCV(estimator=model, param_grid = Parameters, cv = 2, n_jobs=-1)"
      ]
    },
    {
      "cell_type": "code",
      "execution_count": null,
      "metadata": {
        "colab": {
          "base_uri": "https://localhost:8080/"
        },
        "id": "gfH_ynR8Xv5V",
        "outputId": "95c8ca24-d932-4f2f-e616-1240d73cef04"
      },
      "outputs": [
        {
          "output_type": "stream",
          "name": "stderr",
          "text": [
            "/usr/local/lib/python3.7/dist-packages/sklearn/ensemble/_gb.py:494: DataConversionWarning: A column-vector y was passed when a 1d array was expected. Please change the shape of y to (n_samples, ), for example using ravel().\n",
            "  y = column_or_1d(y, warn=True)\n"
          ]
        },
        {
          "output_type": "execute_result",
          "data": {
            "text/plain": [
              "GridSearchCV(cv=2, estimator=GradientBoostingRegressor(), n_jobs=-1,\n",
              "             param_grid={'learning_rate': [0.01, 0.02, 0.03, 0.04],\n",
              "                         'max_depth': [4, 6, 8, 10], 'n_estimators': [100, 500],\n",
              "                         'subsample': [0.9, 0.5, 0.2, 0.1]})"
            ]
          },
          "metadata": {},
          "execution_count": 76
        }
      ],
      "source": [
        "grid.fit(X_train,y_train)"
      ]
    },
    {
      "cell_type": "code",
      "execution_count": null,
      "metadata": {
        "colab": {
          "base_uri": "https://localhost:8080/"
        },
        "id": "pVEDTf5-4w-3",
        "outputId": "be7d173d-6351-4a69-ed47-ffe634ea1a5d"
      },
      "outputs": [
        {
          "output_type": "stream",
          "name": "stdout",
          "text": [
            " Results from Grid Search \n",
            "\n",
            " The best estimator across ALL searched params:\n",
            " GradientBoostingRegressor(learning_rate=0.02, max_depth=10, n_estimators=500,\n",
            "                          subsample=0.5)\n",
            "\n",
            " The best score across ALL searched params:\n",
            " 0.940360288184851\n",
            "\n",
            " The best parameters across ALL searched params:\n",
            " {'learning_rate': 0.02, 'max_depth': 10, 'n_estimators': 500, 'subsample': 0.5}\n"
          ]
        }
      ],
      "source": [
        "print(\" Results from Grid Search \" )\n",
        "print(\"\\n The best estimator across ALL searched params:\\n\",grid.best_estimator_)\n",
        "print(\"\\n The best score across ALL searched params:\\n\",grid.best_score_)\n",
        "print(\"\\n The best parameters across ALL searched params:\\n\",grid.best_params_)\n"
      ]
    },
    {
      "cell_type": "code",
      "execution_count": null,
      "metadata": {
        "id": "Qt7lX0tV8DcP"
      },
      "outputs": [],
      "source": [
        "from sklearn.metrics import mean_squared_error\n",
        "# for calculating the cost function"
      ]
    },
    {
      "cell_type": "code",
      "source": [
        "from sklearn.metrics import mean_absolute_error"
      ],
      "metadata": {
        "id": "tK4akSYnaLzE"
      },
      "execution_count": null,
      "outputs": []
    },
    {
      "cell_type": "code",
      "source": [
        "mean_absolute_error(y_test, y_pred)"
      ],
      "metadata": {
        "colab": {
          "base_uri": "https://localhost:8080/"
        },
        "id": "jA3AXnl1aL5v",
        "outputId": "a6e68f3c-8b7f-4105-8aaa-ba84e4c5c5e7"
      },
      "execution_count": null,
      "outputs": [
        {
          "output_type": "execute_result",
          "data": {
            "text/plain": [
              "8.511939102748977"
            ]
          },
          "metadata": {},
          "execution_count": 86
        }
      ]
    },
    {
      "cell_type": "code",
      "source": [
        "from sklearn.metrics import mean_squared_error"
      ],
      "metadata": {
        "id": "dLeken1VaL-i"
      },
      "execution_count": null,
      "outputs": []
    },
    {
      "cell_type": "code",
      "source": [
        "mean_squared_error(y_test, y_pred)"
      ],
      "metadata": {
        "colab": {
          "base_uri": "https://localhost:8080/"
        },
        "id": "ojtD5sYqagW-",
        "outputId": "45380509-8989-451d-c029-8b0ab4b9d343"
      },
      "execution_count": null,
      "outputs": [
        {
          "output_type": "execute_result",
          "data": {
            "text/plain": [
              "148.3332025120752"
            ]
          },
          "metadata": {},
          "execution_count": 88
        }
      ]
    },
    {
      "cell_type": "code",
      "execution_count": null,
      "metadata": {
        "id": "PtyKJzyH8YXj"
      },
      "outputs": [],
      "source": [
        "rmse=float(format(np.sqrt(mean_squared_error(y_pred,y_test)),'.3f'))"
      ]
    },
    {
      "cell_type": "code",
      "execution_count": null,
      "metadata": {
        "colab": {
          "base_uri": "https://localhost:8080/"
        },
        "id": "O3azsKjc8v_N",
        "outputId": "db05fc79-e0f3-4688-f0fa-914dd4e3772d"
      },
      "outputs": [
        {
          "output_type": "execute_result",
          "data": {
            "text/plain": [
              "12.179"
            ]
          },
          "metadata": {},
          "execution_count": 90
        }
      ],
      "source": [
        "rmse"
      ]
    },
    {
      "cell_type": "code",
      "source": [
        "fig, ax = plt.subplots()\n",
        "ax.scatter(y_test, y_pred)\n",
        "ax.plot([y.min(), y.max()], [y.min(), y.max()], 'k--', lw=4)\n",
        "ax.set_xlabel('Measured')\n",
        "ax.set_ylabel('Predicted')\n",
        "plt.show()"
      ],
      "metadata": {
        "id": "N5Ha13uFatsB",
        "colab": {
          "base_uri": "https://localhost:8080/",
          "height": 281
        },
        "outputId": "6acf5eb8-fdbe-4fd8-8130-f511f9ca848f"
      },
      "execution_count": 91,
      "outputs": [
        {
          "output_type": "display_data",
          "data": {
            "text/plain": [
              "<Figure size 432x288 with 1 Axes>"
            ],
            "image/png": "[encoded data removed]"
          },
          "metadata": {
            "needs_background": "light"
          }
        }
      ]
    },
    {
      "cell_type": "code",
      "source": [
        ""
      ],
      "metadata": {
        "id": "o5tXcfRgcOcq"
      },
      "execution_count": null,
      "outputs": []
    }
  ],
  "metadata": {
    "colab": {
      "collapsed_sections": [],
      "name": "gradient_boosting_model_dataset2.ipynb",
      "provenance": []
    },
    "kernelspec": {
      "display_name": "Python 3",
      "name": "python3"
    },
    "language_info": {
      "name": "python"
    }
  },
  "nbformat": 4,
  "nbformat_minor": 0
}